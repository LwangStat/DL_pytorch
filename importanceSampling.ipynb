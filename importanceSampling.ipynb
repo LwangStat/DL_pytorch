{
    "cells": [
        {
            "cell_type": "code",
            "execution_count": 1,
            "metadata": {},
            "outputs": [],
            "source": [
                "import pandas as pd\n",
                "import numpy as np\n",
                "import xgboost as xgb"
            ]
        },
        {
            "cell_type": "code",
            "execution_count": 2,
            "metadata": {},
            "outputs": [
                {
                    "ename": "KeyboardInterrupt",
                    "evalue": "",
                    "output_type": "error",
                    "traceback": [
                        "\u001b[1;31m---------------------------------------------------------------------------\u001b[0m",
                        "\u001b[1;31mKeyboardInterrupt\u001b[0m                         Traceback (most recent call last)",
                        "\u001b[1;32m<ipython-input-2-708efda64bc8>\u001b[0m in \u001b[0;36m<module>\u001b[1;34m\u001b[0m\n\u001b[0;32m      4\u001b[0m \u001b[0my\u001b[0m \u001b[1;33m=\u001b[0m \u001b[0mnp\u001b[0m\u001b[1;33m.\u001b[0m\u001b[0mzeros\u001b[0m\u001b[1;33m(\u001b[0m\u001b[0mn\u001b[0m\u001b[1;33m)\u001b[0m\u001b[1;33m\u001b[0m\u001b[1;33m\u001b[0m\u001b[0m\n\u001b[0;32m      5\u001b[0m \u001b[1;32mfor\u001b[0m \u001b[0mi\u001b[0m \u001b[1;32min\u001b[0m \u001b[0mrange\u001b[0m\u001b[1;33m(\u001b[0m\u001b[0mn\u001b[0m\u001b[1;33m)\u001b[0m\u001b[1;33m:\u001b[0m\u001b[1;33m\u001b[0m\u001b[1;33m\u001b[0m\u001b[0m\n\u001b[1;32m----> 6\u001b[1;33m     \u001b[0my\u001b[0m\u001b[1;33m[\u001b[0m\u001b[0mi\u001b[0m\u001b[1;33m]\u001b[0m \u001b[1;33m=\u001b[0m \u001b[1;33m(\u001b[0m \u001b[0mint\u001b[0m\u001b[1;33m(\u001b[0m \u001b[0mnp\u001b[0m\u001b[1;33m.\u001b[0m\u001b[0mrandom\u001b[0m\u001b[1;33m.\u001b[0m\u001b[0mrand\u001b[0m\u001b[1;33m(\u001b[0m\u001b[1;33m)\u001b[0m \u001b[1;33m<\u001b[0m \u001b[0mx\u001b[0m\u001b[1;33m[\u001b[0m\u001b[0mi\u001b[0m\u001b[1;33m]\u001b[0m\u001b[1;33m)\u001b[0m \u001b[1;33m)\u001b[0m\u001b[1;33m\u001b[0m\u001b[1;33m\u001b[0m\u001b[0m\n\u001b[0m\u001b[0;32m      7\u001b[0m \u001b[0mx1\u001b[0m \u001b[1;33m=\u001b[0m \u001b[0mnp\u001b[0m\u001b[1;33m.\u001b[0m\u001b[0mrandom\u001b[0m\u001b[1;33m.\u001b[0m\u001b[0mrand\u001b[0m\u001b[1;33m(\u001b[0m\u001b[0mn\u001b[0m\u001b[1;33m)\u001b[0m\u001b[1;33m\u001b[0m\u001b[1;33m\u001b[0m\u001b[0m\n\u001b[0;32m      8\u001b[0m \u001b[0mx2\u001b[0m \u001b[1;33m=\u001b[0m \u001b[0mx\u001b[0m \u001b[1;33m-\u001b[0m \u001b[0mx1\u001b[0m\u001b[1;33m\u001b[0m\u001b[1;33m\u001b[0m\u001b[0m\n",
                        "\u001b[1;31mKeyboardInterrupt\u001b[0m: "
                    ]
                }
            ],
            "source": [
                "p = 1/0.0015\n",
                "n = 50000000\n",
                "x = np.random.rand(n)**p\n",
                "y = np.zeros(n)\n",
                "for i in range(n):\n",
                "    y[i] = ( int( np.random.rand() < x[i]) )\n",
                "x1 = np.random.rand(n)\n",
                "x2 = x - x1\n",
                "\n",
                "train = pd.DataFrame({'y': y, 'x': x, 'x1': x1, 'x2': x2})"
            ]
        },
        {
            "cell_type": "code",
            "execution_count": 270,
            "metadata": {},
            "outputs": [],
            "source": [
                "bin = np.floor(x*10)\n",
                "train[\"bin\"] = bin"
            ]
        },
        {
            "cell_type": "code",
            "execution_count": 271,
            "metadata": {},
            "outputs": [
                {
                    "data": {
                        "text/plain": [
                            "<AxesSubplot:xlabel='x', ylabel='Probability'>"
                        ]
                    },
                    "execution_count": 271,
                    "metadata": {},
                    "output_type": "execute_result"
                },
                {
                    "data": {
                        "image/png": "[encoded data removed]",
                        "text/plain": [
                            "<Figure size 432x288 with 1 Axes>"
                        ]
                    },
                    "metadata": {
                        "needs_background": "light"
                    },
                    "output_type": "display_data"
                }
            ],
            "source": [
                "sns.histplot(\n",
                "    train[y==1], x=\"x\", stat = \"probability\"\n",
                ")"
            ]
        },
        {
            "cell_type": "code",
            "execution_count": 272,
            "metadata": {},
            "outputs": [],
            "source": [
                "x_test = np.random.rand(n)**p\n",
                "y_test = np.zeros(n)\n",
                "for i in range(n):\n",
                "    y_test[i] = ( int( np.random.rand() < x_test[i]) )\n",
                "x1_test = np.random.rand(n)\n",
                "x2_test = x_test - x1_test\n",
                "\n",
                "test = pd.DataFrame({'y': y_test, 'x': x_test, 'x1': x1_test, 'x2': x2_test})"
            ]
        },
        {
            "cell_type": "code",
            "execution_count": 273,
            "metadata": {},
            "outputs": [
                {
                    "name": "stdout",
                    "output_type": "stream",
                    "text": [
                        "0.00150582\n",
                        "0.00346144\n"
                    ]
                }
            ],
            "source": [
                "print(np.mean(y))\n",
                "print(np.mean(x>0.1))\n"
            ]
        },
        {
            "cell_type": "code",
            "execution_count": 274,
            "metadata": {},
            "outputs": [
                {
                    "name": "stderr",
                    "output_type": "stream",
                    "text": [
                        "C:\\Users\\iamwl\\miniconda3\\envs\\myenv\\lib\\site-packages\\xgboost\\sklearn.py:888: UserWarning: The use of label encoder in XGBClassifier is deprecated and will be removed in a future release. To remove this warning, do the following: 1) Pass option use_label_encoder=False when constructing XGBClassifier object; and 2) Encode your labels (y) as integers starting with 0, i.e. 0, 1, 2, ..., [num_class - 1].\n",
                        "  warnings.warn(label_encoder_deprecation_msg, UserWarning)\n"
                    ]
                },
                {
                    "name": "stdout",
                    "output_type": "stream",
                    "text": [
                        "[22:35:14] WARNING: ..\\src\\learner.cc:1061: Starting in XGBoost 1.3.0, the default evaluation metric used with the objective 'binary:logistic' was changed from 'error' to 'logloss'. Explicitly set eval_metric if you'd like to restore the old behavior.\n"
                    ]
                },
                {
                    "data": {
                        "text/plain": [
                            "XGBClassifier(base_score=0.5, booster='gbtree', colsample_bylevel=1,\n",
                            "              colsample_bynode=1, colsample_bytree=1, gamma=0, gpu_id=-1,\n",
                            "              importance_type='gain', interaction_constraints='',\n",
                            "              learning_rate=0.1, max_delta_step=0, max_depth=5,\n",
                            "              min_child_weight=1, missing=nan, monotone_constraints='()',\n",
                            "              n_estimators=200, n_jobs=16, num_parallel_tree=1, random_state=0,\n",
                            "              reg_alpha=0, reg_lambda=1, scale_pos_weight=1, subsample=1,\n",
                            "              tree_method='approx', validate_parameters=1, verbosity=None)"
                        ]
                    },
                    "execution_count": 274,
                    "metadata": {},
                    "output_type": "execute_result"
                }
            ],
            "source": [
                "xgbModel = xgb.XGBClassifier( learning_rate = 0.1, max_depth = 5, n_estimators = 200)\n",
                "xgbModel.fit(train[['x1', 'x2']],train['y'])"
            ]
        },
        {
            "cell_type": "code",
            "execution_count": 275,
            "metadata": {},
            "outputs": [
                {
                    "data": {
                        "text/plain": [
                            "0.0015046893"
                        ]
                    },
                    "execution_count": 275,
                    "metadata": {},
                    "output_type": "execute_result"
                }
            ],
            "source": [
                "pred = xgbModel.predict_proba(test[['x1','x2']])[:,1]\n",
                "pred.mean()"
            ]
        },
        {
            "cell_type": "code",
            "execution_count": 276,
            "metadata": {},
            "outputs": [
                {
                    "name": "stderr",
                    "output_type": "stream",
                    "text": [
                        "C:\\Users\\iamwl\\miniconda3\\envs\\myenv\\lib\\site-packages\\ipykernel_launcher.py:12: DeprecationWarning: `np.bool` is a deprecated alias for the builtin `bool`. To silence this warning, use `bool` by itself. Doing this will not modify any behavior and is safe. If you specifically wanted the numpy scalar type, use `np.bool_` here.\n",
                        "Deprecated in NumPy 1.20; for more details and guidance: https://numpy.org/devdocs/release/1.20.0-notes.html#deprecations\n",
                        "  if sys.path[0] == '':\n"
                    ]
                },
                {
                    "name": "stdout",
                    "output_type": "stream",
                    "text": [
                        "0.0025 0.8119892465927482 60710.0 61549.367 125000.0 0.19983073\n",
                        "0.003 0.8629609319619618 64521.0 65794.19 150000.0 0.141359\n",
                        "0.005 0.9625235732341808 71965.0 71790.266 250000.0 0.007825376\n",
                        "0.01 0.9871066112054784 73803.0 71976.9 500000.0 0.0001769841\n"
                    ]
                }
            ],
            "source": [
                "p_hat = pred\n",
                "\n",
                "rank = (-p_hat).argsort()\n",
                "\n",
                "weight_test = np.array(y_test*0.0 + 1.0)\n",
                "\n",
                "cumSum_prob = np.cumsum(weight_test[rank])\n",
                "\n",
                "for rate in [.0025,.003,.005,.01]:\n",
                "    cur_os_vol = weight_test.sum()*rate\n",
                "    rank_os = rank[ cumSum_prob <= cur_os_vol]\n",
                "    new_os = np.zeros(len(y_test), dtype = np.bool)\n",
                "    new_os[rank_os] = 1\n",
                "    new_os_rate = weight_test[new_os].sum() / float(weight_test.sum())\n",
                "    new_os_bad_rate = np.array(y_test)[new_os].sum() / float(np.array(y_test).sum())\n",
                "    new_os_vol = weight_test[new_os].sum()\n",
                "    new_os_bad_vol = np.array(y_test)[new_os].sum()\n",
                "    new_os_pred_vol = np.array(p_hat)[new_os].sum()\n",
                "    cutoff = np.array(p_hat)[new_os].min()\n",
                "\n",
                "    print(new_os_rate, new_os_bad_rate, new_os_bad_vol, new_os_pred_vol, new_os_vol, cutoff)"
            ]
        },
        {
            "cell_type": "code",
            "execution_count": 304,
            "metadata": {},
            "outputs": [
                {
                    "name": "stdout",
                    "output_type": "stream",
                    "text": [
                        "[19:40:22] WARNING: ..\\src\\learner.cc:1061: Starting in XGBoost 1.3.0, the default evaluation metric used with the objective 'binary:logistic' was changed from 'error' to 'logloss'. Explicitly set eval_metric if you'd like to restore the old behavior.\n"
                    ]
                },
                {
                    "data": {
                        "text/plain": [
                            "XGBClassifier(base_score=0.5, booster='gbtree', colsample_bylevel=1,\n",
                            "              colsample_bynode=1, colsample_bytree=1, gamma=0, gpu_id=-1,\n",
                            "              importance_type='gain', interaction_constraints='',\n",
                            "              learning_rate=0.1, max_delta_step=0, max_depth=5,\n",
                            "              min_child_weight=1, missing=nan, monotone_constraints='()',\n",
                            "              n_estimators=400, n_jobs=16, num_parallel_tree=1, random_state=0,\n",
                            "              reg_alpha=0, reg_lambda=1, scale_pos_weight=1, subsample=1,\n",
                            "              tree_method='exact', validate_parameters=1, verbosity=None)"
                        ]
                    },
                    "execution_count": 304,
                    "metadata": {},
                    "output_type": "execute_result"
                }
            ],
            "source": [
                "sample_index = ((np.random.rand(n) < 0.01) & (y == 0)) | (y == 1)\n",
                "train_weight = np.array((1-y_test)*100.0 + y_test*1.0)[sample_index]\n",
                "\n",
                "xgbModel_s = xgb.XGBClassifier( learning_rate = 0.1, max_depth = 5, n_estimators = 400)\n",
                "xgbModel_s.fit(train[sample_index][['x1', 'x2']], train[sample_index]['y']\n",
                "#, sample_weight = train_weight\n",
                ")\n"
            ]
        },
        {
            "cell_type": "code",
            "execution_count": 306,
            "metadata": {},
            "outputs": [],
            "source": [
                "pred = xgbModel_s.predict_proba(test[['x1','x2']])[:,1]\n",
                "print(pred.mean())\n",
                "print((pred/(pred + (1-pred)*100)).mean())"
            ]
        },
        {
            "cell_type": "code",
            "execution_count": 305,
            "metadata": {},
            "outputs": [
                {
                    "name": "stderr",
                    "output_type": "stream",
                    "text": [
                        "C:\\Users\\iamwl\\miniconda3\\envs\\myenv\\lib\\site-packages\\ipykernel_launcher.py:12: DeprecationWarning: `np.bool` is a deprecated alias for the builtin `bool`. To silence this warning, use `bool` by itself. Doing this will not modify any behavior and is safe. If you specifically wanted the numpy scalar type, use `np.bool_` here.\n",
                        "Deprecated in NumPy 1.20; for more details and guidance: https://numpy.org/devdocs/release/1.20.0-notes.html#deprecations\n",
                        "  if sys.path[0] == '':\n"
                    ]
                },
                {
                    "name": "stdout",
                    "output_type": "stream",
                    "text": [
                        "0.0025 0.8090066473176669 60487.0 2877.9639 125000.0 0.002347455\n",
                        "0.003 0.8582529725681116 64169.0 2923.029 150000.0 0.001379441\n",
                        "0.005 0.9447751013147512 70638.0 2989.6304 250000.0 0.0002972605\n",
                        "0.01 0.9831208955822756 73505.0 3010.902 500000.0 1.4958311e-05\n"
                    ]
                }
            ],
            "source": [
                "p_hat = pred/(pred + (1-pred)*100)\n",
                "\n",
                "rank = (-p_hat).argsort()\n",
                "\n",
                "weight_test = np.array(y_test*0.0 + 1.0)\n",
                "\n",
                "cumSum_prob = np.cumsum(weight_test[rank])\n",
                "\n",
                "for rate in [.0025,.003,.005,.01]:\n",
                "    cur_os_vol = weight_test.sum()*rate\n",
                "    rank_os = rank[ cumSum_prob <= cur_os_vol]\n",
                "    new_os = np.zeros(len(y_test), dtype = np.bool)\n",
                "    new_os[rank_os] = 1\n",
                "    new_os_rate = weight_test[new_os].sum() / float(weight_test.sum())\n",
                "    new_os_bad_rate = np.array(y_test)[new_os].sum() / float(np.array(y_test).sum())\n",
                "    new_os_vol = weight_test[new_os].sum()\n",
                "    new_os_bad_vol = np.array(y_test)[new_os].sum()\n",
                "    new_os_pred_vol = np.array(p_hat)[new_os].sum()\n",
                "    cutoff = np.array(p_hat)[new_os].min()\n",
                "\n",
                "    print(new_os_rate, new_os_bad_rate, new_os_bad_vol, new_os_pred_vol, new_os_vol, cutoff)"
            ]
        },
        {
            "cell_type": "code",
            "execution_count": 300,
            "metadata": {},
            "outputs": [
                {
                    "data": {
                        "text/plain": [
                            "573692"
                        ]
                    },
                    "execution_count": 300,
                    "metadata": {},
                    "output_type": "execute_result"
                }
            ],
            "source": [
                "importance = np.minimum(np.ones(n), np.maximum(0.0001*np.ones(n), 750*x) ) \n",
                "sample_index = ((np.random.rand(n) < importance) & (y == 0)) | (y == 1)\n",
                "#sample_index = ((np.random.rand(n) < 0.01) & (y == 0)) | (y == 1)\n",
                "sample_index.sum()"
            ]
        },
        {
            "cell_type": "code",
            "execution_count": 301,
            "metadata": {},
            "outputs": [
                {
                    "name": "stdout",
                    "output_type": "stream",
                    "text": [
                        "[19:37:16] WARNING: ..\\src\\learner.cc:1061: Starting in XGBoost 1.3.0, the default evaluation metric used with the objective 'binary:logistic' was changed from 'error' to 'logloss'. Explicitly set eval_metric if you'd like to restore the old behavior.\n"
                    ]
                },
                {
                    "data": {
                        "text/plain": [
                            "XGBClassifier(base_score=0.5, booster='gbtree', colsample_bylevel=1,\n",
                            "              colsample_bynode=1, colsample_bytree=1, gamma=0, gpu_id=-1,\n",
                            "              importance_type='gain', interaction_constraints='',\n",
                            "              learning_rate=0.1, max_delta_step=0, max_depth=5,\n",
                            "              min_child_weight=1, missing=nan, monotone_constraints='()',\n",
                            "              n_estimators=200, n_jobs=16, num_parallel_tree=1, random_state=0,\n",
                            "              reg_alpha=0, reg_lambda=1, scale_pos_weight=1, subsample=1,\n",
                            "              tree_method='exact', validate_parameters=1, verbosity=None)"
                        ]
                    },
                    "execution_count": 301,
                    "metadata": {},
                    "output_type": "execute_result"
                }
            ],
            "source": [
                "train_weight = np.array((1-y_test)/importance + y_test*1.0)[sample_index]\n",
                "\n",
                "xgbModel_s2 = xgb.XGBClassifier( learning_rate = 0.1, max_depth = 5, n_estimators = 400)\n",
                "xgbModel_s2.fit(train[sample_index][['x1', 'x2']], train[sample_index]['y']\n",
                ", sample_weight = train_weight\n",
                ")"
            ]
        },
        {
            "cell_type": "code",
            "execution_count": 302,
            "metadata": {},
            "outputs": [
                {
                    "name": "stdout",
                    "output_type": "stream",
                    "text": [
                        "0.0015825423\n",
                        "6.119299e-05\n"
                    ]
                }
            ],
            "source": [
                "pred = xgbModel_s2.predict_proba(test[['x1','x2']])[:,1]\n",
                "print(pred.mean()) \n",
                "print((pred/(pred + (1-pred)*100)).mean())"
            ]
        },
        {
            "cell_type": "code",
            "execution_count": 303,
            "metadata": {},
            "outputs": [
                {
                    "name": "stderr",
                    "output_type": "stream",
                    "text": [
                        "C:\\Users\\iamwl\\miniconda3\\envs\\myenv\\lib\\site-packages\\ipykernel_launcher.py:12: DeprecationWarning: `np.bool` is a deprecated alias for the builtin `bool`. To silence this warning, use `bool` by itself. Doing this will not modify any behavior and is safe. If you specifically wanted the numpy scalar type, use `np.bool_` here.\n",
                        "Deprecated in NumPy 1.20; for more details and guidance: https://numpy.org/devdocs/release/1.20.0-notes.html#deprecations\n",
                        "  if sys.path[0] == '':\n"
                    ]
                },
                {
                    "name": "stdout",
                    "output_type": "stream",
                    "text": [
                        "0.0025 0.8090066473176669 60487.0 62171.98 125000.0 0.19047862\n",
                        "0.003 0.8582529725681116 64169.0 65984.2 150000.0 0.12136934\n",
                        "0.005 0.9447751013147512 70638.0 72157.97 250000.0 0.028876256\n",
                        "0.01 0.9831208955822756 73505.0 74253.336 500000.0 0.0014936193\n"
                    ]
                }
            ],
            "source": [
                "p_hat = pred\n",
                "\n",
                "rank = (-p_hat).argsort()\n",
                "\n",
                "weight_test = np.array(y_test*0.0 + 1.0)\n",
                "\n",
                "cumSum_prob = np.cumsum(weight_test[rank])\n",
                "\n",
                "for rate in [.0025,.003,.005,.01]:\n",
                "    cur_os_vol = weight_test.sum()*rate\n",
                "    rank_os = rank[ cumSum_prob <= cur_os_vol]\n",
                "    new_os = np.zeros(len(y_test), dtype = np.bool)\n",
                "    new_os[rank_os] = 1\n",
                "    new_os_rate = weight_test[new_os].sum() / float(weight_test.sum())\n",
                "    new_os_bad_rate = np.array(y_test)[new_os].sum() / float(np.array(y_test).sum())\n",
                "    new_os_vol = weight_test[new_os].sum()\n",
                "    new_os_bad_vol = np.array(y_test)[new_os].sum()\n",
                "    new_os_pred_vol = np.array(p_hat)[new_os].sum()\n",
                "    cutoff = np.array(p_hat)[new_os].min()\n",
                "\n",
                "    print(new_os_rate, new_os_bad_rate, new_os_bad_vol, new_os_pred_vol, new_os_vol, cutoff)"
            ]
        },
        {
            "cell_type": "code",
            "execution_count": 288,
            "metadata": {},
            "outputs": [
                {
                    "data": {
                        "text/plain": [
                            "Text(0, 0.5, 'sampling rate')"
                        ]
                    },
                    "execution_count": 288,
                    "metadata": {},
                    "output_type": "execute_result"
                },
                {
                    "data": {
                        "image/png": "[encoded data removed]",
                        "text/plain": [
                            "<Figure size 432x288 with 1 Axes>"
                        ]
                    },
                    "metadata": {
                        "needs_background": "light"
                    },
                    "output_type": "display_data"
                }
            ],
            "source": [
                "from matplotlib import pyplot as plt\n",
                "\n",
                "plt.plot(sorted(x[x<0.002][0:10000]),sorted(importance[x<0.002][0:10000]), label = \"importance sampling\")\n",
                "plt.plot(sorted(x[x<0.002][0:10000]),np.ones(len(x[x<0.002][0:10000]))*0.01, label = \"uniform sampling\")\n",
                "plt.legend()\n",
                "plt.xlabel(\"Risk score\")\n",
                "plt.ylabel(\"sampling rate\")"
            ]
        }
    ],
    "metadata": {
        "interpreter": {
            "hash": "c19d7a919b51c2e2b30ff98983f3a46705a8e13bdab55e207a85fdc0147c8841"
        },
        "kernelspec": {
            "display_name": "Python 3.7.10 64-bit ('myenv': conda)",
            "name": "python3"
        },
        "language_info": {
            "codemirror_mode": {
                "name": "ipython",
                "version": 3
            },
            "file_extension": ".py",
            "mimetype": "text/x-python",
            "name": "python",
            "nbconvert_exporter": "python",
            "pygments_lexer": "ipython3",
            "version": "3.7.10"
        },
        "orig_nbformat": 4
    },
    "nbformat": 4,
    "nbformat_minor": 2
}
