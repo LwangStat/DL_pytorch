{
 "cells": [
  {
   "cell_type": "code",
   "execution_count": 1,
   "metadata": {},
   "outputs": [
    {
     "data": {
      "text/plain": [
       "'NVIDIA GeForce RTX 2080 Ti'"
      ]
     },
     "execution_count": 1,
     "metadata": {},
     "output_type": "execute_result"
    }
   ],
   "source": [
    "import torch\n",
    "torch.__version__\n",
    "torch.cuda.current_device()\n",
    "torch.cuda.get_device_name(0)"
   ]
  },
  {
   "cell_type": "markdown",
   "metadata": {},
   "source": [
    "Basics"
   ]
  },
  {
   "cell_type": "code",
   "execution_count": 2,
   "metadata": {},
   "outputs": [
    {
     "data": {
      "text/plain": [
       "tensor([[ 0.,  1.,  2.,  3.],\n",
       "        [ 4.,  5.,  6.,  7.],\n",
       "        [ 8.,  9., 10., 11.]])"
      ]
     },
     "execution_count": 2,
     "metadata": {},
     "output_type": "execute_result"
    }
   ],
   "source": [
    "x = torch.arange(12, dtype = torch.float32)\n",
    "x.shape\n",
    "X = x.reshape(3,4)\n",
    "X"
   ]
  },
  {
   "cell_type": "code",
   "execution_count": 3,
   "metadata": {},
   "outputs": [
    {
     "data": {
      "text/plain": [
       "(tensor([[1],\n",
       "         [2],\n",
       "         [3]]),\n",
       " tensor([[4, 5, 6]]))"
      ]
     },
     "execution_count": 3,
     "metadata": {},
     "output_type": "execute_result"
    }
   ],
   "source": [
    "x = torch.tensor([1,2,3]).reshape(3,1)\n",
    "y = torch.tensor([4,5,6]).reshape(1,3)\n",
    "\n",
    "x, y\n"
   ]
  },
  {
   "cell_type": "code",
   "execution_count": 4,
   "metadata": {},
   "outputs": [],
   "source": [
    "import os\n",
    "\n",
    "os.makedirs(os.path.join('..','data'), exist_ok = True)\n",
    "data_file = os.path.join('..', 'data', 'house_tiny.csv')\n",
    "\n",
    "with open(data_file, 'w') as f:\n",
    "    f.write('NumRooms,Alley,Price\\n')  # Column names\n",
    "    f.write('NA,Pave,127500\\n')  # Each row represents a data example\n",
    "    f.write('2,NA,106000\\n')\n",
    "    f.write('4,NA,178100\\n')\n",
    "    f.write('NA,NA,140000\\n')"
   ]
  },
  {
   "cell_type": "code",
   "execution_count": 5,
   "metadata": {},
   "outputs": [
    {
     "name": "stdout",
     "output_type": "stream",
     "text": [
      "   NumRooms Alley   Price\n",
      "0       NaN  Pave  127500\n",
      "1       2.0   NaN  106000\n",
      "2       4.0   NaN  178100\n",
      "3       NaN   NaN  140000\n"
     ]
    }
   ],
   "source": [
    "import pandas as pd\n",
    "\n",
    "data = pd.read_csv(data_file)\n",
    "print(data)"
   ]
  },
  {
   "cell_type": "code",
   "execution_count": 6,
   "metadata": {},
   "outputs": [
    {
     "name": "stdout",
     "output_type": "stream",
     "text": [
      "   NumRooms  Alley_Pave  Alley_nan\n",
      "0       3.0           1          0\n",
      "1       2.0           0          1\n",
      "2       4.0           0          1\n",
      "3       3.0           0          1\n"
     ]
    },
    {
     "name": "stderr",
     "output_type": "stream",
     "text": [
      "C:\\Users\\iamwl\\miniconda3\\envs\\myenv\\lib\\site-packages\\ipykernel_launcher.py:3: FutureWarning: Dropping of nuisance columns in DataFrame reductions (with 'numeric_only=None') is deprecated; in a future version this will raise TypeError.  Select only valid columns before calling the reduction.\n",
      "  This is separate from the ipykernel package so we can avoid doing imports until\n"
     ]
    }
   ],
   "source": [
    "inputs, outputs = data.iloc[:, 0:2], data.iloc[:,2]\n",
    "\n",
    "inputs = inputs.fillna(inputs.mean())\n",
    "\n",
    "inputs = pd.get_dummies(inputs, dummy_na = True)\n",
    "\n",
    "print(inputs)"
   ]
  },
  {
   "cell_type": "code",
   "execution_count": 7,
   "metadata": {},
   "outputs": [
    {
     "data": {
      "text/plain": [
       "(tensor([[3., 1., 0.],\n",
       "         [2., 0., 1.],\n",
       "         [4., 0., 1.],\n",
       "         [3., 0., 1.]], dtype=torch.float64),\n",
       " tensor([127500, 106000, 178100, 140000]))"
      ]
     },
     "execution_count": 7,
     "metadata": {},
     "output_type": "execute_result"
    }
   ],
   "source": [
    "X, y = torch.tensor(inputs.values), torch.tensor(outputs.values)\n",
    "\n",
    "X, y"
   ]
  },
  {
   "cell_type": "code",
   "execution_count": 8,
   "metadata": {},
   "outputs": [
    {
     "data": {
      "text/plain": [
       "(tensor([[3., 2., 4., 3.],\n",
       "         [1., 0., 0., 0.],\n",
       "         [0., 1., 1., 1.]], dtype=torch.float64),\n",
       " tensor([127500, 106000, 178100, 140000]))"
      ]
     },
     "execution_count": 8,
     "metadata": {},
     "output_type": "execute_result"
    }
   ],
   "source": [
    "X.T, y"
   ]
  },
  {
   "cell_type": "code",
   "execution_count": 9,
   "metadata": {},
   "outputs": [
    {
     "data": {
      "text/plain": [
       "tensor([1726900.,  127500.,  424100.], dtype=torch.float64)"
      ]
     },
     "execution_count": 9,
     "metadata": {},
     "output_type": "execute_result"
    }
   ],
   "source": [
    "torch.mv(X.T, y.double())"
   ]
  },
  {
   "cell_type": "markdown",
   "metadata": {},
   "source": [
    "Autograd"
   ]
  },
  {
   "cell_type": "code",
   "execution_count": 10,
   "metadata": {},
   "outputs": [
    {
     "data": {
      "text/plain": [
       "(tensor([0., 1., 2., 3.], requires_grad=True), None)"
      ]
     },
     "execution_count": 10,
     "metadata": {},
     "output_type": "execute_result"
    }
   ],
   "source": [
    "x = torch.arange(4.0)\n",
    "x.requires_grad_(True)\n",
    "x, x.grad"
   ]
  },
  {
   "cell_type": "code",
   "execution_count": 11,
   "metadata": {},
   "outputs": [
    {
     "data": {
      "text/plain": [
       "tensor(28., grad_fn=<MulBackward0>)"
      ]
     },
     "execution_count": 11,
     "metadata": {},
     "output_type": "execute_result"
    }
   ],
   "source": [
    "y = 2 * torch.dot(x, x)\n",
    "\n",
    "y"
   ]
  },
  {
   "cell_type": "code",
   "execution_count": 12,
   "metadata": {},
   "outputs": [
    {
     "data": {
      "text/plain": [
       "tensor([ 0.,  4.,  8., 12.])"
      ]
     },
     "execution_count": 12,
     "metadata": {},
     "output_type": "execute_result"
    }
   ],
   "source": [
    "y.backward()\n",
    "x.grad"
   ]
  },
  {
   "cell_type": "code",
   "execution_count": 13,
   "metadata": {},
   "outputs": [
    {
     "data": {
      "text/plain": [
       "tensor([0., 2., 4., 6.])"
      ]
     },
     "execution_count": 13,
     "metadata": {},
     "output_type": "execute_result"
    }
   ],
   "source": [
    "x.grad.zero_()\n",
    "y = x * x\n",
    "y.sum().backward()\n",
    "x.grad"
   ]
  },
  {
   "cell_type": "code",
   "execution_count": 14,
   "metadata": {},
   "outputs": [
    {
     "data": {
      "text/plain": [
       "tensor([True, True, True, True])"
      ]
     },
     "execution_count": 14,
     "metadata": {},
     "output_type": "execute_result"
    }
   ],
   "source": [
    "x.grad.zero_()\n",
    "y = x*x \n",
    "u = y.detach()\n",
    "z = u * x\n",
    "\n",
    "x, y, u, z\n",
    "\n",
    "z.sum().backward()\n",
    "x.grad == u"
   ]
  },
  {
   "cell_type": "code",
   "execution_count": 15,
   "metadata": {},
   "outputs": [],
   "source": [
    "def f(a):\n",
    "    b = a * 2\n",
    "    while b.norm() < 1000:\n",
    "        b = b * 2\n",
    "    if b.sum() > 0:\n",
    "        c = b\n",
    "    else:\n",
    "        c = 100 * b\n",
    "    return c"
   ]
  },
  {
   "cell_type": "code",
   "execution_count": 16,
   "metadata": {},
   "outputs": [
    {
     "data": {
      "text/plain": [
       "(tensor([ 1.8239,  0.0050, -0.3042], requires_grad=True),\n",
       " tensor([1867.6642,    5.0746, -311.5387], grad_fn=<MulBackward0>),\n",
       " tensor([1024., 1024., 1024.]),\n",
       " tensor([1024., 1024., 1024.], grad_fn=<DivBackward0>))"
      ]
     },
     "execution_count": 16,
     "metadata": {},
     "output_type": "execute_result"
    }
   ],
   "source": [
    "a = torch.randn(size=(3,), requires_grad=True)\n",
    "d = f(a)\n",
    "d.sum().backward()\n",
    "\n",
    "a, d, a.grad, d / a"
   ]
  },
  {
   "cell_type": "code",
   "execution_count": 17,
   "metadata": {},
   "outputs": [
    {
     "data": {
      "image/svg+xml": "<?xml version=\"1.0\" encoding=\"utf-8\" standalone=\"no\"?>\r\n<!DOCTYPE svg PUBLIC \"-//W3C//DTD SVG 1.1//EN\"\r\n  \"http://www.w3.org/Graphics/SVG/1.1/DTD/svg11.dtd\">\r\n<svg height=\"166.978125pt\" version=\"1.1\" viewBox=\"0 0 240.982812 166.978125\" width=\"240.982812pt\" xmlns=\"http://www.w3.org/2000/svg\" xmlns:xlink=\"http://www.w3.org/1999/xlink\">\r\n <metadata>\r\n  <rdf:RDF xmlns:cc=\"http://creativecommons.org/ns#\" xmlns:dc=\"http://purl.org/dc/elements/1.1/\" xmlns:rdf=\"http://www.w3.org/1999/02/22-rdf-syntax-ns#\">\r\n   <cc:Work>\r\n    <dc:type rdf:resource=\"http://purl.org/dc/dcmitype/StillImage\"/>\r\n    <dc:date>2022-03-27T21:25:16.077812</dc:date>\r\n    <dc:format>image/svg+xml</dc:format>\r\n    <dc:creator>\r\n     <cc:Agent>\r\n      <dc:title>Matplotlib v3.4.3, https://matplotlib.org/</dc:title>\r\n     </cc:Agent>\r\n    </dc:creator>\r\n   </cc:Work>\r\n  </rdf:RDF>\r\n </metadata>\r\n <defs>\r\n  <style type=\"text/css\">*{stroke-linecap:butt;stroke-linejoin:round;}</style>\r\n </defs>\r\n <g id=\"figure_1\">\r\n  <g id=\"patch_1\">\r\n   <path d=\"M -0 166.978125 \r\nL 240.982813 166.978125 \r\nL 240.982813 0 \r\nL -0 0 \r\nz\r\n\" style=\"fill:none;\"/>\r\n  </g>\r\n  <g id=\"axes_1\">\r\n   <g id=\"patch_2\">\r\n    <path d=\"M 38.482813 143.1 \r\nL 233.782813 143.1 \r\nL 233.782813 7.2 \r\nL 38.482813 7.2 \r\nz\r\n\" style=\"fill:#ffffff;\"/>\r\n   </g>\r\n   <g id=\"matplotlib.axis_1\">\r\n    <g id=\"xtick_1\">\r\n     <g id=\"line2d_1\">\r\n      <path clip-path=\"url(#pc1379bb6d7)\" d=\"M 79.618339 143.1 \r\nL 79.618339 7.2 \r\n\" style=\"fill:none;stroke:#b0b0b0;stroke-linecap:square;stroke-width:0.8;\"/>\r\n     </g>\r\n     <g id=\"line2d_2\">\r\n      <defs>\r\n       <path d=\"M 0 0 \r\nL 0 3.5 \r\n\" id=\"mcaa362564e\" style=\"stroke:#000000;stroke-width:0.8;\"/>\r\n      </defs>\r\n      <g>\r\n       <use style=\"stroke:#000000;stroke-width:0.8;\" x=\"79.618339\" xlink:href=\"#mcaa362564e\" y=\"143.1\"/>\r\n      </g>\r\n     </g>\r\n     <g id=\"text_1\">\r\n      <!-- −2 -->\r\n      <g transform=\"translate(72.247245 157.698438)scale(0.1 -0.1)\">\r\n       <defs>\r\n        <path d=\"M 678 2272 \r\nL 4684 2272 \r\nL 4684 1741 \r\nL 678 1741 \r\nL 678 2272 \r\nz\r\n\" id=\"DejaVuSans-2212\" transform=\"scale(0.015625)\"/>\r\n        <path d=\"M 1228 531 \r\nL 3431 531 \r\nL 3431 0 \r\nL 469 0 \r\nL 469 531 \r\nQ 828 903 1448 1529 \r\nQ 2069 2156 2228 2338 \r\nQ 2531 2678 2651 2914 \r\nQ 2772 3150 2772 3378 \r\nQ 2772 3750 2511 3984 \r\nQ 2250 4219 1831 4219 \r\nQ 1534 4219 1204 4116 \r\nQ 875 4013 500 3803 \r\nL 500 4441 \r\nQ 881 4594 1212 4672 \r\nQ 1544 4750 1819 4750 \r\nQ 2544 4750 2975 4387 \r\nQ 3406 4025 3406 3419 \r\nQ 3406 3131 3298 2873 \r\nQ 3191 2616 2906 2266 \r\nQ 2828 2175 2409 1742 \r\nQ 1991 1309 1228 531 \r\nz\r\n\" id=\"DejaVuSans-32\" transform=\"scale(0.015625)\"/>\r\n       </defs>\r\n       <use xlink:href=\"#DejaVuSans-2212\"/>\r\n       <use x=\"83.789062\" xlink:href=\"#DejaVuSans-32\"/>\r\n      </g>\r\n     </g>\r\n    </g>\r\n    <g id=\"xtick_2\">\r\n     <g id=\"line2d_3\">\r\n      <path clip-path=\"url(#pc1379bb6d7)\" d=\"M 136.132812 143.1 \r\nL 136.132812 7.2 \r\n\" style=\"fill:none;stroke:#b0b0b0;stroke-linecap:square;stroke-width:0.8;\"/>\r\n     </g>\r\n     <g id=\"line2d_4\">\r\n      <g>\r\n       <use style=\"stroke:#000000;stroke-width:0.8;\" x=\"136.132812\" xlink:href=\"#mcaa362564e\" y=\"143.1\"/>\r\n      </g>\r\n     </g>\r\n     <g id=\"text_2\">\r\n      <!-- 0 -->\r\n      <g transform=\"translate(132.951562 157.698438)scale(0.1 -0.1)\">\r\n       <defs>\r\n        <path d=\"M 2034 4250 \r\nQ 1547 4250 1301 3770 \r\nQ 1056 3291 1056 2328 \r\nQ 1056 1369 1301 889 \r\nQ 1547 409 2034 409 \r\nQ 2525 409 2770 889 \r\nQ 3016 1369 3016 2328 \r\nQ 3016 3291 2770 3770 \r\nQ 2525 4250 2034 4250 \r\nz\r\nM 2034 4750 \r\nQ 2819 4750 3233 4129 \r\nQ 3647 3509 3647 2328 \r\nQ 3647 1150 3233 529 \r\nQ 2819 -91 2034 -91 \r\nQ 1250 -91 836 529 \r\nQ 422 1150 422 2328 \r\nQ 422 3509 836 4129 \r\nQ 1250 4750 2034 4750 \r\nz\r\n\" id=\"DejaVuSans-30\" transform=\"scale(0.015625)\"/>\r\n       </defs>\r\n       <use xlink:href=\"#DejaVuSans-30\"/>\r\n      </g>\r\n     </g>\r\n    </g>\r\n    <g id=\"xtick_3\">\r\n     <g id=\"line2d_5\">\r\n      <path clip-path=\"url(#pc1379bb6d7)\" d=\"M 192.647286 143.1 \r\nL 192.647286 7.2 \r\n\" style=\"fill:none;stroke:#b0b0b0;stroke-linecap:square;stroke-width:0.8;\"/>\r\n     </g>\r\n     <g id=\"line2d_6\">\r\n      <g>\r\n       <use style=\"stroke:#000000;stroke-width:0.8;\" x=\"192.647286\" xlink:href=\"#mcaa362564e\" y=\"143.1\"/>\r\n      </g>\r\n     </g>\r\n     <g id=\"text_3\">\r\n      <!-- 2 -->\r\n      <g transform=\"translate(189.466036 157.698438)scale(0.1 -0.1)\">\r\n       <use xlink:href=\"#DejaVuSans-32\"/>\r\n      </g>\r\n     </g>\r\n    </g>\r\n   </g>\r\n   <g id=\"matplotlib.axis_2\">\r\n    <g id=\"ytick_1\">\r\n     <g id=\"line2d_7\">\r\n      <path clip-path=\"url(#pc1379bb6d7)\" d=\"M 38.482813 136.922727 \r\nL 233.782813 136.922727 \r\n\" style=\"fill:none;stroke:#b0b0b0;stroke-linecap:square;stroke-width:0.8;\"/>\r\n     </g>\r\n     <g id=\"line2d_8\">\r\n      <defs>\r\n       <path d=\"M 0 0 \r\nL -3.5 0 \r\n\" id=\"mb826f9b227\" style=\"stroke:#000000;stroke-width:0.8;\"/>\r\n      </defs>\r\n      <g>\r\n       <use style=\"stroke:#000000;stroke-width:0.8;\" x=\"38.482813\" xlink:href=\"#mb826f9b227\" y=\"136.922727\"/>\r\n      </g>\r\n     </g>\r\n     <g id=\"text_4\">\r\n      <!-- −1.0 -->\r\n      <g transform=\"translate(7.2 140.721946)scale(0.1 -0.1)\">\r\n       <defs>\r\n        <path d=\"M 794 531 \r\nL 1825 531 \r\nL 1825 4091 \r\nL 703 3866 \r\nL 703 4441 \r\nL 1819 4666 \r\nL 2450 4666 \r\nL 2450 531 \r\nL 3481 531 \r\nL 3481 0 \r\nL 794 0 \r\nL 794 531 \r\nz\r\n\" id=\"DejaVuSans-31\" transform=\"scale(0.015625)\"/>\r\n        <path d=\"M 684 794 \r\nL 1344 794 \r\nL 1344 0 \r\nL 684 0 \r\nL 684 794 \r\nz\r\n\" id=\"DejaVuSans-2e\" transform=\"scale(0.015625)\"/>\r\n       </defs>\r\n       <use xlink:href=\"#DejaVuSans-2212\"/>\r\n       <use x=\"83.789062\" xlink:href=\"#DejaVuSans-31\"/>\r\n       <use x=\"147.412109\" xlink:href=\"#DejaVuSans-2e\"/>\r\n       <use x=\"179.199219\" xlink:href=\"#DejaVuSans-30\"/>\r\n      </g>\r\n     </g>\r\n    </g>\r\n    <g id=\"ytick_2\">\r\n     <g id=\"line2d_9\">\r\n      <path clip-path=\"url(#pc1379bb6d7)\" d=\"M 38.482813 106.03442 \r\nL 233.782813 106.03442 \r\n\" style=\"fill:none;stroke:#b0b0b0;stroke-linecap:square;stroke-width:0.8;\"/>\r\n     </g>\r\n     <g id=\"line2d_10\">\r\n      <g>\r\n       <use style=\"stroke:#000000;stroke-width:0.8;\" x=\"38.482813\" xlink:href=\"#mb826f9b227\" y=\"106.03442\"/>\r\n      </g>\r\n     </g>\r\n     <g id=\"text_5\">\r\n      <!-- −0.5 -->\r\n      <g transform=\"translate(7.2 109.833638)scale(0.1 -0.1)\">\r\n       <defs>\r\n        <path d=\"M 691 4666 \r\nL 3169 4666 \r\nL 3169 4134 \r\nL 1269 4134 \r\nL 1269 2991 \r\nQ 1406 3038 1543 3061 \r\nQ 1681 3084 1819 3084 \r\nQ 2600 3084 3056 2656 \r\nQ 3513 2228 3513 1497 \r\nQ 3513 744 3044 326 \r\nQ 2575 -91 1722 -91 \r\nQ 1428 -91 1123 -41 \r\nQ 819 9 494 109 \r\nL 494 744 \r\nQ 775 591 1075 516 \r\nQ 1375 441 1709 441 \r\nQ 2250 441 2565 725 \r\nQ 2881 1009 2881 1497 \r\nQ 2881 1984 2565 2268 \r\nQ 2250 2553 1709 2553 \r\nQ 1456 2553 1204 2497 \r\nQ 953 2441 691 2322 \r\nL 691 4666 \r\nz\r\n\" id=\"DejaVuSans-35\" transform=\"scale(0.015625)\"/>\r\n       </defs>\r\n       <use xlink:href=\"#DejaVuSans-2212\"/>\r\n       <use x=\"83.789062\" xlink:href=\"#DejaVuSans-30\"/>\r\n       <use x=\"147.412109\" xlink:href=\"#DejaVuSans-2e\"/>\r\n       <use x=\"179.199219\" xlink:href=\"#DejaVuSans-35\"/>\r\n      </g>\r\n     </g>\r\n    </g>\r\n    <g id=\"ytick_3\">\r\n     <g id=\"line2d_11\">\r\n      <path clip-path=\"url(#pc1379bb6d7)\" d=\"M 38.482813 75.146112 \r\nL 233.782813 75.146112 \r\n\" style=\"fill:none;stroke:#b0b0b0;stroke-linecap:square;stroke-width:0.8;\"/>\r\n     </g>\r\n     <g id=\"line2d_12\">\r\n      <g>\r\n       <use style=\"stroke:#000000;stroke-width:0.8;\" x=\"38.482813\" xlink:href=\"#mb826f9b227\" y=\"75.146112\"/>\r\n      </g>\r\n     </g>\r\n     <g id=\"text_6\">\r\n      <!-- 0.0 -->\r\n      <g transform=\"translate(15.579688 78.945331)scale(0.1 -0.1)\">\r\n       <use xlink:href=\"#DejaVuSans-30\"/>\r\n       <use x=\"63.623047\" xlink:href=\"#DejaVuSans-2e\"/>\r\n       <use x=\"95.410156\" xlink:href=\"#DejaVuSans-30\"/>\r\n      </g>\r\n     </g>\r\n    </g>\r\n    <g id=\"ytick_4\">\r\n     <g id=\"line2d_13\">\r\n      <path clip-path=\"url(#pc1379bb6d7)\" d=\"M 38.482813 44.257804 \r\nL 233.782813 44.257804 \r\n\" style=\"fill:none;stroke:#b0b0b0;stroke-linecap:square;stroke-width:0.8;\"/>\r\n     </g>\r\n     <g id=\"line2d_14\">\r\n      <g>\r\n       <use style=\"stroke:#000000;stroke-width:0.8;\" x=\"38.482813\" xlink:href=\"#mb826f9b227\" y=\"44.257804\"/>\r\n      </g>\r\n     </g>\r\n     <g id=\"text_7\">\r\n      <!-- 0.5 -->\r\n      <g transform=\"translate(15.579688 48.057023)scale(0.1 -0.1)\">\r\n       <use xlink:href=\"#DejaVuSans-30\"/>\r\n       <use x=\"63.623047\" xlink:href=\"#DejaVuSans-2e\"/>\r\n       <use x=\"95.410156\" xlink:href=\"#DejaVuSans-35\"/>\r\n      </g>\r\n     </g>\r\n    </g>\r\n    <g id=\"ytick_5\">\r\n     <g id=\"line2d_15\">\r\n      <path clip-path=\"url(#pc1379bb6d7)\" d=\"M 38.482813 13.369497 \r\nL 233.782813 13.369497 \r\n\" style=\"fill:none;stroke:#b0b0b0;stroke-linecap:square;stroke-width:0.8;\"/>\r\n     </g>\r\n     <g id=\"line2d_16\">\r\n      <g>\r\n       <use style=\"stroke:#000000;stroke-width:0.8;\" x=\"38.482813\" xlink:href=\"#mb826f9b227\" y=\"13.369497\"/>\r\n      </g>\r\n     </g>\r\n     <g id=\"text_8\">\r\n      <!-- 1.0 -->\r\n      <g transform=\"translate(15.579688 17.168716)scale(0.1 -0.1)\">\r\n       <use xlink:href=\"#DejaVuSans-31\"/>\r\n       <use x=\"63.623047\" xlink:href=\"#DejaVuSans-2e\"/>\r\n       <use x=\"95.410156\" xlink:href=\"#DejaVuSans-30\"/>\r\n      </g>\r\n     </g>\r\n    </g>\r\n   </g>\r\n   <g id=\"line2d_17\">\r\n    <path clip-path=\"url(#pc1379bb6d7)\" d=\"M 47.360085 75.146112 \r\nL 49.153474 79.064227 \r\nL 50.946862 82.966565 \r\nL 52.740251 86.837413 \r\nL 54.533639 90.661185 \r\nL 56.327027 94.422482 \r\nL 58.120416 98.106161 \r\nL 59.913804 101.697387 \r\nL 61.707193 105.181701 \r\nL 63.500581 108.545072 \r\nL 65.29397 111.773957 \r\nL 67.087358 114.855355 \r\nL 68.880746 117.776858 \r\nL 70.674135 120.526701 \r\nL 72.467523 123.093814 \r\nL 74.260912 125.467857 \r\nL 76.0543 127.639273 \r\nL 77.847689 129.599317 \r\nL 79.641077 131.340098 \r\nL 81.434465 132.854605 \r\nL 83.227854 134.13674 \r\nL 85.021242 135.181341 \r\nL 86.814631 135.984202 \r\nL 88.608019 136.542088 \r\nL 90.401408 136.852755 \r\nL 92.194796 136.914951 \r\nL 93.988184 136.728426 \r\nL 95.781573 136.29393 \r\nL 97.574961 135.613214 \r\nL 99.36835 134.689018 \r\nL 101.161738 133.525064 \r\nL 102.955127 132.126038 \r\nL 104.748515 130.497575 \r\nL 106.541903 128.64623 \r\nL 108.335292 126.57946 \r\nL 110.12868 124.305585 \r\nL 111.922069 121.833763 \r\nL 113.715457 119.173946 \r\nL 115.508846 116.336844 \r\nL 117.302234 113.333882 \r\nL 119.095622 110.177151 \r\nL 120.889011 106.879363 \r\nL 122.682399 103.453796 \r\nL 124.475788 99.914243 \r\nL 126.269176 96.274959 \r\nL 128.062565 92.550596 \r\nL 129.855953 88.756151 \r\nL 131.649341 84.906903 \r\nL 133.44273 81.018353 \r\nL 135.236118 77.106156 \r\nL 137.029507 73.186068 \r\nL 138.822895 69.273871 \r\nL 140.616284 65.385321 \r\nL 142.409672 61.536073 \r\nL 144.20306 57.741628 \r\nL 145.996449 54.017265 \r\nL 147.789837 50.377981 \r\nL 149.583226 46.838428 \r\nL 151.376614 43.412861 \r\nL 153.170003 40.115073 \r\nL 154.963391 36.958342 \r\nL 156.756779 33.95538 \r\nL 158.550168 31.118278 \r\nL 160.343556 28.458461 \r\nL 162.136945 25.986639 \r\nL 163.930333 23.712764 \r\nL 165.723722 21.645994 \r\nL 167.51711 19.794649 \r\nL 169.310498 18.166186 \r\nL 171.103887 16.76716 \r\nL 172.897275 15.603206 \r\nL 174.690664 14.67901 \r\nL 176.484052 13.998294 \r\nL 178.277441 13.563798 \r\nL 180.070829 13.377273 \r\nL 181.864217 13.439469 \r\nL 183.657606 13.750136 \r\nL 185.450994 14.308022 \r\nL 187.244383 15.110883 \r\nL 189.037771 16.155484 \r\nL 190.83116 17.437619 \r\nL 192.624548 18.952126 \r\nL 194.417936 20.692907 \r\nL 196.211325 22.652951 \r\nL 198.004713 24.824367 \r\nL 199.798102 27.198411 \r\nL 201.59149 29.765523 \r\nL 203.384879 32.515366 \r\nL 205.178267 35.436869 \r\nL 206.971655 38.518267 \r\nL 208.765044 41.747152 \r\nL 210.558432 45.110523 \r\nL 212.351821 48.594837 \r\nL 214.145209 52.186063 \r\nL 215.938598 55.869742 \r\nL 217.731986 59.631039 \r\nL 219.525374 63.454811 \r\nL 221.318763 67.325659 \r\nL 223.112151 71.227997 \r\nL 224.90554 75.146112 \r\n\" style=\"fill:none;stroke:#1f77b4;stroke-linecap:square;stroke-width:1.5;\"/>\r\n   </g>\r\n   <g id=\"line2d_18\">\r\n    <path clip-path=\"url(#pc1379bb6d7)\" d=\"M 47.360085 136.922727 \r\nL 49.153474 136.798351 \r\nL 50.946862 136.425723 \r\nL 52.740251 135.806343 \r\nL 54.533639 134.942707 \r\nL 56.327027 133.83829 \r\nL 58.120416 132.497541 \r\nL 59.913804 130.925857 \r\nL 61.707193 129.129569 \r\nL 63.500581 127.115908 \r\nL 65.29397 124.892983 \r\nL 67.087358 122.469745 \r\nL 68.880746 119.855951 \r\nL 70.674135 117.062127 \r\nL 72.467523 114.099522 \r\nL 74.260912 110.980065 \r\nL 76.0543 107.716317 \r\nL 77.847689 104.32142 \r\nL 79.641077 100.809045 \r\nL 81.434465 97.193335 \r\nL 83.227854 93.488848 \r\nL 85.021242 89.710501 \r\nL 86.814631 85.873509 \r\nL 88.608019 81.993321 \r\nL 90.401408 78.085562 \r\nL 92.194796 74.165966 \r\nL 93.988184 70.250318 \r\nL 95.781573 66.354383 \r\nL 97.574961 62.493849 \r\nL 99.36835 58.684262 \r\nL 101.161738 54.94096 \r\nL 102.955127 51.279018 \r\nL 104.748515 47.71318 \r\nL 106.541903 44.257804 \r\nL 108.335292 40.926805 \r\nL 110.12868 37.733595 \r\nL 111.922069 34.691032 \r\nL 113.715457 31.811368 \r\nL 115.508846 29.106197 \r\nL 117.302234 26.586412 \r\nL 119.095622 24.262161 \r\nL 120.889011 22.142801 \r\nL 122.682399 20.236866 \r\nL 124.475788 18.552032 \r\nL 126.269176 17.095083 \r\nL 128.062565 15.871884 \r\nL 129.855953 14.887361 \r\nL 131.649341 14.14548 \r\nL 133.44273 13.649226 \r\nL 135.236118 13.400599 \r\nL 137.029507 13.400599 \r\nL 138.822895 13.649226 \r\nL 140.616284 14.14548 \r\nL 142.409672 14.887361 \r\nL 144.20306 15.871884 \r\nL 145.996449 17.095083 \r\nL 147.789837 18.552032 \r\nL 149.583226 20.236866 \r\nL 151.376614 22.142801 \r\nL 153.170003 24.262161 \r\nL 154.963391 26.586412 \r\nL 156.756779 29.106197 \r\nL 158.550168 31.811368 \r\nL 160.343556 34.691032 \r\nL 162.136945 37.733595 \r\nL 163.930333 40.926805 \r\nL 165.723722 44.257804 \r\nL 167.51711 47.71318 \r\nL 169.310498 51.279018 \r\nL 171.103887 54.94096 \r\nL 172.897275 58.684262 \r\nL 174.690664 62.493849 \r\nL 176.484052 66.354383 \r\nL 178.277441 70.250318 \r\nL 180.070829 74.165966 \r\nL 181.864217 78.085562 \r\nL 183.657606 81.993321 \r\nL 185.450994 85.873509 \r\nL 187.244383 89.710501 \r\nL 189.037771 93.488848 \r\nL 190.83116 97.193335 \r\nL 192.624548 100.809045 \r\nL 194.417936 104.32142 \r\nL 196.211325 107.716317 \r\nL 198.004713 110.980065 \r\nL 199.798102 114.099522 \r\nL 201.59149 117.062127 \r\nL 203.384879 119.855951 \r\nL 205.178267 122.469745 \r\nL 206.971655 124.892983 \r\nL 208.765044 127.115908 \r\nL 210.558432 129.129569 \r\nL 212.351821 130.925857 \r\nL 214.145209 132.497541 \r\nL 215.938598 133.83829 \r\nL 217.731986 134.942707 \r\nL 219.525374 135.806343 \r\nL 221.318763 136.425723 \r\nL 223.112151 136.798351 \r\nL 224.90554 136.922727 \r\n\" style=\"fill:none;stroke:#bf00bf;stroke-dasharray:5.55,2.4;stroke-dashoffset:0;stroke-width:1.5;\"/>\r\n   </g>\r\n   <g id=\"patch_3\">\r\n    <path d=\"M 38.482813 143.1 \r\nL 38.482813 7.2 \r\n\" style=\"fill:none;stroke:#000000;stroke-linecap:square;stroke-linejoin:miter;stroke-width:0.8;\"/>\r\n   </g>\r\n   <g id=\"patch_4\">\r\n    <path d=\"M 233.782813 143.1 \r\nL 233.782813 7.2 \r\n\" style=\"fill:none;stroke:#000000;stroke-linecap:square;stroke-linejoin:miter;stroke-width:0.8;\"/>\r\n   </g>\r\n   <g id=\"patch_5\">\r\n    <path d=\"M 38.482812 143.1 \r\nL 233.782813 143.1 \r\n\" style=\"fill:none;stroke:#000000;stroke-linecap:square;stroke-linejoin:miter;stroke-width:0.8;\"/>\r\n   </g>\r\n   <g id=\"patch_6\">\r\n    <path d=\"M 38.482812 7.2 \r\nL 233.782813 7.2 \r\n\" style=\"fill:none;stroke:#000000;stroke-linecap:square;stroke-linejoin:miter;stroke-width:0.8;\"/>\r\n   </g>\r\n   <g id=\"legend_1\">\r\n    <g id=\"patch_7\">\r\n     <path d=\"M 136.820312 138.1 \r\nL 226.782813 138.1 \r\nQ 228.782813 138.1 228.782813 136.1 \r\nL 228.782813 107.74375 \r\nQ 228.782813 105.74375 226.782813 105.74375 \r\nL 136.820312 105.74375 \r\nQ 134.820312 105.74375 134.820312 107.74375 \r\nL 134.820312 136.1 \r\nQ 134.820312 138.1 136.820312 138.1 \r\nz\r\n\" style=\"fill:#ffffff;opacity:0.8;stroke:#cccccc;stroke-linejoin:miter;\"/>\r\n    </g>\r\n    <g id=\"line2d_19\">\r\n     <path d=\"M 138.820312 113.842187 \r\nL 158.820312 113.842187 \r\n\" style=\"fill:none;stroke:#1f77b4;stroke-linecap:square;stroke-width:1.5;\"/>\r\n    </g>\r\n    <g id=\"line2d_20\"/>\r\n    <g id=\"text_9\">\r\n     <!-- sin(x) -->\r\n     <g transform=\"translate(166.820312 117.342187)scale(0.1 -0.1)\">\r\n      <defs>\r\n       <path d=\"M 2834 3397 \r\nL 2834 2853 \r\nQ 2591 2978 2328 3040 \r\nQ 2066 3103 1784 3103 \r\nQ 1356 3103 1142 2972 \r\nQ 928 2841 928 2578 \r\nQ 928 2378 1081 2264 \r\nQ 1234 2150 1697 2047 \r\nL 1894 2003 \r\nQ 2506 1872 2764 1633 \r\nQ 3022 1394 3022 966 \r\nQ 3022 478 2636 193 \r\nQ 2250 -91 1575 -91 \r\nQ 1294 -91 989 -36 \r\nQ 684 19 347 128 \r\nL 347 722 \r\nQ 666 556 975 473 \r\nQ 1284 391 1588 391 \r\nQ 1994 391 2212 530 \r\nQ 2431 669 2431 922 \r\nQ 2431 1156 2273 1281 \r\nQ 2116 1406 1581 1522 \r\nL 1381 1569 \r\nQ 847 1681 609 1914 \r\nQ 372 2147 372 2553 \r\nQ 372 3047 722 3315 \r\nQ 1072 3584 1716 3584 \r\nQ 2034 3584 2315 3537 \r\nQ 2597 3491 2834 3397 \r\nz\r\n\" id=\"DejaVuSans-73\" transform=\"scale(0.015625)\"/>\r\n       <path d=\"M 603 3500 \r\nL 1178 3500 \r\nL 1178 0 \r\nL 603 0 \r\nL 603 3500 \r\nz\r\nM 603 4863 \r\nL 1178 4863 \r\nL 1178 4134 \r\nL 603 4134 \r\nL 603 4863 \r\nz\r\n\" id=\"DejaVuSans-69\" transform=\"scale(0.015625)\"/>\r\n       <path d=\"M 3513 2113 \r\nL 3513 0 \r\nL 2938 0 \r\nL 2938 2094 \r\nQ 2938 2591 2744 2837 \r\nQ 2550 3084 2163 3084 \r\nQ 1697 3084 1428 2787 \r\nQ 1159 2491 1159 1978 \r\nL 1159 0 \r\nL 581 0 \r\nL 581 3500 \r\nL 1159 3500 \r\nL 1159 2956 \r\nQ 1366 3272 1645 3428 \r\nQ 1925 3584 2291 3584 \r\nQ 2894 3584 3203 3211 \r\nQ 3513 2838 3513 2113 \r\nz\r\n\" id=\"DejaVuSans-6e\" transform=\"scale(0.015625)\"/>\r\n       <path d=\"M 1984 4856 \r\nQ 1566 4138 1362 3434 \r\nQ 1159 2731 1159 2009 \r\nQ 1159 1288 1364 580 \r\nQ 1569 -128 1984 -844 \r\nL 1484 -844 \r\nQ 1016 -109 783 600 \r\nQ 550 1309 550 2009 \r\nQ 550 2706 781 3412 \r\nQ 1013 4119 1484 4856 \r\nL 1984 4856 \r\nz\r\n\" id=\"DejaVuSans-28\" transform=\"scale(0.015625)\"/>\r\n       <path d=\"M 3513 3500 \r\nL 2247 1797 \r\nL 3578 0 \r\nL 2900 0 \r\nL 1881 1375 \r\nL 863 0 \r\nL 184 0 \r\nL 1544 1831 \r\nL 300 3500 \r\nL 978 3500 \r\nL 1906 2253 \r\nL 2834 3500 \r\nL 3513 3500 \r\nz\r\n\" id=\"DejaVuSans-78\" transform=\"scale(0.015625)\"/>\r\n       <path d=\"M 513 4856 \r\nL 1013 4856 \r\nQ 1481 4119 1714 3412 \r\nQ 1947 2706 1947 2009 \r\nQ 1947 1309 1714 600 \r\nQ 1481 -109 1013 -844 \r\nL 513 -844 \r\nQ 928 -128 1133 580 \r\nQ 1338 1288 1338 2009 \r\nQ 1338 2731 1133 3434 \r\nQ 928 4138 513 4856 \r\nz\r\n\" id=\"DejaVuSans-29\" transform=\"scale(0.015625)\"/>\r\n      </defs>\r\n      <use xlink:href=\"#DejaVuSans-73\"/>\r\n      <use x=\"52.099609\" xlink:href=\"#DejaVuSans-69\"/>\r\n      <use x=\"79.882812\" xlink:href=\"#DejaVuSans-6e\"/>\r\n      <use x=\"143.261719\" xlink:href=\"#DejaVuSans-28\"/>\r\n      <use x=\"182.275391\" xlink:href=\"#DejaVuSans-78\"/>\r\n      <use x=\"241.455078\" xlink:href=\"#DejaVuSans-29\"/>\r\n     </g>\r\n    </g>\r\n    <g id=\"line2d_21\">\r\n     <path d=\"M 138.820312 128.520312 \r\nL 158.820312 128.520312 \r\n\" style=\"fill:none;stroke:#bf00bf;stroke-dasharray:5.55,2.4;stroke-dashoffset:0;stroke-width:1.5;\"/>\r\n    </g>\r\n    <g id=\"line2d_22\"/>\r\n    <g id=\"text_10\">\r\n     <!-- grad w.s.t x -->\r\n     <g transform=\"translate(166.820312 132.020312)scale(0.1 -0.1)\">\r\n      <defs>\r\n       <path d=\"M 2906 1791 \r\nQ 2906 2416 2648 2759 \r\nQ 2391 3103 1925 3103 \r\nQ 1463 3103 1205 2759 \r\nQ 947 2416 947 1791 \r\nQ 947 1169 1205 825 \r\nQ 1463 481 1925 481 \r\nQ 2391 481 2648 825 \r\nQ 2906 1169 2906 1791 \r\nz\r\nM 3481 434 \r\nQ 3481 -459 3084 -895 \r\nQ 2688 -1331 1869 -1331 \r\nQ 1566 -1331 1297 -1286 \r\nQ 1028 -1241 775 -1147 \r\nL 775 -588 \r\nQ 1028 -725 1275 -790 \r\nQ 1522 -856 1778 -856 \r\nQ 2344 -856 2625 -561 \r\nQ 2906 -266 2906 331 \r\nL 2906 616 \r\nQ 2728 306 2450 153 \r\nQ 2172 0 1784 0 \r\nQ 1141 0 747 490 \r\nQ 353 981 353 1791 \r\nQ 353 2603 747 3093 \r\nQ 1141 3584 1784 3584 \r\nQ 2172 3584 2450 3431 \r\nQ 2728 3278 2906 2969 \r\nL 2906 3500 \r\nL 3481 3500 \r\nL 3481 434 \r\nz\r\n\" id=\"DejaVuSans-67\" transform=\"scale(0.015625)\"/>\r\n       <path d=\"M 2631 2963 \r\nQ 2534 3019 2420 3045 \r\nQ 2306 3072 2169 3072 \r\nQ 1681 3072 1420 2755 \r\nQ 1159 2438 1159 1844 \r\nL 1159 0 \r\nL 581 0 \r\nL 581 3500 \r\nL 1159 3500 \r\nL 1159 2956 \r\nQ 1341 3275 1631 3429 \r\nQ 1922 3584 2338 3584 \r\nQ 2397 3584 2469 3576 \r\nQ 2541 3569 2628 3553 \r\nL 2631 2963 \r\nz\r\n\" id=\"DejaVuSans-72\" transform=\"scale(0.015625)\"/>\r\n       <path d=\"M 2194 1759 \r\nQ 1497 1759 1228 1600 \r\nQ 959 1441 959 1056 \r\nQ 959 750 1161 570 \r\nQ 1363 391 1709 391 \r\nQ 2188 391 2477 730 \r\nQ 2766 1069 2766 1631 \r\nL 2766 1759 \r\nL 2194 1759 \r\nz\r\nM 3341 1997 \r\nL 3341 0 \r\nL 2766 0 \r\nL 2766 531 \r\nQ 2569 213 2275 61 \r\nQ 1981 -91 1556 -91 \r\nQ 1019 -91 701 211 \r\nQ 384 513 384 1019 \r\nQ 384 1609 779 1909 \r\nQ 1175 2209 1959 2209 \r\nL 2766 2209 \r\nL 2766 2266 \r\nQ 2766 2663 2505 2880 \r\nQ 2244 3097 1772 3097 \r\nQ 1472 3097 1187 3025 \r\nQ 903 2953 641 2809 \r\nL 641 3341 \r\nQ 956 3463 1253 3523 \r\nQ 1550 3584 1831 3584 \r\nQ 2591 3584 2966 3190 \r\nQ 3341 2797 3341 1997 \r\nz\r\n\" id=\"DejaVuSans-61\" transform=\"scale(0.015625)\"/>\r\n       <path d=\"M 2906 2969 \r\nL 2906 4863 \r\nL 3481 4863 \r\nL 3481 0 \r\nL 2906 0 \r\nL 2906 525 \r\nQ 2725 213 2448 61 \r\nQ 2172 -91 1784 -91 \r\nQ 1150 -91 751 415 \r\nQ 353 922 353 1747 \r\nQ 353 2572 751 3078 \r\nQ 1150 3584 1784 3584 \r\nQ 2172 3584 2448 3432 \r\nQ 2725 3281 2906 2969 \r\nz\r\nM 947 1747 \r\nQ 947 1113 1208 752 \r\nQ 1469 391 1925 391 \r\nQ 2381 391 2643 752 \r\nQ 2906 1113 2906 1747 \r\nQ 2906 2381 2643 2742 \r\nQ 2381 3103 1925 3103 \r\nQ 1469 3103 1208 2742 \r\nQ 947 2381 947 1747 \r\nz\r\n\" id=\"DejaVuSans-64\" transform=\"scale(0.015625)\"/>\r\n       <path id=\"DejaVuSans-20\" transform=\"scale(0.015625)\"/>\r\n       <path d=\"M 269 3500 \r\nL 844 3500 \r\nL 1563 769 \r\nL 2278 3500 \r\nL 2956 3500 \r\nL 3675 769 \r\nL 4391 3500 \r\nL 4966 3500 \r\nL 4050 0 \r\nL 3372 0 \r\nL 2619 2869 \r\nL 1863 0 \r\nL 1184 0 \r\nL 269 3500 \r\nz\r\n\" id=\"DejaVuSans-77\" transform=\"scale(0.015625)\"/>\r\n       <path d=\"M 1172 4494 \r\nL 1172 3500 \r\nL 2356 3500 \r\nL 2356 3053 \r\nL 1172 3053 \r\nL 1172 1153 \r\nQ 1172 725 1289 603 \r\nQ 1406 481 1766 481 \r\nL 2356 481 \r\nL 2356 0 \r\nL 1766 0 \r\nQ 1100 0 847 248 \r\nQ 594 497 594 1153 \r\nL 594 3053 \r\nL 172 3053 \r\nL 172 3500 \r\nL 594 3500 \r\nL 594 4494 \r\nL 1172 4494 \r\nz\r\n\" id=\"DejaVuSans-74\" transform=\"scale(0.015625)\"/>\r\n      </defs>\r\n      <use xlink:href=\"#DejaVuSans-67\"/>\r\n      <use x=\"63.476562\" xlink:href=\"#DejaVuSans-72\"/>\r\n      <use x=\"104.589844\" xlink:href=\"#DejaVuSans-61\"/>\r\n      <use x=\"165.869141\" xlink:href=\"#DejaVuSans-64\"/>\r\n      <use x=\"229.345703\" xlink:href=\"#DejaVuSans-20\"/>\r\n      <use x=\"261.132812\" xlink:href=\"#DejaVuSans-77\"/>\r\n      <use x=\"333.794922\" xlink:href=\"#DejaVuSans-2e\"/>\r\n      <use x=\"365.582031\" xlink:href=\"#DejaVuSans-73\"/>\r\n      <use x=\"417.681641\" xlink:href=\"#DejaVuSans-2e\"/>\r\n      <use x=\"449.46875\" xlink:href=\"#DejaVuSans-74\"/>\r\n      <use x=\"488.677734\" xlink:href=\"#DejaVuSans-20\"/>\r\n      <use x=\"520.464844\" xlink:href=\"#DejaVuSans-78\"/>\r\n     </g>\r\n    </g>\r\n   </g>\r\n  </g>\r\n </g>\r\n <defs>\r\n  <clipPath id=\"pc1379bb6d7\">\r\n   <rect height=\"135.9\" width=\"195.3\" x=\"38.482813\" y=\"7.2\"/>\r\n  </clipPath>\r\n </defs>\r\n</svg>\r\n",
      "text/plain": [
       "<Figure size 252x180 with 1 Axes>"
      ]
     },
     "metadata": {
      "needs_background": "light"
     },
     "output_type": "display_data"
    }
   ],
   "source": [
    "import numpy as np\n",
    "from d2l import torch as d2l\n",
    "\n",
    "x = np.linspace(- np.pi,np.pi,100)\n",
    "x = torch.tensor(x, requires_grad=True)\n",
    "y = torch.sin(x)\n",
    "y.sum().backward()\n",
    "\n",
    "d2l.plot(x.detach(),(y.detach(),x.grad),legend = (('sin(x)',\"grad w.s.t x\")))"
   ]
  },
  {
   "cell_type": "markdown",
   "metadata": {},
   "source": [
    "Probability"
   ]
  },
  {
   "cell_type": "code",
   "execution_count": 18,
   "metadata": {},
   "outputs": [],
   "source": [
    "%matplotlib inline\n",
    "import torch\n",
    "from torch.distributions import multinomial\n",
    "from d2l import torch as d2l"
   ]
  },
  {
   "cell_type": "code",
   "execution_count": 19,
   "metadata": {},
   "outputs": [
    {
     "data": {
      "text/plain": [
       "tensor([[1., 0., 0., 0., 0., 0.],\n",
       "        [0., 1., 0., 0., 0., 0.],\n",
       "        [1., 0., 0., 0., 0., 0.],\n",
       "        ...,\n",
       "        [0., 0., 1., 0., 0., 0.],\n",
       "        [0., 0., 0., 0., 0., 1.],\n",
       "        [1., 0., 0., 0., 0., 0.]])"
      ]
     },
     "execution_count": 19,
     "metadata": {},
     "output_type": "execute_result"
    },
    {
     "data": {
      "image/svg+xml": "<?xml version=\"1.0\" encoding=\"utf-8\" standalone=\"no\"?>\r\n<!DOCTYPE svg PUBLIC \"-//W3C//DTD SVG 1.1//EN\"\r\n  \"http://www.w3.org/Graphics/SVG/1.1/DTD/svg11.dtd\">\r\n<svg height=\"289.37625pt\" version=\"1.1\" viewBox=\"0 0 385.78125 289.37625\" width=\"385.78125pt\" xmlns=\"http://www.w3.org/2000/svg\" xmlns:xlink=\"http://www.w3.org/1999/xlink\">\r\n <metadata>\r\n  <rdf:RDF xmlns:cc=\"http://creativecommons.org/ns#\" xmlns:dc=\"http://purl.org/dc/elements/1.1/\" xmlns:rdf=\"http://www.w3.org/1999/02/22-rdf-syntax-ns#\">\r\n   <cc:Work>\r\n    <dc:type rdf:resource=\"http://purl.org/dc/dcmitype/StillImage\"/>\r\n    <dc:date>2022-03-27T21:25:16.327774</dc:date>\r\n    <dc:format>image/svg+xml</dc:format>\r\n    <dc:creator>\r\n     <cc:Agent>\r\n      <dc:title>Matplotlib v3.4.3, https://matplotlib.org/</dc:title>\r\n     </cc:Agent>\r\n    </dc:creator>\r\n   </cc:Work>\r\n  </rdf:RDF>\r\n </metadata>\r\n <defs>\r\n  <style type=\"text/css\">*{stroke-linecap:butt;stroke-linejoin:round;}</style>\r\n </defs>\r\n <g id=\"figure_1\">\r\n  <g id=\"patch_1\">\r\n   <path d=\"M 0 289.37625 \r\nL 385.78125 289.37625 \r\nL 385.78125 0 \r\nL 0 0 \r\nz\r\n\" style=\"fill:none;\"/>\r\n  </g>\r\n  <g id=\"axes_1\">\r\n   <g id=\"patch_2\">\r\n    <path d=\"M 43.78125 251.82 \r\nL 378.58125 251.82 \r\nL 378.58125 7.2 \r\nL 43.78125 7.2 \r\nz\r\n\" style=\"fill:#ffffff;\"/>\r\n   </g>\r\n   <g id=\"matplotlib.axis_1\">\r\n    <g id=\"xtick_1\">\r\n     <g id=\"line2d_1\">\r\n      <defs>\r\n       <path d=\"M 0 0 \r\nL 0 3.5 \r\n\" id=\"m6d04cb2e30\" style=\"stroke:#000000;stroke-width:0.8;\"/>\r\n      </defs>\r\n      <g>\r\n       <use style=\"stroke:#000000;stroke-width:0.8;\" x=\"58.999432\" xlink:href=\"#m6d04cb2e30\" y=\"251.82\"/>\r\n      </g>\r\n     </g>\r\n     <g id=\"text_1\">\r\n      <!-- 0 -->\r\n      <g transform=\"translate(55.818182 266.418437)scale(0.1 -0.1)\">\r\n       <defs>\r\n        <path d=\"M 2034 4250 \r\nQ 1547 4250 1301 3770 \r\nQ 1056 3291 1056 2328 \r\nQ 1056 1369 1301 889 \r\nQ 1547 409 2034 409 \r\nQ 2525 409 2770 889 \r\nQ 3016 1369 3016 2328 \r\nQ 3016 3291 2770 3770 \r\nQ 2525 4250 2034 4250 \r\nz\r\nM 2034 4750 \r\nQ 2819 4750 3233 4129 \r\nQ 3647 3509 3647 2328 \r\nQ 3647 1150 3233 529 \r\nQ 2819 -91 2034 -91 \r\nQ 1250 -91 836 529 \r\nQ 422 1150 422 2328 \r\nQ 422 3509 836 4129 \r\nQ 1250 4750 2034 4750 \r\nz\r\n\" id=\"DejaVuSans-30\" transform=\"scale(0.015625)\"/>\r\n       </defs>\r\n       <use xlink:href=\"#DejaVuSans-30\"/>\r\n      </g>\r\n     </g>\r\n    </g>\r\n    <g id=\"xtick_2\">\r\n     <g id=\"line2d_2\">\r\n      <g>\r\n       <use style=\"stroke:#000000;stroke-width:0.8;\" x=\"119.994149\" xlink:href=\"#m6d04cb2e30\" y=\"251.82\"/>\r\n      </g>\r\n     </g>\r\n     <g id=\"text_2\">\r\n      <!-- 100 -->\r\n      <g transform=\"translate(110.450399 266.418437)scale(0.1 -0.1)\">\r\n       <defs>\r\n        <path d=\"M 794 531 \r\nL 1825 531 \r\nL 1825 4091 \r\nL 703 3866 \r\nL 703 4441 \r\nL 1819 4666 \r\nL 2450 4666 \r\nL 2450 531 \r\nL 3481 531 \r\nL 3481 0 \r\nL 794 0 \r\nL 794 531 \r\nz\r\n\" id=\"DejaVuSans-31\" transform=\"scale(0.015625)\"/>\r\n       </defs>\r\n       <use xlink:href=\"#DejaVuSans-31\"/>\r\n       <use x=\"63.623047\" xlink:href=\"#DejaVuSans-30\"/>\r\n       <use x=\"127.246094\" xlink:href=\"#DejaVuSans-30\"/>\r\n      </g>\r\n     </g>\r\n    </g>\r\n    <g id=\"xtick_3\">\r\n     <g id=\"line2d_3\">\r\n      <g>\r\n       <use style=\"stroke:#000000;stroke-width:0.8;\" x=\"180.988865\" xlink:href=\"#m6d04cb2e30\" y=\"251.82\"/>\r\n      </g>\r\n     </g>\r\n     <g id=\"text_3\">\r\n      <!-- 200 -->\r\n      <g transform=\"translate(171.445115 266.418437)scale(0.1 -0.1)\">\r\n       <defs>\r\n        <path d=\"M 1228 531 \r\nL 3431 531 \r\nL 3431 0 \r\nL 469 0 \r\nL 469 531 \r\nQ 828 903 1448 1529 \r\nQ 2069 2156 2228 2338 \r\nQ 2531 2678 2651 2914 \r\nQ 2772 3150 2772 3378 \r\nQ 2772 3750 2511 3984 \r\nQ 2250 4219 1831 4219 \r\nQ 1534 4219 1204 4116 \r\nQ 875 4013 500 3803 \r\nL 500 4441 \r\nQ 881 4594 1212 4672 \r\nQ 1544 4750 1819 4750 \r\nQ 2544 4750 2975 4387 \r\nQ 3406 4025 3406 3419 \r\nQ 3406 3131 3298 2873 \r\nQ 3191 2616 2906 2266 \r\nQ 2828 2175 2409 1742 \r\nQ 1991 1309 1228 531 \r\nz\r\n\" id=\"DejaVuSans-32\" transform=\"scale(0.015625)\"/>\r\n       </defs>\r\n       <use xlink:href=\"#DejaVuSans-32\"/>\r\n       <use x=\"63.623047\" xlink:href=\"#DejaVuSans-30\"/>\r\n       <use x=\"127.246094\" xlink:href=\"#DejaVuSans-30\"/>\r\n      </g>\r\n     </g>\r\n    </g>\r\n    <g id=\"xtick_4\">\r\n     <g id=\"line2d_4\">\r\n      <g>\r\n       <use style=\"stroke:#000000;stroke-width:0.8;\" x=\"241.983582\" xlink:href=\"#m6d04cb2e30\" y=\"251.82\"/>\r\n      </g>\r\n     </g>\r\n     <g id=\"text_4\">\r\n      <!-- 300 -->\r\n      <g transform=\"translate(232.439832 266.418437)scale(0.1 -0.1)\">\r\n       <defs>\r\n        <path d=\"M 2597 2516 \r\nQ 3050 2419 3304 2112 \r\nQ 3559 1806 3559 1356 \r\nQ 3559 666 3084 287 \r\nQ 2609 -91 1734 -91 \r\nQ 1441 -91 1130 -33 \r\nQ 819 25 488 141 \r\nL 488 750 \r\nQ 750 597 1062 519 \r\nQ 1375 441 1716 441 \r\nQ 2309 441 2620 675 \r\nQ 2931 909 2931 1356 \r\nQ 2931 1769 2642 2001 \r\nQ 2353 2234 1838 2234 \r\nL 1294 2234 \r\nL 1294 2753 \r\nL 1863 2753 \r\nQ 2328 2753 2575 2939 \r\nQ 2822 3125 2822 3475 \r\nQ 2822 3834 2567 4026 \r\nQ 2313 4219 1838 4219 \r\nQ 1578 4219 1281 4162 \r\nQ 984 4106 628 3988 \r\nL 628 4550 \r\nQ 988 4650 1302 4700 \r\nQ 1616 4750 1894 4750 \r\nQ 2613 4750 3031 4423 \r\nQ 3450 4097 3450 3541 \r\nQ 3450 3153 3228 2886 \r\nQ 3006 2619 2597 2516 \r\nz\r\n\" id=\"DejaVuSans-33\" transform=\"scale(0.015625)\"/>\r\n       </defs>\r\n       <use xlink:href=\"#DejaVuSans-33\"/>\r\n       <use x=\"63.623047\" xlink:href=\"#DejaVuSans-30\"/>\r\n       <use x=\"127.246094\" xlink:href=\"#DejaVuSans-30\"/>\r\n      </g>\r\n     </g>\r\n    </g>\r\n    <g id=\"xtick_5\">\r\n     <g id=\"line2d_5\">\r\n      <g>\r\n       <use style=\"stroke:#000000;stroke-width:0.8;\" x=\"302.978299\" xlink:href=\"#m6d04cb2e30\" y=\"251.82\"/>\r\n      </g>\r\n     </g>\r\n     <g id=\"text_5\">\r\n      <!-- 400 -->\r\n      <g transform=\"translate(293.434549 266.418437)scale(0.1 -0.1)\">\r\n       <defs>\r\n        <path d=\"M 2419 4116 \r\nL 825 1625 \r\nL 2419 1625 \r\nL 2419 4116 \r\nz\r\nM 2253 4666 \r\nL 3047 4666 \r\nL 3047 1625 \r\nL 3713 1625 \r\nL 3713 1100 \r\nL 3047 1100 \r\nL 3047 0 \r\nL 2419 0 \r\nL 2419 1100 \r\nL 313 1100 \r\nL 313 1709 \r\nL 2253 4666 \r\nz\r\n\" id=\"DejaVuSans-34\" transform=\"scale(0.015625)\"/>\r\n       </defs>\r\n       <use xlink:href=\"#DejaVuSans-34\"/>\r\n       <use x=\"63.623047\" xlink:href=\"#DejaVuSans-30\"/>\r\n       <use x=\"127.246094\" xlink:href=\"#DejaVuSans-30\"/>\r\n      </g>\r\n     </g>\r\n    </g>\r\n    <g id=\"xtick_6\">\r\n     <g id=\"line2d_6\">\r\n      <g>\r\n       <use style=\"stroke:#000000;stroke-width:0.8;\" x=\"363.973015\" xlink:href=\"#m6d04cb2e30\" y=\"251.82\"/>\r\n      </g>\r\n     </g>\r\n     <g id=\"text_6\">\r\n      <!-- 500 -->\r\n      <g transform=\"translate(354.429265 266.418437)scale(0.1 -0.1)\">\r\n       <defs>\r\n        <path d=\"M 691 4666 \r\nL 3169 4666 \r\nL 3169 4134 \r\nL 1269 4134 \r\nL 1269 2991 \r\nQ 1406 3038 1543 3061 \r\nQ 1681 3084 1819 3084 \r\nQ 2600 3084 3056 2656 \r\nQ 3513 2228 3513 1497 \r\nQ 3513 744 3044 326 \r\nQ 2575 -91 1722 -91 \r\nQ 1428 -91 1123 -41 \r\nQ 819 9 494 109 \r\nL 494 744 \r\nQ 775 591 1075 516 \r\nQ 1375 441 1709 441 \r\nQ 2250 441 2565 725 \r\nQ 2881 1009 2881 1497 \r\nQ 2881 1984 2565 2268 \r\nQ 2250 2553 1709 2553 \r\nQ 1456 2553 1204 2497 \r\nQ 953 2441 691 2322 \r\nL 691 4666 \r\nz\r\n\" id=\"DejaVuSans-35\" transform=\"scale(0.015625)\"/>\r\n       </defs>\r\n       <use xlink:href=\"#DejaVuSans-35\"/>\r\n       <use x=\"63.623047\" xlink:href=\"#DejaVuSans-30\"/>\r\n       <use x=\"127.246094\" xlink:href=\"#DejaVuSans-30\"/>\r\n      </g>\r\n     </g>\r\n    </g>\r\n    <g id=\"text_7\">\r\n     <!-- Groups of experiments -->\r\n     <g transform=\"translate(154.035156 280.096562)scale(0.1 -0.1)\">\r\n      <defs>\r\n       <path d=\"M 3809 666 \r\nL 3809 1919 \r\nL 2778 1919 \r\nL 2778 2438 \r\nL 4434 2438 \r\nL 4434 434 \r\nQ 4069 175 3628 42 \r\nQ 3188 -91 2688 -91 \r\nQ 1594 -91 976 548 \r\nQ 359 1188 359 2328 \r\nQ 359 3472 976 4111 \r\nQ 1594 4750 2688 4750 \r\nQ 3144 4750 3555 4637 \r\nQ 3966 4525 4313 4306 \r\nL 4313 3634 \r\nQ 3963 3931 3569 4081 \r\nQ 3175 4231 2741 4231 \r\nQ 1884 4231 1454 3753 \r\nQ 1025 3275 1025 2328 \r\nQ 1025 1384 1454 906 \r\nQ 1884 428 2741 428 \r\nQ 3075 428 3337 486 \r\nQ 3600 544 3809 666 \r\nz\r\n\" id=\"DejaVuSans-47\" transform=\"scale(0.015625)\"/>\r\n       <path d=\"M 2631 2963 \r\nQ 2534 3019 2420 3045 \r\nQ 2306 3072 2169 3072 \r\nQ 1681 3072 1420 2755 \r\nQ 1159 2438 1159 1844 \r\nL 1159 0 \r\nL 581 0 \r\nL 581 3500 \r\nL 1159 3500 \r\nL 1159 2956 \r\nQ 1341 3275 1631 3429 \r\nQ 1922 3584 2338 3584 \r\nQ 2397 3584 2469 3576 \r\nQ 2541 3569 2628 3553 \r\nL 2631 2963 \r\nz\r\n\" id=\"DejaVuSans-72\" transform=\"scale(0.015625)\"/>\r\n       <path d=\"M 1959 3097 \r\nQ 1497 3097 1228 2736 \r\nQ 959 2375 959 1747 \r\nQ 959 1119 1226 758 \r\nQ 1494 397 1959 397 \r\nQ 2419 397 2687 759 \r\nQ 2956 1122 2956 1747 \r\nQ 2956 2369 2687 2733 \r\nQ 2419 3097 1959 3097 \r\nz\r\nM 1959 3584 \r\nQ 2709 3584 3137 3096 \r\nQ 3566 2609 3566 1747 \r\nQ 3566 888 3137 398 \r\nQ 2709 -91 1959 -91 \r\nQ 1206 -91 779 398 \r\nQ 353 888 353 1747 \r\nQ 353 2609 779 3096 \r\nQ 1206 3584 1959 3584 \r\nz\r\n\" id=\"DejaVuSans-6f\" transform=\"scale(0.015625)\"/>\r\n       <path d=\"M 544 1381 \r\nL 544 3500 \r\nL 1119 3500 \r\nL 1119 1403 \r\nQ 1119 906 1312 657 \r\nQ 1506 409 1894 409 \r\nQ 2359 409 2629 706 \r\nQ 2900 1003 2900 1516 \r\nL 2900 3500 \r\nL 3475 3500 \r\nL 3475 0 \r\nL 2900 0 \r\nL 2900 538 \r\nQ 2691 219 2414 64 \r\nQ 2138 -91 1772 -91 \r\nQ 1169 -91 856 284 \r\nQ 544 659 544 1381 \r\nz\r\nM 1991 3584 \r\nL 1991 3584 \r\nz\r\n\" id=\"DejaVuSans-75\" transform=\"scale(0.015625)\"/>\r\n       <path d=\"M 1159 525 \r\nL 1159 -1331 \r\nL 581 -1331 \r\nL 581 3500 \r\nL 1159 3500 \r\nL 1159 2969 \r\nQ 1341 3281 1617 3432 \r\nQ 1894 3584 2278 3584 \r\nQ 2916 3584 3314 3078 \r\nQ 3713 2572 3713 1747 \r\nQ 3713 922 3314 415 \r\nQ 2916 -91 2278 -91 \r\nQ 1894 -91 1617 61 \r\nQ 1341 213 1159 525 \r\nz\r\nM 3116 1747 \r\nQ 3116 2381 2855 2742 \r\nQ 2594 3103 2138 3103 \r\nQ 1681 3103 1420 2742 \r\nQ 1159 2381 1159 1747 \r\nQ 1159 1113 1420 752 \r\nQ 1681 391 2138 391 \r\nQ 2594 391 2855 752 \r\nQ 3116 1113 3116 1747 \r\nz\r\n\" id=\"DejaVuSans-70\" transform=\"scale(0.015625)\"/>\r\n       <path d=\"M 2834 3397 \r\nL 2834 2853 \r\nQ 2591 2978 2328 3040 \r\nQ 2066 3103 1784 3103 \r\nQ 1356 3103 1142 2972 \r\nQ 928 2841 928 2578 \r\nQ 928 2378 1081 2264 \r\nQ 1234 2150 1697 2047 \r\nL 1894 2003 \r\nQ 2506 1872 2764 1633 \r\nQ 3022 1394 3022 966 \r\nQ 3022 478 2636 193 \r\nQ 2250 -91 1575 -91 \r\nQ 1294 -91 989 -36 \r\nQ 684 19 347 128 \r\nL 347 722 \r\nQ 666 556 975 473 \r\nQ 1284 391 1588 391 \r\nQ 1994 391 2212 530 \r\nQ 2431 669 2431 922 \r\nQ 2431 1156 2273 1281 \r\nQ 2116 1406 1581 1522 \r\nL 1381 1569 \r\nQ 847 1681 609 1914 \r\nQ 372 2147 372 2553 \r\nQ 372 3047 722 3315 \r\nQ 1072 3584 1716 3584 \r\nQ 2034 3584 2315 3537 \r\nQ 2597 3491 2834 3397 \r\nz\r\n\" id=\"DejaVuSans-73\" transform=\"scale(0.015625)\"/>\r\n       <path id=\"DejaVuSans-20\" transform=\"scale(0.015625)\"/>\r\n       <path d=\"M 2375 4863 \r\nL 2375 4384 \r\nL 1825 4384 \r\nQ 1516 4384 1395 4259 \r\nQ 1275 4134 1275 3809 \r\nL 1275 3500 \r\nL 2222 3500 \r\nL 2222 3053 \r\nL 1275 3053 \r\nL 1275 0 \r\nL 697 0 \r\nL 697 3053 \r\nL 147 3053 \r\nL 147 3500 \r\nL 697 3500 \r\nL 697 3744 \r\nQ 697 4328 969 4595 \r\nQ 1241 4863 1831 4863 \r\nL 2375 4863 \r\nz\r\n\" id=\"DejaVuSans-66\" transform=\"scale(0.015625)\"/>\r\n       <path d=\"M 3597 1894 \r\nL 3597 1613 \r\nL 953 1613 \r\nQ 991 1019 1311 708 \r\nQ 1631 397 2203 397 \r\nQ 2534 397 2845 478 \r\nQ 3156 559 3463 722 \r\nL 3463 178 \r\nQ 3153 47 2828 -22 \r\nQ 2503 -91 2169 -91 \r\nQ 1331 -91 842 396 \r\nQ 353 884 353 1716 \r\nQ 353 2575 817 3079 \r\nQ 1281 3584 2069 3584 \r\nQ 2775 3584 3186 3129 \r\nQ 3597 2675 3597 1894 \r\nz\r\nM 3022 2063 \r\nQ 3016 2534 2758 2815 \r\nQ 2500 3097 2075 3097 \r\nQ 1594 3097 1305 2825 \r\nQ 1016 2553 972 2059 \r\nL 3022 2063 \r\nz\r\n\" id=\"DejaVuSans-65\" transform=\"scale(0.015625)\"/>\r\n       <path d=\"M 3513 3500 \r\nL 2247 1797 \r\nL 3578 0 \r\nL 2900 0 \r\nL 1881 1375 \r\nL 863 0 \r\nL 184 0 \r\nL 1544 1831 \r\nL 300 3500 \r\nL 978 3500 \r\nL 1906 2253 \r\nL 2834 3500 \r\nL 3513 3500 \r\nz\r\n\" id=\"DejaVuSans-78\" transform=\"scale(0.015625)\"/>\r\n       <path d=\"M 603 3500 \r\nL 1178 3500 \r\nL 1178 0 \r\nL 603 0 \r\nL 603 3500 \r\nz\r\nM 603 4863 \r\nL 1178 4863 \r\nL 1178 4134 \r\nL 603 4134 \r\nL 603 4863 \r\nz\r\n\" id=\"DejaVuSans-69\" transform=\"scale(0.015625)\"/>\r\n       <path d=\"M 3328 2828 \r\nQ 3544 3216 3844 3400 \r\nQ 4144 3584 4550 3584 \r\nQ 5097 3584 5394 3201 \r\nQ 5691 2819 5691 2113 \r\nL 5691 0 \r\nL 5113 0 \r\nL 5113 2094 \r\nQ 5113 2597 4934 2840 \r\nQ 4756 3084 4391 3084 \r\nQ 3944 3084 3684 2787 \r\nQ 3425 2491 3425 1978 \r\nL 3425 0 \r\nL 2847 0 \r\nL 2847 2094 \r\nQ 2847 2600 2669 2842 \r\nQ 2491 3084 2119 3084 \r\nQ 1678 3084 1418 2786 \r\nQ 1159 2488 1159 1978 \r\nL 1159 0 \r\nL 581 0 \r\nL 581 3500 \r\nL 1159 3500 \r\nL 1159 2956 \r\nQ 1356 3278 1631 3431 \r\nQ 1906 3584 2284 3584 \r\nQ 2666 3584 2933 3390 \r\nQ 3200 3197 3328 2828 \r\nz\r\n\" id=\"DejaVuSans-6d\" transform=\"scale(0.015625)\"/>\r\n       <path d=\"M 3513 2113 \r\nL 3513 0 \r\nL 2938 0 \r\nL 2938 2094 \r\nQ 2938 2591 2744 2837 \r\nQ 2550 3084 2163 3084 \r\nQ 1697 3084 1428 2787 \r\nQ 1159 2491 1159 1978 \r\nL 1159 0 \r\nL 581 0 \r\nL 581 3500 \r\nL 1159 3500 \r\nL 1159 2956 \r\nQ 1366 3272 1645 3428 \r\nQ 1925 3584 2291 3584 \r\nQ 2894 3584 3203 3211 \r\nQ 3513 2838 3513 2113 \r\nz\r\n\" id=\"DejaVuSans-6e\" transform=\"scale(0.015625)\"/>\r\n       <path d=\"M 1172 4494 \r\nL 1172 3500 \r\nL 2356 3500 \r\nL 2356 3053 \r\nL 1172 3053 \r\nL 1172 1153 \r\nQ 1172 725 1289 603 \r\nQ 1406 481 1766 481 \r\nL 2356 481 \r\nL 2356 0 \r\nL 1766 0 \r\nQ 1100 0 847 248 \r\nQ 594 497 594 1153 \r\nL 594 3053 \r\nL 172 3053 \r\nL 172 3500 \r\nL 594 3500 \r\nL 594 4494 \r\nL 1172 4494 \r\nz\r\n\" id=\"DejaVuSans-74\" transform=\"scale(0.015625)\"/>\r\n      </defs>\r\n      <use xlink:href=\"#DejaVuSans-47\"/>\r\n      <use x=\"77.490234\" xlink:href=\"#DejaVuSans-72\"/>\r\n      <use x=\"116.353516\" xlink:href=\"#DejaVuSans-6f\"/>\r\n      <use x=\"177.535156\" xlink:href=\"#DejaVuSans-75\"/>\r\n      <use x=\"240.914062\" xlink:href=\"#DejaVuSans-70\"/>\r\n      <use x=\"304.390625\" xlink:href=\"#DejaVuSans-73\"/>\r\n      <use x=\"356.490234\" xlink:href=\"#DejaVuSans-20\"/>\r\n      <use x=\"388.277344\" xlink:href=\"#DejaVuSans-6f\"/>\r\n      <use x=\"449.458984\" xlink:href=\"#DejaVuSans-66\"/>\r\n      <use x=\"484.664062\" xlink:href=\"#DejaVuSans-20\"/>\r\n      <use x=\"516.451172\" xlink:href=\"#DejaVuSans-65\"/>\r\n      <use x=\"576.224609\" xlink:href=\"#DejaVuSans-78\"/>\r\n      <use x=\"635.404297\" xlink:href=\"#DejaVuSans-70\"/>\r\n      <use x=\"698.880859\" xlink:href=\"#DejaVuSans-65\"/>\r\n      <use x=\"760.404297\" xlink:href=\"#DejaVuSans-72\"/>\r\n      <use x=\"801.517578\" xlink:href=\"#DejaVuSans-69\"/>\r\n      <use x=\"829.300781\" xlink:href=\"#DejaVuSans-6d\"/>\r\n      <use x=\"926.712891\" xlink:href=\"#DejaVuSans-65\"/>\r\n      <use x=\"988.236328\" xlink:href=\"#DejaVuSans-6e\"/>\r\n      <use x=\"1051.615234\" xlink:href=\"#DejaVuSans-74\"/>\r\n      <use x=\"1090.824219\" xlink:href=\"#DejaVuSans-73\"/>\r\n     </g>\r\n    </g>\r\n   </g>\r\n   <g id=\"matplotlib.axis_2\">\r\n    <g id=\"ytick_1\">\r\n     <g id=\"line2d_7\">\r\n      <defs>\r\n       <path d=\"M 0 0 \r\nL -3.5 0 \r\n\" id=\"m457442fc8d\" style=\"stroke:#000000;stroke-width:0.8;\"/>\r\n      </defs>\r\n      <g>\r\n       <use style=\"stroke:#000000;stroke-width:0.8;\" x=\"43.78125\" xlink:href=\"#m457442fc8d\" y=\"240.700909\"/>\r\n      </g>\r\n     </g>\r\n     <g id=\"text_8\">\r\n      <!-- 0.0 -->\r\n      <g transform=\"translate(20.878125 244.500128)scale(0.1 -0.1)\">\r\n       <defs>\r\n        <path d=\"M 684 794 \r\nL 1344 794 \r\nL 1344 0 \r\nL 684 0 \r\nL 684 794 \r\nz\r\n\" id=\"DejaVuSans-2e\" transform=\"scale(0.015625)\"/>\r\n       </defs>\r\n       <use xlink:href=\"#DejaVuSans-30\"/>\r\n       <use x=\"63.623047\" xlink:href=\"#DejaVuSans-2e\"/>\r\n       <use x=\"95.410156\" xlink:href=\"#DejaVuSans-30\"/>\r\n      </g>\r\n     </g>\r\n    </g>\r\n    <g id=\"ytick_2\">\r\n     <g id=\"line2d_8\">\r\n      <g>\r\n       <use style=\"stroke:#000000;stroke-width:0.8;\" x=\"43.78125\" xlink:href=\"#m457442fc8d\" y=\"196.224545\"/>\r\n      </g>\r\n     </g>\r\n     <g id=\"text_9\">\r\n      <!-- 0.2 -->\r\n      <g transform=\"translate(20.878125 200.023764)scale(0.1 -0.1)\">\r\n       <use xlink:href=\"#DejaVuSans-30\"/>\r\n       <use x=\"63.623047\" xlink:href=\"#DejaVuSans-2e\"/>\r\n       <use x=\"95.410156\" xlink:href=\"#DejaVuSans-32\"/>\r\n      </g>\r\n     </g>\r\n    </g>\r\n    <g id=\"ytick_3\">\r\n     <g id=\"line2d_9\">\r\n      <g>\r\n       <use style=\"stroke:#000000;stroke-width:0.8;\" x=\"43.78125\" xlink:href=\"#m457442fc8d\" y=\"151.748182\"/>\r\n      </g>\r\n     </g>\r\n     <g id=\"text_10\">\r\n      <!-- 0.4 -->\r\n      <g transform=\"translate(20.878125 155.547401)scale(0.1 -0.1)\">\r\n       <use xlink:href=\"#DejaVuSans-30\"/>\r\n       <use x=\"63.623047\" xlink:href=\"#DejaVuSans-2e\"/>\r\n       <use x=\"95.410156\" xlink:href=\"#DejaVuSans-34\"/>\r\n      </g>\r\n     </g>\r\n    </g>\r\n    <g id=\"ytick_4\">\r\n     <g id=\"line2d_10\">\r\n      <g>\r\n       <use style=\"stroke:#000000;stroke-width:0.8;\" x=\"43.78125\" xlink:href=\"#m457442fc8d\" y=\"107.271818\"/>\r\n      </g>\r\n     </g>\r\n     <g id=\"text_11\">\r\n      <!-- 0.6 -->\r\n      <g transform=\"translate(20.878125 111.071037)scale(0.1 -0.1)\">\r\n       <defs>\r\n        <path d=\"M 2113 2584 \r\nQ 1688 2584 1439 2293 \r\nQ 1191 2003 1191 1497 \r\nQ 1191 994 1439 701 \r\nQ 1688 409 2113 409 \r\nQ 2538 409 2786 701 \r\nQ 3034 994 3034 1497 \r\nQ 3034 2003 2786 2293 \r\nQ 2538 2584 2113 2584 \r\nz\r\nM 3366 4563 \r\nL 3366 3988 \r\nQ 3128 4100 2886 4159 \r\nQ 2644 4219 2406 4219 \r\nQ 1781 4219 1451 3797 \r\nQ 1122 3375 1075 2522 \r\nQ 1259 2794 1537 2939 \r\nQ 1816 3084 2150 3084 \r\nQ 2853 3084 3261 2657 \r\nQ 3669 2231 3669 1497 \r\nQ 3669 778 3244 343 \r\nQ 2819 -91 2113 -91 \r\nQ 1303 -91 875 529 \r\nQ 447 1150 447 2328 \r\nQ 447 3434 972 4092 \r\nQ 1497 4750 2381 4750 \r\nQ 2619 4750 2861 4703 \r\nQ 3103 4656 3366 4563 \r\nz\r\n\" id=\"DejaVuSans-36\" transform=\"scale(0.015625)\"/>\r\n       </defs>\r\n       <use xlink:href=\"#DejaVuSans-30\"/>\r\n       <use x=\"63.623047\" xlink:href=\"#DejaVuSans-2e\"/>\r\n       <use x=\"95.410156\" xlink:href=\"#DejaVuSans-36\"/>\r\n      </g>\r\n     </g>\r\n    </g>\r\n    <g id=\"ytick_5\">\r\n     <g id=\"line2d_11\">\r\n      <g>\r\n       <use style=\"stroke:#000000;stroke-width:0.8;\" x=\"43.78125\" xlink:href=\"#m457442fc8d\" y=\"62.795455\"/>\r\n      </g>\r\n     </g>\r\n     <g id=\"text_12\">\r\n      <!-- 0.8 -->\r\n      <g transform=\"translate(20.878125 66.594673)scale(0.1 -0.1)\">\r\n       <defs>\r\n        <path d=\"M 2034 2216 \r\nQ 1584 2216 1326 1975 \r\nQ 1069 1734 1069 1313 \r\nQ 1069 891 1326 650 \r\nQ 1584 409 2034 409 \r\nQ 2484 409 2743 651 \r\nQ 3003 894 3003 1313 \r\nQ 3003 1734 2745 1975 \r\nQ 2488 2216 2034 2216 \r\nz\r\nM 1403 2484 \r\nQ 997 2584 770 2862 \r\nQ 544 3141 544 3541 \r\nQ 544 4100 942 4425 \r\nQ 1341 4750 2034 4750 \r\nQ 2731 4750 3128 4425 \r\nQ 3525 4100 3525 3541 \r\nQ 3525 3141 3298 2862 \r\nQ 3072 2584 2669 2484 \r\nQ 3125 2378 3379 2068 \r\nQ 3634 1759 3634 1313 \r\nQ 3634 634 3220 271 \r\nQ 2806 -91 2034 -91 \r\nQ 1263 -91 848 271 \r\nQ 434 634 434 1313 \r\nQ 434 1759 690 2068 \r\nQ 947 2378 1403 2484 \r\nz\r\nM 1172 3481 \r\nQ 1172 3119 1398 2916 \r\nQ 1625 2713 2034 2713 \r\nQ 2441 2713 2670 2916 \r\nQ 2900 3119 2900 3481 \r\nQ 2900 3844 2670 4047 \r\nQ 2441 4250 2034 4250 \r\nQ 1625 4250 1398 4047 \r\nQ 1172 3844 1172 3481 \r\nz\r\n\" id=\"DejaVuSans-38\" transform=\"scale(0.015625)\"/>\r\n       </defs>\r\n       <use xlink:href=\"#DejaVuSans-30\"/>\r\n       <use x=\"63.623047\" xlink:href=\"#DejaVuSans-2e\"/>\r\n       <use x=\"95.410156\" xlink:href=\"#DejaVuSans-38\"/>\r\n      </g>\r\n     </g>\r\n    </g>\r\n    <g id=\"ytick_6\">\r\n     <g id=\"line2d_12\">\r\n      <g>\r\n       <use style=\"stroke:#000000;stroke-width:0.8;\" x=\"43.78125\" xlink:href=\"#m457442fc8d\" y=\"18.319091\"/>\r\n      </g>\r\n     </g>\r\n     <g id=\"text_13\">\r\n      <!-- 1.0 -->\r\n      <g transform=\"translate(20.878125 22.11831)scale(0.1 -0.1)\">\r\n       <use xlink:href=\"#DejaVuSans-31\"/>\r\n       <use x=\"63.623047\" xlink:href=\"#DejaVuSans-2e\"/>\r\n       <use x=\"95.410156\" xlink:href=\"#DejaVuSans-30\"/>\r\n      </g>\r\n     </g>\r\n    </g>\r\n    <g id=\"text_14\">\r\n     <!-- Estimated probability -->\r\n     <g transform=\"translate(14.798438 183.033437)rotate(-90)scale(0.1 -0.1)\">\r\n      <defs>\r\n       <path d=\"M 628 4666 \r\nL 3578 4666 \r\nL 3578 4134 \r\nL 1259 4134 \r\nL 1259 2753 \r\nL 3481 2753 \r\nL 3481 2222 \r\nL 1259 2222 \r\nL 1259 531 \r\nL 3634 531 \r\nL 3634 0 \r\nL 628 0 \r\nL 628 4666 \r\nz\r\n\" id=\"DejaVuSans-45\" transform=\"scale(0.015625)\"/>\r\n       <path d=\"M 2194 1759 \r\nQ 1497 1759 1228 1600 \r\nQ 959 1441 959 1056 \r\nQ 959 750 1161 570 \r\nQ 1363 391 1709 391 \r\nQ 2188 391 2477 730 \r\nQ 2766 1069 2766 1631 \r\nL 2766 1759 \r\nL 2194 1759 \r\nz\r\nM 3341 1997 \r\nL 3341 0 \r\nL 2766 0 \r\nL 2766 531 \r\nQ 2569 213 2275 61 \r\nQ 1981 -91 1556 -91 \r\nQ 1019 -91 701 211 \r\nQ 384 513 384 1019 \r\nQ 384 1609 779 1909 \r\nQ 1175 2209 1959 2209 \r\nL 2766 2209 \r\nL 2766 2266 \r\nQ 2766 2663 2505 2880 \r\nQ 2244 3097 1772 3097 \r\nQ 1472 3097 1187 3025 \r\nQ 903 2953 641 2809 \r\nL 641 3341 \r\nQ 956 3463 1253 3523 \r\nQ 1550 3584 1831 3584 \r\nQ 2591 3584 2966 3190 \r\nQ 3341 2797 3341 1997 \r\nz\r\n\" id=\"DejaVuSans-61\" transform=\"scale(0.015625)\"/>\r\n       <path d=\"M 2906 2969 \r\nL 2906 4863 \r\nL 3481 4863 \r\nL 3481 0 \r\nL 2906 0 \r\nL 2906 525 \r\nQ 2725 213 2448 61 \r\nQ 2172 -91 1784 -91 \r\nQ 1150 -91 751 415 \r\nQ 353 922 353 1747 \r\nQ 353 2572 751 3078 \r\nQ 1150 3584 1784 3584 \r\nQ 2172 3584 2448 3432 \r\nQ 2725 3281 2906 2969 \r\nz\r\nM 947 1747 \r\nQ 947 1113 1208 752 \r\nQ 1469 391 1925 391 \r\nQ 2381 391 2643 752 \r\nQ 2906 1113 2906 1747 \r\nQ 2906 2381 2643 2742 \r\nQ 2381 3103 1925 3103 \r\nQ 1469 3103 1208 2742 \r\nQ 947 2381 947 1747 \r\nz\r\n\" id=\"DejaVuSans-64\" transform=\"scale(0.015625)\"/>\r\n       <path d=\"M 3116 1747 \r\nQ 3116 2381 2855 2742 \r\nQ 2594 3103 2138 3103 \r\nQ 1681 3103 1420 2742 \r\nQ 1159 2381 1159 1747 \r\nQ 1159 1113 1420 752 \r\nQ 1681 391 2138 391 \r\nQ 2594 391 2855 752 \r\nQ 3116 1113 3116 1747 \r\nz\r\nM 1159 2969 \r\nQ 1341 3281 1617 3432 \r\nQ 1894 3584 2278 3584 \r\nQ 2916 3584 3314 3078 \r\nQ 3713 2572 3713 1747 \r\nQ 3713 922 3314 415 \r\nQ 2916 -91 2278 -91 \r\nQ 1894 -91 1617 61 \r\nQ 1341 213 1159 525 \r\nL 1159 0 \r\nL 581 0 \r\nL 581 4863 \r\nL 1159 4863 \r\nL 1159 2969 \r\nz\r\n\" id=\"DejaVuSans-62\" transform=\"scale(0.015625)\"/>\r\n       <path d=\"M 603 4863 \r\nL 1178 4863 \r\nL 1178 0 \r\nL 603 0 \r\nL 603 4863 \r\nz\r\n\" id=\"DejaVuSans-6c\" transform=\"scale(0.015625)\"/>\r\n       <path d=\"M 2059 -325 \r\nQ 1816 -950 1584 -1140 \r\nQ 1353 -1331 966 -1331 \r\nL 506 -1331 \r\nL 506 -850 \r\nL 844 -850 \r\nQ 1081 -850 1212 -737 \r\nQ 1344 -625 1503 -206 \r\nL 1606 56 \r\nL 191 3500 \r\nL 800 3500 \r\nL 1894 763 \r\nL 2988 3500 \r\nL 3597 3500 \r\nL 2059 -325 \r\nz\r\n\" id=\"DejaVuSans-79\" transform=\"scale(0.015625)\"/>\r\n      </defs>\r\n      <use xlink:href=\"#DejaVuSans-45\"/>\r\n      <use x=\"63.183594\" xlink:href=\"#DejaVuSans-73\"/>\r\n      <use x=\"115.283203\" xlink:href=\"#DejaVuSans-74\"/>\r\n      <use x=\"154.492188\" xlink:href=\"#DejaVuSans-69\"/>\r\n      <use x=\"182.275391\" xlink:href=\"#DejaVuSans-6d\"/>\r\n      <use x=\"279.6875\" xlink:href=\"#DejaVuSans-61\"/>\r\n      <use x=\"340.966797\" xlink:href=\"#DejaVuSans-74\"/>\r\n      <use x=\"380.175781\" xlink:href=\"#DejaVuSans-65\"/>\r\n      <use x=\"441.699219\" xlink:href=\"#DejaVuSans-64\"/>\r\n      <use x=\"505.175781\" xlink:href=\"#DejaVuSans-20\"/>\r\n      <use x=\"536.962891\" xlink:href=\"#DejaVuSans-70\"/>\r\n      <use x=\"600.439453\" xlink:href=\"#DejaVuSans-72\"/>\r\n      <use x=\"639.302734\" xlink:href=\"#DejaVuSans-6f\"/>\r\n      <use x=\"700.484375\" xlink:href=\"#DejaVuSans-62\"/>\r\n      <use x=\"763.960938\" xlink:href=\"#DejaVuSans-61\"/>\r\n      <use x=\"825.240234\" xlink:href=\"#DejaVuSans-62\"/>\r\n      <use x=\"888.716797\" xlink:href=\"#DejaVuSans-69\"/>\r\n      <use x=\"916.5\" xlink:href=\"#DejaVuSans-6c\"/>\r\n      <use x=\"944.283203\" xlink:href=\"#DejaVuSans-69\"/>\r\n      <use x=\"972.066406\" xlink:href=\"#DejaVuSans-74\"/>\r\n      <use x=\"1011.275391\" xlink:href=\"#DejaVuSans-79\"/>\r\n     </g>\r\n    </g>\r\n   </g>\r\n   <g id=\"line2d_13\">\r\n    <path clip-path=\"url(#pa036074e14)\" d=\"M 58.999432 18.319091 \r\nL 59.609379 129.51 \r\nL 60.219326 92.446359 \r\nL 60.829273 129.51 \r\nL 61.43922 151.74818 \r\nL 62.049168 129.51 \r\nL 62.659115 113.625579 \r\nL 63.269062 129.51 \r\nL 63.879009 141.864545 \r\nL 65.098903 159.834791 \r\nL 65.708851 148.04182 \r\nL 66.928745 161.278829 \r\nL 68.148639 171.206591 \r\nL 69.368534 178.928179 \r\nL 69.978481 170.475075 \r\nL 71.198375 177.163244 \r\nL 72.418269 182.688261 \r\nL 73.638164 187.329274 \r\nL 74.858058 191.282727 \r\nL 76.077952 194.690876 \r\nL 77.297847 197.659268 \r\nL 77.907794 192.054886 \r\nL 79.737635 196.224545 \r\nL 80.347583 197.459999 \r\nL 82.177424 183.679927 \r\nL 83.397319 186.46144 \r\nL 84.007266 182.458049 \r\nL 84.617213 183.812536 \r\nL 85.837107 176.45727 \r\nL 87.057002 179.191045 \r\nL 87.666949 175.839548 \r\nL 88.886843 178.434 \r\nL 89.49679 175.294489 \r\nL 91.326632 178.928179 \r\nL 93.76642 183.188372 \r\nL 96.206209 186.898858 \r\nL 98.645998 190.159585 \r\nL 99.255945 187.594804 \r\nL 101.695734 190.586697 \r\nL 102.305681 191.282727 \r\nL 103.525575 186.608034 \r\nL 104.745469 188.03153 \r\nL 105.355417 185.827474 \r\nL 107.795205 188.537274 \r\nL 110.844941 191.570042 \r\nL 113.894677 194.26954 \r\nL 115.114571 195.268065 \r\nL 115.724518 193.385628 \r\nL 117.55436 194.848988 \r\nL 118.774254 191.282727 \r\nL 119.384201 191.776909 \r\nL 120.604096 188.375775 \r\nL 124.263779 191.282727 \r\nL 125.483673 192.18124 \r\nL 126.703567 189.07656 \r\nL 130.36325 191.701525 \r\nL 134.022933 194.072465 \r\nL 135.242828 194.812597 \r\nL 135.852775 193.422884 \r\nL 140.122405 195.892633 \r\nL 140.732352 196.224545 \r\nL 141.342299 194.916417 \r\nL 145.001982 196.850972 \r\nL 145.61193 195.602498 \r\nL 150.491507 197.991819 \r\nL 151.101454 198.272799 \r\nL 151.711401 197.09663 \r\nL 154.761137 198.476514 \r\nL 155.371084 197.343448 \r\nL 160.860609 199.66617 \r\nL 165.740186 201.531385 \r\nL 166.350133 200.496287 \r\nL 167.570028 200.945501 \r\nL 168.179975 199.930908 \r\nL 168.789922 200.156157 \r\nL 169.399869 199.157052 \r\nL 174.279446 200.906267 \r\nL 175.499341 199.004318 \r\nL 176.109288 199.220361 \r\nL 177.329182 197.364964 \r\nL 177.939129 197.586067 \r\nL 179.159024 195.77529 \r\nL 180.378918 196.224545 \r\nL 180.988865 195.339443 \r\nL 182.20876 195.786355 \r\nL 182.818707 194.916417 \r\nL 189.528126 197.258878 \r\nL 190.74802 197.659268 \r\nL 191.357967 196.836604 \r\nL 194.407703 197.820111 \r\nL 196.237544 195.437354 \r\nL 198.067386 196.030326 \r\nL 198.677333 195.25767 \r\nL 201.727069 196.224545 \r\nL 202.337016 195.47071 \r\nL 205.996699 196.592119 \r\nL 207.216593 195.130866 \r\nL 211.486224 196.401741 \r\nL 212.096171 195.695064 \r\nL 216.975748 197.079859 \r\nL 217.585695 196.394954 \r\nL 219.415537 196.898428 \r\nL 220.025484 196.224545 \r\nL 222.465273 196.885902 \r\nL 223.685167 195.568068 \r\nL 225.515008 196.062224 \r\nL 226.124956 195.415884 \r\nL 226.734903 195.579961 \r\nL 227.34485 194.94003 \r\nL 230.394586 195.751391 \r\nL 231.004533 195.124424 \r\nL 231.61448 195.284905 \r\nL 232.224427 194.663972 \r\nL 236.494057 195.767596 \r\nL 237.104005 195.161972 \r\nL 237.713952 195.316863 \r\nL 238.933846 194.120935 \r\nL 239.543793 194.277768 \r\nL 240.15374 193.687305 \r\nL 244.423371 194.766304 \r\nL 245.033318 194.189679 \r\nL 248.693001 195.084125 \r\nL 249.302948 194.51938 \r\nL 249.912895 194.666457 \r\nL 250.522842 194.106623 \r\nL 259.67205 196.224545 \r\nL 260.281997 195.687068 \r\nL 262.111838 196.091382 \r\nL 262.721786 195.560718 \r\nL 266.991416 196.484641 \r\nL 268.21131 195.448797 \r\nL 279.190359 197.698901 \r\nL 282.240095 198.284758 \r\nL 282.850042 197.795722 \r\nL 287.119672 198.596618 \r\nL 287.729619 198.117155 \r\nL 295.048985 199.434181 \r\nL 295.658933 198.968589 \r\nL 298.708668 199.498186 \r\nL 299.318616 199.039504 \r\nL 302.978299 199.662869 \r\nL 303.588246 199.211765 \r\nL 305.418087 199.519092 \r\nL 306.028034 199.072787 \r\nL 307.857876 199.378125 \r\nL 308.467823 198.936519 \r\nL 318.226978 200.505134 \r\nL 318.836925 200.078469 \r\nL 319.446872 200.173382 \r\nL 320.056819 199.749477 \r\nL 323.106555 200.221269 \r\nL 323.716502 199.803104 \r\nL 326.156291 200.175748 \r\nL 326.766238 199.762437 \r\nL 330.425921 200.313179 \r\nL 331.035868 199.906035 \r\nL 334.085604 200.357305 \r\nL 335.915446 199.157052 \r\nL 340.185076 199.786505 \r\nL 340.795023 199.394568 \r\nL 341.40497 199.483589 \r\nL 342.014917 199.093988 \r\nL 343.844759 199.360698 \r\nL 344.454706 198.974683 \r\nL 349.944231 199.760323 \r\nL 350.554178 199.381532 \r\nL 357.873544 200.391373 \r\nL 359.093438 199.652742 \r\nL 359.703385 199.735838 \r\nL 360.313332 199.369337 \r\nL 362.753121 199.700652 \r\nL 363.363068 199.33789 \r\nL 363.363068 199.33789 \r\n\" style=\"fill:none;stroke:#1f77b4;stroke-linecap:square;stroke-width:1.5;\"/>\r\n   </g>\r\n   <g id=\"line2d_14\">\r\n    <path clip-path=\"url(#pa036074e14)\" d=\"M 58.999432 240.700909 \r\nL 59.609379 129.51 \r\nL 60.219326 166.573634 \r\nL 60.829273 185.105455 \r\nL 61.43922 151.74818 \r\nL 62.049168 166.573634 \r\nL 62.659115 177.163244 \r\nL 63.269062 185.105455 \r\nL 63.879009 191.282727 \r\nL 65.098903 200.26785 \r\nL 66.318798 206.48832 \r\nL 66.928745 208.932077 \r\nL 67.538692 196.224545 \r\nL 68.758586 201.457058 \r\nL 69.368534 191.282727 \r\nL 69.978481 193.883684 \r\nL 70.588428 185.105455 \r\nL 71.808322 190.159585 \r\nL 73.028217 194.371365 \r\nL 74.248111 197.935174 \r\nL 75.468005 200.989869 \r\nL 77.297847 204.832875 \r\nL 79.127688 207.997699 \r\nL 80.95753 210.649313 \r\nL 82.787371 212.903182 \r\nL 83.397319 208.15723 \r\nL 85.22716 210.376115 \r\nL 87.057002 212.311741 \r\nL 89.49679 214.538342 \r\nL 91.936579 216.441074 \r\nL 93.156473 217.292296 \r\nL 93.76642 213.861725 \r\nL 94.376368 214.316626 \r\nL 94.986315 211.049998 \r\nL 97.426103 212.903182 \r\nL 98.645998 207.006693 \r\nL 99.255945 207.509594 \r\nL 99.865892 204.727379 \r\nL 102.915628 207.191319 \r\nL 105.355417 208.932077 \r\nL 105.965364 206.48832 \r\nL 107.185258 207.343635 \r\nL 108.405152 202.733281 \r\nL 111.454888 204.915328 \r\nL 112.064835 205.321984 \r\nL 112.674783 203.220826 \r\nL 113.28473 203.637272 \r\nL 113.894677 201.600808 \r\nL 115.724518 202.848686 \r\nL 116.334466 200.906267 \r\nL 116.944413 201.320797 \r\nL 117.55436 199.434181 \r\nL 118.774254 200.26785 \r\nL 119.384201 198.448364 \r\nL 123.043884 200.840018 \r\nL 124.263779 201.578182 \r\nL 124.873726 199.896906 \r\nL 127.313515 201.341295 \r\nL 127.923462 199.735838 \r\nL 129.143356 200.442133 \r\nL 130.36325 197.355301 \r\nL 130.973198 197.719549 \r\nL 132.193092 194.754252 \r\nL 134.022933 195.865865 \r\nL 134.632881 194.44549 \r\nL 135.852775 195.173921 \r\nL 136.462722 193.792244 \r\nL 140.732352 196.224545 \r\nL 141.342299 196.551579 \r\nL 141.952247 195.250611 \r\nL 143.782088 196.224545 \r\nL 144.392035 194.962806 \r\nL 149.271613 197.418541 \r\nL 149.88156 197.707092 \r\nL 151.101454 195.346723 \r\nL 153.541243 196.50965 \r\nL 154.15119 195.374678 \r\nL 155.371084 195.944821 \r\nL 155.981031 194.83466 \r\nL 158.42082 195.953348 \r\nL 159.030767 194.876777 \r\nL 159.640714 195.152826 \r\nL 160.250662 194.093941 \r\nL 165.740186 196.477251 \r\nL 170.619763 198.40002 \r\nL 171.229711 197.42661 \r\nL 173.059552 198.117155 \r\nL 173.669499 197.165845 \r\nL 179.159024 199.144712 \r\nL 180.378918 197.336456 \r\nL 180.988865 197.552198 \r\nL 181.598812 196.664905 \r\nL 186.47839 198.342467 \r\nL 187.088337 197.489276 \r\nL 193.797756 199.630394 \r\nL 194.407703 198.817337 \r\nL 199.28728 200.26785 \r\nL 201.117122 197.935174 \r\nL 204.776805 199.004318 \r\nL 205.386752 198.254586 \r\nL 207.216593 198.776468 \r\nL 207.826541 198.039908 \r\nL 209.046435 198.38534 \r\nL 209.656382 197.659268 \r\nL 210.266329 197.832126 \r\nL 210.876276 197.114074 \r\nL 216.365801 198.628672 \r\nL 216.975748 197.935174 \r\nL 225.515008 200.120286 \r\nL 231.004533 201.410834 \r\nL 231.61448 200.766145 \r\nL 232.834374 201.045411 \r\nL 233.444322 200.408734 \r\nL 235.88411 200.962577 \r\nL 236.494057 200.337087 \r\nL 238.933846 200.882544 \r\nL 239.543793 200.26785 \r\nL 241.983582 200.805168 \r\nL 242.593529 200.200909 \r\nL 245.643265 200.860517 \r\nL 246.253212 200.26785 \r\nL 248.083054 200.657881 \r\nL 248.693001 200.073462 \r\nL 257.232261 201.8182 \r\nL 257.842208 201.25704 \r\nL 260.891944 201.851072 \r\nL 262.111838 200.752078 \r\nL 272.48094 202.686922 \r\nL 273.090887 202.163151 \r\nL 274.310782 202.380878 \r\nL 275.530676 201.346823 \r\nL 276.140623 201.457058 \r\nL 276.75057 200.945501 \r\nL 281.630148 201.814472 \r\nL 282.240095 201.314484 \r\nL 284.069936 201.633833 \r\nL 284.679884 201.139723 \r\nL 285.899778 201.351846 \r\nL 286.509725 200.862456 \r\nL 291.389302 201.696768 \r\nL 291.99925 201.217974 \r\nL 294.439038 201.626069 \r\nL 295.048985 201.153628 \r\nL 296.26888 201.356433 \r\nL 297.488774 200.422569 \r\nL 298.098721 200.52506 \r\nL 298.708668 200.062606 \r\nL 299.318616 200.165488 \r\nL 299.928563 199.706283 \r\nL 312.737453 201.770757 \r\nL 315.787189 202.232017 \r\nL 316.397136 201.797234 \r\nL 321.886661 202.607727 \r\nL 322.496608 202.182119 \r\nL 329.206027 203.136412 \r\nL 330.425921 202.307637 \r\nL 335.915446 203.067062 \r\nL 336.525393 202.661913 \r\nL 338.965181 202.992688 \r\nL 339.575129 202.592096 \r\nL 343.234812 203.081715 \r\nL 343.844759 202.686922 \r\nL 346.284548 203.009075 \r\nL 346.894495 202.618609 \r\nL 351.164125 203.173977 \r\nL 351.774072 202.789665 \r\nL 352.993966 202.946647 \r\nL 354.213861 202.185294 \r\nL 360.313332 202.963388 \r\nL 360.92328 202.591122 \r\nL 363.363068 202.896 \r\nL 363.363068 202.896 \r\n\" style=\"fill:none;stroke:#ff7f0e;stroke-linecap:square;stroke-width:1.5;\"/>\r\n   </g>\r\n   <g id=\"line2d_15\">\r\n    <path clip-path=\"url(#pa036074e14)\" d=\"M 58.999432 240.700909 \r\nL 60.219326 240.700909 \r\nL 60.829273 185.105455 \r\nL 61.43922 196.224545 \r\nL 62.049168 203.637272 \r\nL 62.659115 208.932077 \r\nL 63.269062 212.903182 \r\nL 63.879009 215.991818 \r\nL 64.488956 196.224545 \r\nL 65.708851 203.637272 \r\nL 66.928745 208.932077 \r\nL 68.148639 212.903182 \r\nL 68.758586 201.457058 \r\nL 69.978481 205.587992 \r\nL 71.198375 208.932077 \r\nL 72.418269 192.357037 \r\nL 73.638164 178.434 \r\nL 74.858058 183.046365 \r\nL 76.077952 187.02254 \r\nL 76.6879 181.399088 \r\nL 78.517741 186.790164 \r\nL 80.347583 191.282727 \r\nL 82.177424 195.084125 \r\nL 84.007266 198.342467 \r\nL 85.837107 201.166363 \r\nL 87.666949 203.637272 \r\nL 88.276896 204.393674 \r\nL 88.886843 200.67218 \r\nL 90.106737 202.211747 \r\nL 90.716685 198.742075 \r\nL 91.936579 200.26785 \r\nL 92.546526 197.018767 \r\nL 93.76642 198.525048 \r\nL 94.376368 195.47071 \r\nL 96.816156 198.342467 \r\nL 99.255945 200.87133 \r\nL 101.085786 202.578311 \r\nL 101.695734 199.983113 \r\nL 104.745469 202.661913 \r\nL 107.795205 205.010001 \r\nL 108.405152 205.445255 \r\nL 109.0151 203.190724 \r\nL 110.234994 204.073314 \r\nL 111.454888 199.803104 \r\nL 113.894677 201.600808 \r\nL 114.504624 199.608616 \r\nL 118.164307 202.12447 \r\nL 121.82399 204.350035 \r\nL 123.043884 205.035902 \r\nL 123.653832 203.290882 \r\nL 127.923462 205.587992 \r\nL 132.193092 207.619316 \r\nL 133.412986 208.15723 \r\nL 134.022933 206.626275 \r\nL 134.632881 206.898874 \r\nL 135.242828 205.402207 \r\nL 137.682616 206.48832 \r\nL 138.292564 205.051917 \r\nL 143.172141 207.103657 \r\nL 146.831824 208.493886 \r\nL 147.441771 207.191319 \r\nL 152.931296 209.137038 \r\nL 154.15119 209.539125 \r\nL 154.761137 208.328872 \r\nL 157.810873 209.321879 \r\nL 158.42082 208.15723 \r\nL 160.860609 208.932077 \r\nL 161.470556 207.80419 \r\nL 162.080503 207.997699 \r\nL 162.69045 206.888469 \r\nL 163.910345 207.279365 \r\nL 164.520292 206.193387 \r\nL 165.130239 206.390571 \r\nL 165.740186 205.321984 \r\nL 166.96008 205.719498 \r\nL 167.570028 204.672569 \r\nL 168.179975 204.872726 \r\nL 168.789922 203.842045 \r\nL 170.009816 204.244874 \r\nL 170.619763 203.234406 \r\nL 172.449605 203.835473 \r\nL 173.059552 202.848686 \r\nL 175.499341 203.637272 \r\nL 176.109288 202.677074 \r\nL 182.818707 204.727379 \r\nL 184.038601 205.076638 \r\nL 184.648548 204.174427 \r\nL 188.308231 205.203342 \r\nL 188.918178 204.33005 \r\nL 190.138073 204.66682 \r\nL 190.74802 203.808072 \r\nL 192.577861 204.311159 \r\nL 193.187809 203.469563 \r\nL 197.457439 204.61263 \r\nL 198.067386 203.799122 \r\nL 198.677333 203.959567 \r\nL 199.28728 203.155927 \r\nL 202.337016 203.951372 \r\nL 202.946963 203.168111 \r\nL 203.55691 203.325813 \r\nL 204.776805 201.784092 \r\nL 208.436488 202.733281 \r\nL 209.046435 201.986664 \r\nL 209.656382 202.142772 \r\nL 210.266329 201.404525 \r\nL 212.096171 201.872337 \r\nL 212.706118 201.146831 \r\nL 215.145907 201.762459 \r\nL 215.755854 201.051439 \r\nL 217.585695 201.507178 \r\nL 218.195642 200.807988 \r\nL 221.245378 201.555045 \r\nL 221.855325 200.87133 \r\nL 231.004533 202.982439 \r\nL 232.224427 203.247128 \r\nL 232.834374 202.600526 \r\nL 234.054269 202.865112 \r\nL 234.664216 202.226546 \r\nL 240.763688 203.513314 \r\nL 241.373635 202.896 \r\nL 243.813423 203.393433 \r\nL 244.423371 202.786633 \r\nL 246.253212 203.155927 \r\nL 247.473106 201.963432 \r\nL 249.302948 202.334717 \r\nL 249.912895 201.748681 \r\nL 251.132789 201.995214 \r\nL 251.742737 201.415792 \r\nL 255.40242 202.145549 \r\nL 256.012367 201.578182 \r\nL 256.622314 201.69856 \r\nL 257.232261 201.136045 \r\nL 257.842208 201.25704 \r\nL 258.452155 200.6993 \r\nL 262.721786 201.535156 \r\nL 263.331733 200.989869 \r\nL 264.551627 201.224847 \r\nL 265.161574 200.685303 \r\nL 265.771521 200.802994 \r\nL 266.991416 199.735838 \r\nL 268.821257 200.092056 \r\nL 270.041152 199.044371 \r\nL 270.651099 199.164074 \r\nL 271.261046 198.645893 \r\nL 271.870993 198.766053 \r\nL 272.48094 198.251958 \r\nL 273.090887 198.372552 \r\nL 273.700835 197.862484 \r\nL 278.580412 198.811813 \r\nL 279.190359 198.313213 \r\nL 281.020201 198.661607 \r\nL 281.630148 198.168866 \r\nL 284.679884 198.742075 \r\nL 285.289831 198.257068 \r\nL 287.729619 198.708596 \r\nL 288.339567 198.230111 \r\nL 291.99925 198.895448 \r\nL 293.219144 197.957389 \r\nL 295.658933 198.396912 \r\nL 296.26888 197.935174 \r\nL 299.928563 198.583141 \r\nL 300.53851 198.129075 \r\nL 302.368351 198.448364 \r\nL 302.978299 197.999163 \r\nL 306.637982 198.628672 \r\nL 307.247929 198.186737 \r\nL 309.07777 198.49706 \r\nL 309.687717 198.059735 \r\nL 310.297665 198.162984 \r\nL 310.907612 197.728578 \r\nL 324.326449 199.896906 \r\nL 324.936397 199.990277 \r\nL 325.546344 199.575505 \r\nL 331.645815 200.493483 \r\nL 332.255763 200.087748 \r\nL 344.454706 201.819651 \r\nL 346.284548 200.653335 \r\nL 354.823808 201.80697 \r\nL 355.433755 201.430197 \r\nL 356.653649 201.590814 \r\nL 357.263597 201.216791 \r\nL 360.92328 201.694422 \r\nL 362.143174 200.957974 \r\nL 363.363068 201.116945 \r\nL 363.363068 201.116945 \r\n\" style=\"fill:none;stroke:#2ca02c;stroke-linecap:square;stroke-width:1.5;\"/>\r\n   </g>\r\n   <g id=\"line2d_16\">\r\n    <path clip-path=\"url(#pa036074e14)\" d=\"M 58.999432 240.700909 \r\nL 73.638164 240.700909 \r\nL 74.248111 232.147762 \r\nL 75.468005 232.758701 \r\nL 76.077952 225.364232 \r\nL 77.907794 226.802045 \r\nL 79.737635 227.993377 \r\nL 82.177424 229.296713 \r\nL 84.617213 230.357569 \r\nL 87.666949 231.435 \r\nL 89.49679 231.980053 \r\nL 90.106737 227.871189 \r\nL 90.716685 228.113259 \r\nL 91.326632 224.228182 \r\nL 94.376368 225.624176 \r\nL 96.206209 226.353695 \r\nL 96.816156 223.051558 \r\nL 100.475839 224.586285 \r\nL 101.085786 221.63961 \r\nL 101.695734 221.90808 \r\nL 102.305681 219.080454 \r\nL 104.135522 219.945273 \r\nL 104.745469 217.292296 \r\nL 105.965364 217.892517 \r\nL 107.185258 212.903182 \r\nL 109.0151 213.907918 \r\nL 109.625047 211.579479 \r\nL 111.454888 212.583667 \r\nL 112.064835 210.376115 \r\nL 112.674783 210.716844 \r\nL 113.28473 208.57909 \r\nL 114.504624 209.277392 \r\nL 115.114571 207.224075 \r\nL 116.334466 207.928853 \r\nL 116.944413 205.95375 \r\nL 120.604096 207.997699 \r\nL 121.214043 208.315206 \r\nL 121.82399 206.48832 \r\nL 122.433937 206.814155 \r\nL 123.043884 205.035902 \r\nL 127.313515 207.245237 \r\nL 127.923462 207.538709 \r\nL 128.533409 205.893321 \r\nL 132.193092 207.619316 \r\nL 132.803039 206.067677 \r\nL 137.682616 208.19895 \r\nL 138.902511 208.691406 \r\nL 140.122405 205.850026 \r\nL 142.562194 206.860199 \r\nL 143.172141 205.503786 \r\nL 144.392035 206.003035 \r\nL 145.001982 204.681317 \r\nL 145.61193 204.933205 \r\nL 146.221877 203.637272 \r\nL 148.051718 204.393674 \r\nL 148.661665 203.136412 \r\nL 149.271613 203.388522 \r\nL 149.88156 202.154728 \r\nL 152.321348 203.155927 \r\nL 152.931296 201.963432 \r\nL 156.590979 203.407062 \r\nL 157.200926 202.264545 \r\nL 159.030767 202.963388 \r\nL 159.640714 201.851072 \r\nL 160.250662 202.083707 \r\nL 160.860609 200.989869 \r\nL 162.69045 201.686555 \r\nL 163.300397 200.620466 \r\nL 166.350133 201.752681 \r\nL 166.96008 200.722155 \r\nL 169.399869 201.600808 \r\nL 170.009816 200.599271 \r\nL 171.229711 201.032802 \r\nL 172.449605 199.078642 \r\nL 173.669499 199.519092 \r\nL 174.279446 198.565406 \r\nL 180.378918 200.67218 \r\nL 187.088337 202.758986 \r\nL 187.698284 201.888988 \r\nL 195.01765 203.968199 \r\nL 196.847492 204.453653 \r\nL 197.457439 203.637272 \r\nL 205.386752 205.636555 \r\nL 210.876276 206.898874 \r\nL 211.486224 206.147558 \r\nL 218.195642 207.598273 \r\nL 218.80559 206.87858 \r\nL 220.025484 207.133842 \r\nL 221.245378 205.719498 \r\nL 221.855325 205.850026 \r\nL 222.465273 205.152887 \r\nL 223.685167 205.415233 \r\nL 224.905061 204.044564 \r\nL 227.34485 204.573899 \r\nL 227.954797 203.903919 \r\nL 229.784639 204.296767 \r\nL 230.394586 203.637272 \r\nL 240.15374 205.627266 \r\nL 240.763688 205.000819 \r\nL 241.373635 205.119819 \r\nL 241.983582 204.499217 \r\nL 242.593529 204.619092 \r\nL 243.203476 204.004239 \r\nL 247.473106 204.832875 \r\nL 248.083054 204.23315 \r\nL 251.742737 204.923393 \r\nL 252.352684 204.336585 \r\nL 258.452155 205.445255 \r\nL 259.67205 204.311159 \r\nL 260.281997 204.421095 \r\nL 260.891944 203.860549 \r\nL 272.48094 205.854755 \r\nL 273.700835 206.052185 \r\nL 274.310782 205.521866 \r\nL 279.190359 206.299301 \r\nL 279.800306 205.781448 \r\nL 280.410253 205.877381 \r\nL 281.020201 205.363525 \r\nL 283.459989 205.746584 \r\nL 284.069936 205.240025 \r\nL 285.289831 205.430675 \r\nL 285.899778 204.929033 \r\nL 286.509725 205.024681 \r\nL 287.119672 204.526801 \r\nL 288.949514 204.813897 \r\nL 289.559461 204.321826 \r\nL 290.169408 204.41756 \r\nL 290.779355 203.929113 \r\nL 297.488774 204.960974 \r\nL 298.098721 204.486058 \r\nL 300.53851 204.850945 \r\nL 301.758404 203.915948 \r\nL 303.588246 204.190462 \r\nL 304.198193 203.729241 \r\nL 304.80814 203.820757 \r\nL 305.418087 203.362728 \r\nL 308.467823 203.81807 \r\nL 309.07777 203.366734 \r\nL 310.907612 203.637272 \r\nL 311.517559 203.190724 \r\nL 312.127506 203.280891 \r\nL 312.737453 202.83734 \r\nL 316.397136 203.374409 \r\nL 318.226978 202.071205 \r\nL 318.836925 202.16167 \r\nL 319.446872 201.732132 \r\nL 320.666766 201.913384 \r\nL 321.276714 201.487408 \r\nL 325.546344 202.114111 \r\nL 326.156291 201.695442 \r\nL 327.376185 201.872337 \r\nL 327.986132 201.457058 \r\nL 332.255763 202.068878 \r\nL 333.475657 201.254025 \r\nL 338.355234 201.941551 \r\nL 338.965181 201.54237 \r\nL 342.014917 201.963432 \r\nL 342.624865 201.569344 \r\nL 348.114389 202.310785 \r\nL 348.724336 201.924247 \r\nL 349.334283 202.005539 \r\nL 349.944231 201.621261 \r\nL 350.554178 201.702845 \r\nL 351.164125 201.320797 \r\nL 356.043702 201.966371 \r\nL 356.653649 201.590814 \r\nL 357.263597 201.670632 \r\nL 357.873544 201.297206 \r\nL 363.363068 202.006474 \r\nL 363.363068 202.006474 \r\n\" style=\"fill:none;stroke:#d62728;stroke-linecap:square;stroke-width:1.5;\"/>\r\n   </g>\r\n   <g id=\"line2d_17\">\r\n    <path clip-path=\"url(#pa036074e14)\" d=\"M 58.999432 240.700909 \r\nL 63.269062 240.700909 \r\nL 63.879009 215.991818 \r\nL 65.098903 220.48438 \r\nL 65.708851 222.16909 \r\nL 66.318798 206.48832 \r\nL 67.538692 211.049998 \r\nL 68.148639 199.004318 \r\nL 69.368534 203.637272 \r\nL 70.588428 207.343635 \r\nL 71.198375 198.342467 \r\nL 72.418269 202.02581 \r\nL 73.638164 205.119819 \r\nL 74.248111 206.48832 \r\nL 74.858058 199.519092 \r\nL 76.077952 202.359216 \r\nL 76.6879 203.637272 \r\nL 77.297847 197.659268 \r\nL 78.517741 200.26785 \r\nL 79.127688 194.916417 \r\nL 79.737635 196.224545 \r\nL 80.347583 191.282727 \r\nL 82.177424 195.084125 \r\nL 82.787371 190.665001 \r\nL 84.007266 193.047662 \r\nL 84.617213 188.984206 \r\nL 85.837107 191.282727 \r\nL 87.057002 183.922573 \r\nL 88.886843 187.329274 \r\nL 90.716685 190.350308 \r\nL 91.326632 191.282727 \r\nL 91.936579 188.137934 \r\nL 92.546526 189.07656 \r\nL 93.156473 186.080813 \r\nL 94.986315 188.811818 \r\nL 96.206209 183.312054 \r\nL 96.816156 184.222984 \r\nL 97.426103 181.630739 \r\nL 99.865892 185.105455 \r\nL 102.305681 188.194092 \r\nL 103.525575 189.613195 \r\nL 104.135522 187.329274 \r\nL 106.575311 190.031635 \r\nL 109.625047 193.047662 \r\nL 112.674783 195.724812 \r\nL 115.724518 198.117155 \r\nL 119.384201 200.67218 \r\nL 120.604096 201.457058 \r\nL 121.214043 199.67902 \r\nL 124.873726 201.937107 \r\nL 125.483673 200.26785 \r\nL 128.533409 202.02581 \r\nL 129.143356 200.442133 \r\nL 133.412986 202.733281 \r\nL 136.462722 204.216392 \r\nL 137.682616 201.356433 \r\nL 142.562194 203.637272 \r\nL 146.221877 205.181591 \r\nL 146.831824 203.892884 \r\nL 148.661665 204.638994 \r\nL 149.271613 203.388522 \r\nL 151.711401 204.36401 \r\nL 152.321348 203.155927 \r\nL 152.931296 203.398152 \r\nL 153.541243 202.211747 \r\nL 159.030767 204.311159 \r\nL 163.300397 205.792135 \r\nL 163.910345 204.708477 \r\nL 170.009816 206.675275 \r\nL 176.719235 208.604566 \r\nL 182.818707 210.177913 \r\nL 184.038601 208.315206 \r\nL 184.648548 208.471661 \r\nL 186.47839 205.755194 \r\nL 188.918178 206.408386 \r\nL 189.528126 205.53355 \r\nL 191.967914 206.175877 \r\nL 192.577861 205.321984 \r\nL 193.187809 205.482068 \r\nL 193.797756 204.638994 \r\nL 201.727069 206.633907 \r\nL 202.946963 206.921394 \r\nL 203.55691 206.128945 \r\nL 205.386752 206.559301 \r\nL 205.996699 205.781448 \r\nL 212.706118 207.299688 \r\nL 215.145907 204.358356 \r\nL 224.295114 206.36254 \r\nL 224.905061 206.48832 \r\nL 225.515008 205.801573 \r\nL 226.124956 205.928479 \r\nL 226.734903 205.248734 \r\nL 227.954797 205.503786 \r\nL 229.174691 204.166752 \r\nL 233.444322 205.057829 \r\nL 234.054269 204.409431 \r\nL 237.104005 205.028741 \r\nL 237.713952 204.393674 \r\nL 245.033318 205.817485 \r\nL 245.643265 205.206742 \r\nL 252.352684 206.434528 \r\nL 252.962631 205.844824 \r\nL 254.182525 206.061997 \r\nL 255.40242 204.899501 \r\nL 256.012367 205.010001 \r\nL 256.622314 204.435567 \r\nL 263.94168 205.726914 \r\nL 264.551627 205.172455 \r\nL 268.21131 205.792135 \r\nL 268.821257 205.248734 \r\nL 270.041152 205.453069 \r\nL 270.651099 204.915328 \r\nL 276.75057 205.914926 \r\nL 277.360518 205.392375 \r\nL 282.850042 206.255901 \r\nL 283.459989 205.746584 \r\nL 288.339567 206.48832 \r\nL 288.949514 205.990519 \r\nL 289.559461 206.082105 \r\nL 290.169408 205.587992 \r\nL 290.779355 205.68015 \r\nL 291.389302 205.189676 \r\nL 293.829091 205.557668 \r\nL 294.439038 205.073847 \r\nL 301.758404 206.145338 \r\nL 302.368351 205.675773 \r\nL 307.247929 206.36254 \r\nL 307.857876 205.902775 \r\nL 312.737453 206.570365 \r\nL 313.957348 205.671793 \r\nL 314.567295 205.755194 \r\nL 315.787189 204.866871 \r\nL 320.056819 205.451578 \r\nL 320.666766 205.016384 \r\nL 321.276714 205.099181 \r\nL 321.886661 204.66682 \r\nL 323.716502 204.915328 \r\nL 324.936397 204.061342 \r\nL 326.766238 204.311159 \r\nL 327.376185 203.889405 \r\nL 327.986132 203.972689 \r\nL 329.206027 203.136412 \r\nL 336.525393 204.124953 \r\nL 338.355234 202.910534 \r\nL 342.624865 203.478202 \r\nL 343.234812 203.081715 \r\nL 348.724336 203.793001 \r\nL 349.334283 203.404169 \r\nL 351.774072 203.71433 \r\nL 352.993966 202.946647 \r\nL 355.433755 203.256744 \r\nL 356.043702 202.877771 \r\nL 363.363068 203.785529 \r\nL 363.363068 203.785529 \r\n\" style=\"fill:none;stroke:#9467bd;stroke-linecap:square;stroke-width:1.5;\"/>\r\n   </g>\r\n   <g id=\"line2d_18\">\r\n    <path clip-path=\"url(#pa036074e14)\" d=\"M 58.999432 240.700909 \r\nL 62.659115 240.700909 \r\nL 63.269062 212.903182 \r\nL 63.879009 215.991818 \r\nL 64.488956 218.462727 \r\nL 65.098903 200.26785 \r\nL 66.318798 206.48832 \r\nL 66.928745 193.047662 \r\nL 68.148639 199.004318 \r\nL 69.368534 203.637272 \r\nL 70.588428 207.343635 \r\nL 71.808322 210.376115 \r\nL 73.028217 212.903182 \r\nL 74.248111 215.041468 \r\nL 74.858058 215.991818 \r\nL 75.468005 208.932077 \r\nL 77.297847 212.006482 \r\nL 77.907794 212.903182 \r\nL 78.517741 207.006693 \r\nL 79.127688 207.997699 \r\nL 79.737635 202.578311 \r\nL 81.567477 205.587992 \r\nL 83.397319 208.15723 \r\nL 85.22716 210.376115 \r\nL 87.057002 212.311741 \r\nL 87.666949 212.903182 \r\nL 88.276896 208.932077 \r\nL 90.716685 211.329725 \r\nL 93.156473 213.390861 \r\nL 95.596262 215.181685 \r\nL 98.645998 217.114958 \r\nL 99.865892 217.808663 \r\nL 100.475839 214.917509 \r\nL 103.525575 216.659631 \r\nL 107.185258 218.462727 \r\nL 109.625047 219.521688 \r\nL 110.234994 217.154599 \r\nL 113.894677 218.707103 \r\nL 118.164307 220.278089 \r\nL 121.82399 221.456328 \r\nL 122.433937 219.521688 \r\nL 123.653832 219.917561 \r\nL 124.263779 218.050909 \r\nL 126.703567 218.859838 \r\nL 127.313515 217.085141 \r\nL 130.36325 218.08581 \r\nL 130.973198 216.407097 \r\nL 132.803039 217.004486 \r\nL 133.412986 215.389157 \r\nL 138.292564 216.934914 \r\nL 138.902511 215.430247 \r\nL 140.122405 215.807421 \r\nL 140.732352 214.344546 \r\nL 141.952247 214.72931 \r\nL 142.562194 213.306047 \r\nL 143.172141 213.503132 \r\nL 143.782088 212.108959 \r\nL 147.441771 213.283973 \r\nL 148.051718 211.95768 \r\nL 154.15119 213.788459 \r\nL 155.981031 214.293069 \r\nL 156.590979 213.075838 \r\nL 157.200926 213.246363 \r\nL 157.810873 212.050492 \r\nL 161.470556 213.067665 \r\nL 162.080503 211.922084 \r\nL 164.520292 212.583667 \r\nL 165.130239 211.473585 \r\nL 171.839658 213.202082 \r\nL 177.329182 214.471259 \r\nL 177.939129 213.470482 \r\nL 181.598812 214.279307 \r\nL 182.20876 213.313985 \r\nL 187.698284 214.476639 \r\nL 188.308231 213.55571 \r\nL 189.528126 213.808224 \r\nL 190.138073 212.903182 \r\nL 191.357967 213.158206 \r\nL 191.967914 212.26853 \r\nL 196.237544 213.14918 \r\nL 196.847492 212.290897 \r\nL 201.117122 213.140769 \r\nL 201.727069 212.311741 \r\nL 207.826541 213.470482 \r\nL 208.436488 212.677184 \r\nL 215.755854 213.980614 \r\nL 216.365801 213.225164 \r\nL 218.80559 213.643045 \r\nL 219.415537 212.903182 \r\nL 229.174691 214.491623 \r\nL 229.784639 213.793501 \r\nL 234.664216 214.538342 \r\nL 235.88411 213.189756 \r\nL 243.203476 214.279307 \r\nL 243.813423 213.634701 \r\nL 250.522842 214.57987 \r\nL 251.132789 213.958791 \r\nL 252.962631 214.210284 \r\nL 254.182525 212.989778 \r\nL 263.331733 214.226883 \r\nL 263.94168 213.645554 \r\nL 265.161574 213.805172 \r\nL 265.771521 213.230214 \r\nL 271.261046 213.938627 \r\nL 271.870993 213.379714 \r\nL 275.530676 213.840184 \r\nL 276.140623 213.292506 \r\nL 277.360518 213.445198 \r\nL 278.580412 212.364168 \r\nL 279.800306 212.520292 \r\nL 280.410253 211.986772 \r\nL 293.219144 213.552999 \r\nL 293.829091 213.047212 \r\nL 304.198193 214.213744 \r\nL 304.80814 213.728857 \r\nL 306.028034 213.861725 \r\nL 306.637982 213.381276 \r\nL 309.687717 213.712825 \r\nL 310.297665 213.239716 \r\nL 311.517559 213.372059 \r\nL 312.127506 212.903182 \r\nL 313.957348 213.10221 \r\nL 314.567295 212.63844 \r\nL 322.496608 213.480963 \r\nL 323.106555 213.031281 \r\nL 331.035868 213.835992 \r\nL 331.645815 213.39957 \r\nL 333.475657 213.581175 \r\nL 334.085604 213.14918 \r\nL 339.575129 213.687065 \r\nL 340.185076 213.264191 \r\nL 340.795023 213.323449 \r\nL 341.40497 212.903182 \r\nL 346.894495 213.432102 \r\nL 348.114389 212.610575 \r\nL 354.213861 213.189756 \r\nL 354.823808 212.788788 \r\nL 359.093438 213.185105 \r\nL 359.703385 212.79064 \r\nL 362.143174 213.014819 \r\nL 362.753121 212.624648 \r\nL 363.363068 212.6808 \r\nL 363.363068 212.6808 \r\n\" style=\"fill:none;stroke:#8c564b;stroke-linecap:square;stroke-width:1.5;\"/>\r\n   </g>\r\n   <g id=\"line2d_19\">\r\n    <path clip-path=\"url(#pa036074e14)\" d=\"M 43.78125 203.563145 \r\nL 378.58125 203.563145 \r\n\" style=\"fill:none;stroke:#000000;stroke-dasharray:5.55,2.4;stroke-dashoffset:0;stroke-width:1.5;\"/>\r\n   </g>\r\n   <g id=\"patch_3\">\r\n    <path d=\"M 43.78125 251.82 \r\nL 43.78125 7.2 \r\n\" style=\"fill:none;stroke:#000000;stroke-linecap:square;stroke-linejoin:miter;stroke-width:0.8;\"/>\r\n   </g>\r\n   <g id=\"patch_4\">\r\n    <path d=\"M 378.58125 251.82 \r\nL 378.58125 7.2 \r\n\" style=\"fill:none;stroke:#000000;stroke-linecap:square;stroke-linejoin:miter;stroke-width:0.8;\"/>\r\n   </g>\r\n   <g id=\"patch_5\">\r\n    <path d=\"M 43.78125 251.82 \r\nL 378.58125 251.82 \r\n\" style=\"fill:none;stroke:#000000;stroke-linecap:square;stroke-linejoin:miter;stroke-width:0.8;\"/>\r\n   </g>\r\n   <g id=\"patch_6\">\r\n    <path d=\"M 43.78125 7.2 \r\nL 378.58125 7.2 \r\n\" style=\"fill:none;stroke:#000000;stroke-linecap:square;stroke-linejoin:miter;stroke-width:0.8;\"/>\r\n   </g>\r\n   <g id=\"legend_1\">\r\n    <g id=\"patch_7\">\r\n     <path d=\"M 295.726562 103.26875 \r\nL 371.58125 103.26875 \r\nQ 373.58125 103.26875 373.58125 101.26875 \r\nL 373.58125 14.2 \r\nQ 373.58125 12.2 371.58125 12.2 \r\nL 295.726562 12.2 \r\nQ 293.726562 12.2 293.726562 14.2 \r\nL 293.726562 101.26875 \r\nQ 293.726562 103.26875 295.726562 103.26875 \r\nz\r\n\" style=\"fill:#ffffff;opacity:0.8;stroke:#cccccc;stroke-linejoin:miter;\"/>\r\n    </g>\r\n    <g id=\"line2d_20\">\r\n     <path d=\"M 297.726562 20.298437 \r\nL 317.726562 20.298437 \r\n\" style=\"fill:none;stroke:#1f77b4;stroke-linecap:square;stroke-width:1.5;\"/>\r\n    </g>\r\n    <g id=\"line2d_21\"/>\r\n    <g id=\"text_15\">\r\n     <!-- P(die=1) -->\r\n     <g transform=\"translate(325.726562 23.798437)scale(0.1 -0.1)\">\r\n      <defs>\r\n       <path d=\"M 1259 4147 \r\nL 1259 2394 \r\nL 2053 2394 \r\nQ 2494 2394 2734 2622 \r\nQ 2975 2850 2975 3272 \r\nQ 2975 3691 2734 3919 \r\nQ 2494 4147 2053 4147 \r\nL 1259 4147 \r\nz\r\nM 628 4666 \r\nL 2053 4666 \r\nQ 2838 4666 3239 4311 \r\nQ 3641 3956 3641 3272 \r\nQ 3641 2581 3239 2228 \r\nQ 2838 1875 2053 1875 \r\nL 1259 1875 \r\nL 1259 0 \r\nL 628 0 \r\nL 628 4666 \r\nz\r\n\" id=\"DejaVuSans-50\" transform=\"scale(0.015625)\"/>\r\n       <path d=\"M 1984 4856 \r\nQ 1566 4138 1362 3434 \r\nQ 1159 2731 1159 2009 \r\nQ 1159 1288 1364 580 \r\nQ 1569 -128 1984 -844 \r\nL 1484 -844 \r\nQ 1016 -109 783 600 \r\nQ 550 1309 550 2009 \r\nQ 550 2706 781 3412 \r\nQ 1013 4119 1484 4856 \r\nL 1984 4856 \r\nz\r\n\" id=\"DejaVuSans-28\" transform=\"scale(0.015625)\"/>\r\n       <path d=\"M 678 2906 \r\nL 4684 2906 \r\nL 4684 2381 \r\nL 678 2381 \r\nL 678 2906 \r\nz\r\nM 678 1631 \r\nL 4684 1631 \r\nL 4684 1100 \r\nL 678 1100 \r\nL 678 1631 \r\nz\r\n\" id=\"DejaVuSans-3d\" transform=\"scale(0.015625)\"/>\r\n       <path d=\"M 513 4856 \r\nL 1013 4856 \r\nQ 1481 4119 1714 3412 \r\nQ 1947 2706 1947 2009 \r\nQ 1947 1309 1714 600 \r\nQ 1481 -109 1013 -844 \r\nL 513 -844 \r\nQ 928 -128 1133 580 \r\nQ 1338 1288 1338 2009 \r\nQ 1338 2731 1133 3434 \r\nQ 928 4138 513 4856 \r\nz\r\n\" id=\"DejaVuSans-29\" transform=\"scale(0.015625)\"/>\r\n      </defs>\r\n      <use xlink:href=\"#DejaVuSans-50\"/>\r\n      <use x=\"60.302734\" xlink:href=\"#DejaVuSans-28\"/>\r\n      <use x=\"99.316406\" xlink:href=\"#DejaVuSans-64\"/>\r\n      <use x=\"162.792969\" xlink:href=\"#DejaVuSans-69\"/>\r\n      <use x=\"190.576172\" xlink:href=\"#DejaVuSans-65\"/>\r\n      <use x=\"252.099609\" xlink:href=\"#DejaVuSans-3d\"/>\r\n      <use x=\"335.888672\" xlink:href=\"#DejaVuSans-31\"/>\r\n      <use x=\"399.511719\" xlink:href=\"#DejaVuSans-29\"/>\r\n     </g>\r\n    </g>\r\n    <g id=\"line2d_22\">\r\n     <path d=\"M 297.726562 34.976562 \r\nL 317.726562 34.976562 \r\n\" style=\"fill:none;stroke:#ff7f0e;stroke-linecap:square;stroke-width:1.5;\"/>\r\n    </g>\r\n    <g id=\"line2d_23\"/>\r\n    <g id=\"text_16\">\r\n     <!-- P(die=2) -->\r\n     <g transform=\"translate(325.726562 38.476562)scale(0.1 -0.1)\">\r\n      <use xlink:href=\"#DejaVuSans-50\"/>\r\n      <use x=\"60.302734\" xlink:href=\"#DejaVuSans-28\"/>\r\n      <use x=\"99.316406\" xlink:href=\"#DejaVuSans-64\"/>\r\n      <use x=\"162.792969\" xlink:href=\"#DejaVuSans-69\"/>\r\n      <use x=\"190.576172\" xlink:href=\"#DejaVuSans-65\"/>\r\n      <use x=\"252.099609\" xlink:href=\"#DejaVuSans-3d\"/>\r\n      <use x=\"335.888672\" xlink:href=\"#DejaVuSans-32\"/>\r\n      <use x=\"399.511719\" xlink:href=\"#DejaVuSans-29\"/>\r\n     </g>\r\n    </g>\r\n    <g id=\"line2d_24\">\r\n     <path d=\"M 297.726562 49.654687 \r\nL 317.726562 49.654687 \r\n\" style=\"fill:none;stroke:#2ca02c;stroke-linecap:square;stroke-width:1.5;\"/>\r\n    </g>\r\n    <g id=\"line2d_25\"/>\r\n    <g id=\"text_17\">\r\n     <!-- P(die=3) -->\r\n     <g transform=\"translate(325.726562 53.154687)scale(0.1 -0.1)\">\r\n      <use xlink:href=\"#DejaVuSans-50\"/>\r\n      <use x=\"60.302734\" xlink:href=\"#DejaVuSans-28\"/>\r\n      <use x=\"99.316406\" xlink:href=\"#DejaVuSans-64\"/>\r\n      <use x=\"162.792969\" xlink:href=\"#DejaVuSans-69\"/>\r\n      <use x=\"190.576172\" xlink:href=\"#DejaVuSans-65\"/>\r\n      <use x=\"252.099609\" xlink:href=\"#DejaVuSans-3d\"/>\r\n      <use x=\"335.888672\" xlink:href=\"#DejaVuSans-33\"/>\r\n      <use x=\"399.511719\" xlink:href=\"#DejaVuSans-29\"/>\r\n     </g>\r\n    </g>\r\n    <g id=\"line2d_26\">\r\n     <path d=\"M 297.726562 64.332812 \r\nL 317.726562 64.332812 \r\n\" style=\"fill:none;stroke:#d62728;stroke-linecap:square;stroke-width:1.5;\"/>\r\n    </g>\r\n    <g id=\"line2d_27\"/>\r\n    <g id=\"text_18\">\r\n     <!-- P(die=4) -->\r\n     <g transform=\"translate(325.726562 67.832812)scale(0.1 -0.1)\">\r\n      <use xlink:href=\"#DejaVuSans-50\"/>\r\n      <use x=\"60.302734\" xlink:href=\"#DejaVuSans-28\"/>\r\n      <use x=\"99.316406\" xlink:href=\"#DejaVuSans-64\"/>\r\n      <use x=\"162.792969\" xlink:href=\"#DejaVuSans-69\"/>\r\n      <use x=\"190.576172\" xlink:href=\"#DejaVuSans-65\"/>\r\n      <use x=\"252.099609\" xlink:href=\"#DejaVuSans-3d\"/>\r\n      <use x=\"335.888672\" xlink:href=\"#DejaVuSans-34\"/>\r\n      <use x=\"399.511719\" xlink:href=\"#DejaVuSans-29\"/>\r\n     </g>\r\n    </g>\r\n    <g id=\"line2d_28\">\r\n     <path d=\"M 297.726562 79.010937 \r\nL 317.726562 79.010937 \r\n\" style=\"fill:none;stroke:#9467bd;stroke-linecap:square;stroke-width:1.5;\"/>\r\n    </g>\r\n    <g id=\"line2d_29\"/>\r\n    <g id=\"text_19\">\r\n     <!-- P(die=5) -->\r\n     <g transform=\"translate(325.726562 82.510937)scale(0.1 -0.1)\">\r\n      <use xlink:href=\"#DejaVuSans-50\"/>\r\n      <use x=\"60.302734\" xlink:href=\"#DejaVuSans-28\"/>\r\n      <use x=\"99.316406\" xlink:href=\"#DejaVuSans-64\"/>\r\n      <use x=\"162.792969\" xlink:href=\"#DejaVuSans-69\"/>\r\n      <use x=\"190.576172\" xlink:href=\"#DejaVuSans-65\"/>\r\n      <use x=\"252.099609\" xlink:href=\"#DejaVuSans-3d\"/>\r\n      <use x=\"335.888672\" xlink:href=\"#DejaVuSans-35\"/>\r\n      <use x=\"399.511719\" xlink:href=\"#DejaVuSans-29\"/>\r\n     </g>\r\n    </g>\r\n    <g id=\"line2d_30\">\r\n     <path d=\"M 297.726562 93.689062 \r\nL 317.726562 93.689062 \r\n\" style=\"fill:none;stroke:#8c564b;stroke-linecap:square;stroke-width:1.5;\"/>\r\n    </g>\r\n    <g id=\"line2d_31\"/>\r\n    <g id=\"text_20\">\r\n     <!-- P(die=6) -->\r\n     <g transform=\"translate(325.726562 97.189062)scale(0.1 -0.1)\">\r\n      <use xlink:href=\"#DejaVuSans-50\"/>\r\n      <use x=\"60.302734\" xlink:href=\"#DejaVuSans-28\"/>\r\n      <use x=\"99.316406\" xlink:href=\"#DejaVuSans-64\"/>\r\n      <use x=\"162.792969\" xlink:href=\"#DejaVuSans-69\"/>\r\n      <use x=\"190.576172\" xlink:href=\"#DejaVuSans-65\"/>\r\n      <use x=\"252.099609\" xlink:href=\"#DejaVuSans-3d\"/>\r\n      <use x=\"335.888672\" xlink:href=\"#DejaVuSans-36\"/>\r\n      <use x=\"399.511719\" xlink:href=\"#DejaVuSans-29\"/>\r\n     </g>\r\n    </g>\r\n   </g>\r\n  </g>\r\n </g>\r\n <defs>\r\n  <clipPath id=\"pa036074e14\">\r\n   <rect height=\"244.62\" width=\"334.8\" x=\"43.78125\" y=\"7.2\"/>\r\n  </clipPath>\r\n </defs>\r\n</svg>\r\n",
      "text/plain": [
       "<Figure size 432x324 with 1 Axes>"
      ]
     },
     "metadata": {
      "needs_background": "light"
     },
     "output_type": "display_data"
    }
   ],
   "source": [
    "fair_probs = torch.ones([6]) / 6\n",
    "counts = multinomial.Multinomial(1, fair_probs).sample((500,))\n",
    "cum_counts = counts.cumsum(dim=0)\n",
    "estimates = cum_counts / cum_counts.sum(dim=1, keepdims=True)\n",
    "\n",
    "d2l.set_figsize((6, 4.5))\n",
    "for i in range(6):\n",
    "    d2l.plt.plot(estimates[:, i].numpy(),\n",
    "                 label=(\"P(die=\" + str(i + 1) + \")\"))\n",
    "d2l.plt.axhline(y=0.167, color='black', linestyle='dashed')\n",
    "d2l.plt.gca().set_xlabel('Groups of experiments')\n",
    "d2l.plt.gca().set_ylabel('Estimated probability')\n",
    "d2l.plt.legend()\n",
    "counts"
   ]
  },
  {
   "cell_type": "code",
   "execution_count": 20,
   "metadata": {},
   "outputs": [
    {
     "name": "stdout",
     "output_type": "stream",
     "text": [
      "Help on built-in function tensor:\n",
      "\n",
      "tensor(...)\n",
      "    tensor(data, *, dtype=None, device=None, requires_grad=False, pin_memory=False) -> Tensor\n",
      "    \n",
      "    Constructs a tensor with :attr:`data`.\n",
      "    \n",
      "    .. warning::\n",
      "    \n",
      "        :func:`torch.tensor` always copies :attr:`data`. If you have a Tensor\n",
      "        ``data`` and want to avoid a copy, use :func:`torch.Tensor.requires_grad_`\n",
      "        or :func:`torch.Tensor.detach`.\n",
      "        If you have a NumPy ``ndarray`` and want to avoid a copy, use\n",
      "        :func:`torch.as_tensor`.\n",
      "    \n",
      "    .. warning::\n",
      "    \n",
      "        When data is a tensor `x`, :func:`torch.tensor` reads out 'the data' from whatever it is passed,\n",
      "        and constructs a leaf variable. Therefore ``torch.tensor(x)`` is equivalent to ``x.clone().detach()``\n",
      "        and ``torch.tensor(x, requires_grad=True)`` is equivalent to ``x.clone().detach().requires_grad_(True)``.\n",
      "        The equivalents using ``clone()`` and ``detach()`` are recommended.\n",
      "    \n",
      "    Args:\n",
      "        data (array_like): Initial data for the tensor. Can be a list, tuple,\n",
      "            NumPy ``ndarray``, scalar, and other types.\n",
      "    \n",
      "    Keyword args:\n",
      "        dtype (:class:`torch.dtype`, optional): the desired data type of returned tensor.\n",
      "            Default: if ``None``, infers data type from :attr:`data`.\n",
      "        device (:class:`torch.device`, optional): the desired device of returned tensor.\n",
      "            Default: if ``None``, uses the current device for the default tensor type\n",
      "            (see :func:`torch.set_default_tensor_type`). :attr:`device` will be the CPU\n",
      "            for CPU tensor types and the current CUDA device for CUDA tensor types.\n",
      "        requires_grad (bool, optional): If autograd should record operations on the\n",
      "            returned tensor. Default: ``False``.\n",
      "        pin_memory (bool, optional): If set, returned tensor would be allocated in\n",
      "            the pinned memory. Works only for CPU tensors. Default: ``False``.\n",
      "    \n",
      "    \n",
      "    Example::\n",
      "    \n",
      "        >>> torch.tensor([[0.1, 1.2], [2.2, 3.1], [4.9, 5.2]])\n",
      "        tensor([[ 0.1000,  1.2000],\n",
      "                [ 2.2000,  3.1000],\n",
      "                [ 4.9000,  5.2000]])\n",
      "    \n",
      "        >>> torch.tensor([0, 1])  # Type inference on data\n",
      "        tensor([ 0,  1])\n",
      "    \n",
      "        >>> torch.tensor([[0.11111, 0.222222, 0.3333333]],\n",
      "        ...              dtype=torch.float64,\n",
      "        ...              device=torch.device('cuda:0'))  # creates a torch.cuda.DoubleTensor\n",
      "        tensor([[ 0.1111,  0.2222,  0.3333]], dtype=torch.float64, device='cuda:0')\n",
      "    \n",
      "        >>> torch.tensor(3.14159)  # Create a scalar (zero-dimensional tensor)\n",
      "        tensor(3.1416)\n",
      "    \n",
      "        >>> torch.tensor([])  # Create an empty tensor (of size (0,))\n",
      "        tensor([])\n",
      "\n"
     ]
    }
   ],
   "source": [
    "help(torch.tensor)"
   ]
  }
 ],
 "metadata": {
  "interpreter": {
   "hash": "c19d7a919b51c2e2b30ff98983f3a46705a8e13bdab55e207a85fdc0147c8841"
  },
  "kernelspec": {
   "display_name": "Python 3.7.11 ('myenv')",
   "language": "python",
   "name": "python3"
  },
  "language_info": {
   "codemirror_mode": {
    "name": "ipython",
    "version": 3
   },
   "file_extension": ".py",
   "mimetype": "text/x-python",
   "name": "python",
   "nbconvert_exporter": "python",
   "pygments_lexer": "ipython3",
   "version": "3.7.11"
  },
  "orig_nbformat": 4
 },
 "nbformat": 4,
 "nbformat_minor": 2
}
