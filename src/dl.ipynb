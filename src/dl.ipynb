{
 "cells": [
  {
   "cell_type": "code",
   "execution_count": 1,
   "metadata": {},
   "outputs": [
    {
     "data": {
      "text/plain": [
       "'NVIDIA GeForce RTX 2080 Ti'"
      ]
     },
     "execution_count": 1,
     "metadata": {},
     "output_type": "execute_result"
    }
   ],
   "source": [
    "import torch\n",
    "torch.__version__\n",
    "torch.cuda.current_device()\n",
    "torch.cuda.get_device_name(0)"
   ]
  },
  {
   "cell_type": "markdown",
   "metadata": {},
   "source": [
    "Basics"
   ]
  },
  {
   "cell_type": "code",
   "execution_count": 2,
   "metadata": {},
   "outputs": [
    {
     "data": {
      "text/plain": [
       "tensor([[ 0.,  1.,  2.,  3.],\n",
       "        [ 4.,  5.,  6.,  7.],\n",
       "        [ 8.,  9., 10., 11.]])"
      ]
     },
     "execution_count": 2,
     "metadata": {},
     "output_type": "execute_result"
    }
   ],
   "source": [
    "x = torch.arange(12, dtype = torch.float32)\n",
    "x.shape\n",
    "X = x.reshape(3,4)\n",
    "X"
   ]
  },
  {
   "cell_type": "code",
   "execution_count": 3,
   "metadata": {},
   "outputs": [
    {
     "data": {
      "text/plain": [
       "(tensor([[1],\n",
       "         [2],\n",
       "         [3]]),\n",
       " tensor([[4, 5, 6]]))"
      ]
     },
     "execution_count": 3,
     "metadata": {},
     "output_type": "execute_result"
    }
   ],
   "source": [
    "x = torch.tensor([1,2,3]).reshape(3,1)\n",
    "y = torch.tensor([4,5,6]).reshape(1,3)\n",
    "\n",
    "x, y\n"
   ]
  },
  {
   "cell_type": "code",
   "execution_count": 4,
   "metadata": {},
   "outputs": [],
   "source": [
    "import os\n",
    "\n",
    "os.makedirs(os.path.join('..','data'), exist_ok = True)\n",
    "data_file = os.path.join('..', 'data', 'house_tiny.csv')\n",
    "\n",
    "with open(data_file, 'w') as f:\n",
    "    f.write('NumRooms,Alley,Price\\n')  # Column names\n",
    "    f.write('NA,Pave,127500\\n')  # Each row represents a data example\n",
    "    f.write('2,NA,106000\\n')\n",
    "    f.write('4,NA,178100\\n')\n",
    "    f.write('NA,NA,140000\\n')"
   ]
  },
  {
   "cell_type": "code",
   "execution_count": 5,
   "metadata": {},
   "outputs": [
    {
     "name": "stdout",
     "output_type": "stream",
     "text": [
      "   NumRooms Alley   Price\n",
      "0       NaN  Pave  127500\n",
      "1       2.0   NaN  106000\n",
      "2       4.0   NaN  178100\n",
      "3       NaN   NaN  140000\n"
     ]
    }
   ],
   "source": [
    "import pandas as pd\n",
    "\n",
    "data = pd.read_csv(data_file)\n",
    "print(data)"
   ]
  },
  {
   "cell_type": "code",
   "execution_count": 18,
   "metadata": {},
   "outputs": [
    {
     "name": "stdout",
     "output_type": "stream",
     "text": [
      "   NumRooms  Alley_Pave  Alley_nan\n",
      "0       3.0           1          0\n",
      "1       2.0           0          1\n",
      "2       4.0           0          1\n",
      "3       3.0           0          1\n"
     ]
    },
    {
     "name": "stderr",
     "output_type": "stream",
     "text": [
      "C:\\Users\\iamwl\\miniconda3\\envs\\myenv\\lib\\site-packages\\ipykernel_launcher.py:3: FutureWarning: Dropping of nuisance columns in DataFrame reductions (with 'numeric_only=None') is deprecated; in a future version this will raise TypeError.  Select only valid columns before calling the reduction.\n",
      "  This is separate from the ipykernel package so we can avoid doing imports until\n"
     ]
    }
   ],
   "source": [
    "inputs, outputs = data.iloc[:, 0:2], data.iloc[:,2]\n",
    "\n",
    "inputs = inputs.fillna(inputs.mean())\n",
    "\n",
    "inputs = pd.get_dummies(inputs, dummy_na = True)\n",
    "\n",
    "print(inputs)"
   ]
  },
  {
   "cell_type": "code",
   "execution_count": 19,
   "metadata": {},
   "outputs": [
    {
     "data": {
      "text/plain": [
       "(tensor([[3., 1., 0.],\n",
       "         [2., 0., 1.],\n",
       "         [4., 0., 1.],\n",
       "         [3., 0., 1.]], dtype=torch.float64),\n",
       " tensor([127500, 106000, 178100, 140000]))"
      ]
     },
     "execution_count": 19,
     "metadata": {},
     "output_type": "execute_result"
    }
   ],
   "source": [
    "X, y = torch.tensor(inputs.values), torch.tensor(outputs.values)\n",
    "\n",
    "X, y"
   ]
  },
  {
   "cell_type": "code",
   "execution_count": 20,
   "metadata": {},
   "outputs": [
    {
     "data": {
      "text/plain": [
       "(tensor([[3., 2., 4., 3.],\n",
       "         [1., 0., 0., 0.],\n",
       "         [0., 1., 1., 1.]], dtype=torch.float64),\n",
       " tensor([127500, 106000, 178100, 140000]))"
      ]
     },
     "execution_count": 20,
     "metadata": {},
     "output_type": "execute_result"
    }
   ],
   "source": [
    "X.T, y"
   ]
  },
  {
   "cell_type": "code",
   "execution_count": 22,
   "metadata": {},
   "outputs": [
    {
     "data": {
      "text/plain": [
       "tensor([1726900.,  127500.,  424100.], dtype=torch.float64)"
      ]
     },
     "execution_count": 22,
     "metadata": {},
     "output_type": "execute_result"
    }
   ],
   "source": [
    "torch.mv(X.T, y.double())"
   ]
  },
  {
   "cell_type": "markdown",
   "metadata": {},
   "source": [
    "Autograd"
   ]
  },
  {
   "cell_type": "code",
   "execution_count": 23,
   "metadata": {},
   "outputs": [
    {
     "data": {
      "text/plain": [
       "(tensor([0., 1., 2., 3.], requires_grad=True), None)"
      ]
     },
     "execution_count": 23,
     "metadata": {},
     "output_type": "execute_result"
    }
   ],
   "source": [
    "x = torch.arange(4.0)\n",
    "x.requires_grad_(True)\n",
    "x, x.grad"
   ]
  },
  {
   "cell_type": "code",
   "execution_count": 24,
   "metadata": {},
   "outputs": [
    {
     "data": {
      "text/plain": [
       "tensor(28., grad_fn=<MulBackward0>)"
      ]
     },
     "execution_count": 24,
     "metadata": {},
     "output_type": "execute_result"
    }
   ],
   "source": [
    "y = 2 * torch.dot(x, x)\n",
    "\n",
    "y"
   ]
  },
  {
   "cell_type": "code",
   "execution_count": 25,
   "metadata": {},
   "outputs": [
    {
     "data": {
      "text/plain": [
       "tensor([ 0.,  4.,  8., 12.])"
      ]
     },
     "execution_count": 25,
     "metadata": {},
     "output_type": "execute_result"
    }
   ],
   "source": [
    "y.backward()\n",
    "x.grad"
   ]
  },
  {
   "cell_type": "code",
   "execution_count": 26,
   "metadata": {},
   "outputs": [
    {
     "data": {
      "text/plain": [
       "tensor([0., 2., 4., 6.])"
      ]
     },
     "execution_count": 26,
     "metadata": {},
     "output_type": "execute_result"
    }
   ],
   "source": [
    "x.grad.zero_()\n",
    "y = x * x\n",
    "y.sum().backward()\n",
    "x.grad"
   ]
  },
  {
   "cell_type": "code",
   "execution_count": 30,
   "metadata": {},
   "outputs": [
    {
     "data": {
      "text/plain": [
       "tensor([True, True, True, True])"
      ]
     },
     "execution_count": 30,
     "metadata": {},
     "output_type": "execute_result"
    }
   ],
   "source": [
    "x.grad.zero_()\n",
    "y = x*x \n",
    "u = y.detach()\n",
    "z = u * x\n",
    "\n",
    "x, y, u, z\n",
    "\n",
    "z.sum().backward()\n",
    "x.grad == u"
   ]
  },
  {
   "cell_type": "code",
   "execution_count": 57,
   "metadata": {},
   "outputs": [],
   "source": [
    "def f(a):\n",
    "    b = a * 2\n",
    "    while b.norm() < 1000:\n",
    "        b = b * 2\n",
    "    if b.sum() > 0:\n",
    "        c = b\n",
    "    else:\n",
    "        c = 100 * b\n",
    "    return c"
   ]
  },
  {
   "cell_type": "code",
   "execution_count": 95,
   "metadata": {},
   "outputs": [
    {
     "data": {
      "text/plain": [
       "(tensor([ 0.3800,  1.2450, -0.3828], requires_grad=True),\n",
       " tensor([ 389.1407, 1274.8506, -392.0176], grad_fn=<MulBackward0>),\n",
       " tensor([1024., 1024., 1024.]),\n",
       " tensor([1024., 1024., 1024.], grad_fn=<DivBackward0>))"
      ]
     },
     "execution_count": 95,
     "metadata": {},
     "output_type": "execute_result"
    }
   ],
   "source": [
    "a = torch.randn(size=(3,), requires_grad=True)\n",
    "d = f(a)\n",
    "d.sum().backward()\n",
    "\n",
    "a, d, a.grad, d / a"
   ]
  },
  {
   "cell_type": "code",
   "execution_count": 91,
   "metadata": {},
   "outputs": [
    {
     "data": {
      "image/svg+xml": "<?xml version=\"1.0\" encoding=\"utf-8\" standalone=\"no\"?>\r\n<!DOCTYPE svg PUBLIC \"-//W3C//DTD SVG 1.1//EN\"\r\n  \"http://www.w3.org/Graphics/SVG/1.1/DTD/svg11.dtd\">\r\n<svg height=\"166.978125pt\" version=\"1.1\" viewBox=\"0 0 240.982812 166.978125\" width=\"240.982812pt\" xmlns=\"http://www.w3.org/2000/svg\" xmlns:xlink=\"http://www.w3.org/1999/xlink\">\r\n <metadata>\r\n  <rdf:RDF xmlns:cc=\"http://creativecommons.org/ns#\" xmlns:dc=\"http://purl.org/dc/elements/1.1/\" xmlns:rdf=\"http://www.w3.org/1999/02/22-rdf-syntax-ns#\">\r\n   <cc:Work>\r\n    <dc:type rdf:resource=\"http://purl.org/dc/dcmitype/StillImage\"/>\r\n    <dc:date>2022-03-13T22:39:31.593285</dc:date>\r\n    <dc:format>image/svg+xml</dc:format>\r\n    <dc:creator>\r\n     <cc:Agent>\r\n      <dc:title>Matplotlib v3.4.3, https://matplotlib.org/</dc:title>\r\n     </cc:Agent>\r\n    </dc:creator>\r\n   </cc:Work>\r\n  </rdf:RDF>\r\n </metadata>\r\n <defs>\r\n  <style type=\"text/css\">*{stroke-linecap:butt;stroke-linejoin:round;}</style>\r\n </defs>\r\n <g id=\"figure_1\">\r\n  <g id=\"patch_1\">\r\n   <path d=\"M -0 166.978125 \r\nL 240.982813 166.978125 \r\nL 240.982813 0 \r\nL -0 0 \r\nz\r\n\" style=\"fill:none;\"/>\r\n  </g>\r\n  <g id=\"axes_1\">\r\n   <g id=\"patch_2\">\r\n    <path d=\"M 38.482813 143.1 \r\nL 233.782813 143.1 \r\nL 233.782813 7.2 \r\nL 38.482813 7.2 \r\nz\r\n\" style=\"fill:#ffffff;\"/>\r\n   </g>\r\n   <g id=\"matplotlib.axis_1\">\r\n    <g id=\"xtick_1\">\r\n     <g id=\"line2d_1\">\r\n      <path clip-path=\"url(#p2daa6fbfe7)\" d=\"M 79.618339 143.1 \r\nL 79.618339 7.2 \r\n\" style=\"fill:none;stroke:#b0b0b0;stroke-linecap:square;stroke-width:0.8;\"/>\r\n     </g>\r\n     <g id=\"line2d_2\">\r\n      <defs>\r\n       <path d=\"M 0 0 \r\nL 0 3.5 \r\n\" id=\"m0a6bc80ecc\" style=\"stroke:#000000;stroke-width:0.8;\"/>\r\n      </defs>\r\n      <g>\r\n       <use style=\"stroke:#000000;stroke-width:0.8;\" x=\"79.618339\" xlink:href=\"#m0a6bc80ecc\" y=\"143.1\"/>\r\n      </g>\r\n     </g>\r\n     <g id=\"text_1\">\r\n      <!-- −2 -->\r\n      <g transform=\"translate(72.247245 157.698438)scale(0.1 -0.1)\">\r\n       <defs>\r\n        <path d=\"M 678 2272 \r\nL 4684 2272 \r\nL 4684 1741 \r\nL 678 1741 \r\nL 678 2272 \r\nz\r\n\" id=\"DejaVuSans-2212\" transform=\"scale(0.015625)\"/>\r\n        <path d=\"M 1228 531 \r\nL 3431 531 \r\nL 3431 0 \r\nL 469 0 \r\nL 469 531 \r\nQ 828 903 1448 1529 \r\nQ 2069 2156 2228 2338 \r\nQ 2531 2678 2651 2914 \r\nQ 2772 3150 2772 3378 \r\nQ 2772 3750 2511 3984 \r\nQ 2250 4219 1831 4219 \r\nQ 1534 4219 1204 4116 \r\nQ 875 4013 500 3803 \r\nL 500 4441 \r\nQ 881 4594 1212 4672 \r\nQ 1544 4750 1819 4750 \r\nQ 2544 4750 2975 4387 \r\nQ 3406 4025 3406 3419 \r\nQ 3406 3131 3298 2873 \r\nQ 3191 2616 2906 2266 \r\nQ 2828 2175 2409 1742 \r\nQ 1991 1309 1228 531 \r\nz\r\n\" id=\"DejaVuSans-32\" transform=\"scale(0.015625)\"/>\r\n       </defs>\r\n       <use xlink:href=\"#DejaVuSans-2212\"/>\r\n       <use x=\"83.789062\" xlink:href=\"#DejaVuSans-32\"/>\r\n      </g>\r\n     </g>\r\n    </g>\r\n    <g id=\"xtick_2\">\r\n     <g id=\"line2d_3\">\r\n      <path clip-path=\"url(#p2daa6fbfe7)\" d=\"M 136.132812 143.1 \r\nL 136.132812 7.2 \r\n\" style=\"fill:none;stroke:#b0b0b0;stroke-linecap:square;stroke-width:0.8;\"/>\r\n     </g>\r\n     <g id=\"line2d_4\">\r\n      <g>\r\n       <use style=\"stroke:#000000;stroke-width:0.8;\" x=\"136.132812\" xlink:href=\"#m0a6bc80ecc\" y=\"143.1\"/>\r\n      </g>\r\n     </g>\r\n     <g id=\"text_2\">\r\n      <!-- 0 -->\r\n      <g transform=\"translate(132.951562 157.698438)scale(0.1 -0.1)\">\r\n       <defs>\r\n        <path d=\"M 2034 4250 \r\nQ 1547 4250 1301 3770 \r\nQ 1056 3291 1056 2328 \r\nQ 1056 1369 1301 889 \r\nQ 1547 409 2034 409 \r\nQ 2525 409 2770 889 \r\nQ 3016 1369 3016 2328 \r\nQ 3016 3291 2770 3770 \r\nQ 2525 4250 2034 4250 \r\nz\r\nM 2034 4750 \r\nQ 2819 4750 3233 4129 \r\nQ 3647 3509 3647 2328 \r\nQ 3647 1150 3233 529 \r\nQ 2819 -91 2034 -91 \r\nQ 1250 -91 836 529 \r\nQ 422 1150 422 2328 \r\nQ 422 3509 836 4129 \r\nQ 1250 4750 2034 4750 \r\nz\r\n\" id=\"DejaVuSans-30\" transform=\"scale(0.015625)\"/>\r\n       </defs>\r\n       <use xlink:href=\"#DejaVuSans-30\"/>\r\n      </g>\r\n     </g>\r\n    </g>\r\n    <g id=\"xtick_3\">\r\n     <g id=\"line2d_5\">\r\n      <path clip-path=\"url(#p2daa6fbfe7)\" d=\"M 192.647286 143.1 \r\nL 192.647286 7.2 \r\n\" style=\"fill:none;stroke:#b0b0b0;stroke-linecap:square;stroke-width:0.8;\"/>\r\n     </g>\r\n     <g id=\"line2d_6\">\r\n      <g>\r\n       <use style=\"stroke:#000000;stroke-width:0.8;\" x=\"192.647286\" xlink:href=\"#m0a6bc80ecc\" y=\"143.1\"/>\r\n      </g>\r\n     </g>\r\n     <g id=\"text_3\">\r\n      <!-- 2 -->\r\n      <g transform=\"translate(189.466036 157.698438)scale(0.1 -0.1)\">\r\n       <use xlink:href=\"#DejaVuSans-32\"/>\r\n      </g>\r\n     </g>\r\n    </g>\r\n   </g>\r\n   <g id=\"matplotlib.axis_2\">\r\n    <g id=\"ytick_1\">\r\n     <g id=\"line2d_7\">\r\n      <path clip-path=\"url(#p2daa6fbfe7)\" d=\"M 38.482813 136.922727 \r\nL 233.782813 136.922727 \r\n\" style=\"fill:none;stroke:#b0b0b0;stroke-linecap:square;stroke-width:0.8;\"/>\r\n     </g>\r\n     <g id=\"line2d_8\">\r\n      <defs>\r\n       <path d=\"M 0 0 \r\nL -3.5 0 \r\n\" id=\"md72874cf7f\" style=\"stroke:#000000;stroke-width:0.8;\"/>\r\n      </defs>\r\n      <g>\r\n       <use style=\"stroke:#000000;stroke-width:0.8;\" x=\"38.482813\" xlink:href=\"#md72874cf7f\" y=\"136.922727\"/>\r\n      </g>\r\n     </g>\r\n     <g id=\"text_4\">\r\n      <!-- −1.0 -->\r\n      <g transform=\"translate(7.2 140.721946)scale(0.1 -0.1)\">\r\n       <defs>\r\n        <path d=\"M 794 531 \r\nL 1825 531 \r\nL 1825 4091 \r\nL 703 3866 \r\nL 703 4441 \r\nL 1819 4666 \r\nL 2450 4666 \r\nL 2450 531 \r\nL 3481 531 \r\nL 3481 0 \r\nL 794 0 \r\nL 794 531 \r\nz\r\n\" id=\"DejaVuSans-31\" transform=\"scale(0.015625)\"/>\r\n        <path d=\"M 684 794 \r\nL 1344 794 \r\nL 1344 0 \r\nL 684 0 \r\nL 684 794 \r\nz\r\n\" id=\"DejaVuSans-2e\" transform=\"scale(0.015625)\"/>\r\n       </defs>\r\n       <use xlink:href=\"#DejaVuSans-2212\"/>\r\n       <use x=\"83.789062\" xlink:href=\"#DejaVuSans-31\"/>\r\n       <use x=\"147.412109\" xlink:href=\"#DejaVuSans-2e\"/>\r\n       <use x=\"179.199219\" xlink:href=\"#DejaVuSans-30\"/>\r\n      </g>\r\n     </g>\r\n    </g>\r\n    <g id=\"ytick_2\">\r\n     <g id=\"line2d_9\">\r\n      <path clip-path=\"url(#p2daa6fbfe7)\" d=\"M 38.482813 106.03442 \r\nL 233.782813 106.03442 \r\n\" style=\"fill:none;stroke:#b0b0b0;stroke-linecap:square;stroke-width:0.8;\"/>\r\n     </g>\r\n     <g id=\"line2d_10\">\r\n      <g>\r\n       <use style=\"stroke:#000000;stroke-width:0.8;\" x=\"38.482813\" xlink:href=\"#md72874cf7f\" y=\"106.03442\"/>\r\n      </g>\r\n     </g>\r\n     <g id=\"text_5\">\r\n      <!-- −0.5 -->\r\n      <g transform=\"translate(7.2 109.833638)scale(0.1 -0.1)\">\r\n       <defs>\r\n        <path d=\"M 691 4666 \r\nL 3169 4666 \r\nL 3169 4134 \r\nL 1269 4134 \r\nL 1269 2991 \r\nQ 1406 3038 1543 3061 \r\nQ 1681 3084 1819 3084 \r\nQ 2600 3084 3056 2656 \r\nQ 3513 2228 3513 1497 \r\nQ 3513 744 3044 326 \r\nQ 2575 -91 1722 -91 \r\nQ 1428 -91 1123 -41 \r\nQ 819 9 494 109 \r\nL 494 744 \r\nQ 775 591 1075 516 \r\nQ 1375 441 1709 441 \r\nQ 2250 441 2565 725 \r\nQ 2881 1009 2881 1497 \r\nQ 2881 1984 2565 2268 \r\nQ 2250 2553 1709 2553 \r\nQ 1456 2553 1204 2497 \r\nQ 953 2441 691 2322 \r\nL 691 4666 \r\nz\r\n\" id=\"DejaVuSans-35\" transform=\"scale(0.015625)\"/>\r\n       </defs>\r\n       <use xlink:href=\"#DejaVuSans-2212\"/>\r\n       <use x=\"83.789062\" xlink:href=\"#DejaVuSans-30\"/>\r\n       <use x=\"147.412109\" xlink:href=\"#DejaVuSans-2e\"/>\r\n       <use x=\"179.199219\" xlink:href=\"#DejaVuSans-35\"/>\r\n      </g>\r\n     </g>\r\n    </g>\r\n    <g id=\"ytick_3\">\r\n     <g id=\"line2d_11\">\r\n      <path clip-path=\"url(#p2daa6fbfe7)\" d=\"M 38.482813 75.146112 \r\nL 233.782813 75.146112 \r\n\" style=\"fill:none;stroke:#b0b0b0;stroke-linecap:square;stroke-width:0.8;\"/>\r\n     </g>\r\n     <g id=\"line2d_12\">\r\n      <g>\r\n       <use style=\"stroke:#000000;stroke-width:0.8;\" x=\"38.482813\" xlink:href=\"#md72874cf7f\" y=\"75.146112\"/>\r\n      </g>\r\n     </g>\r\n     <g id=\"text_6\">\r\n      <!-- 0.0 -->\r\n      <g transform=\"translate(15.579688 78.945331)scale(0.1 -0.1)\">\r\n       <use xlink:href=\"#DejaVuSans-30\"/>\r\n       <use x=\"63.623047\" xlink:href=\"#DejaVuSans-2e\"/>\r\n       <use x=\"95.410156\" xlink:href=\"#DejaVuSans-30\"/>\r\n      </g>\r\n     </g>\r\n    </g>\r\n    <g id=\"ytick_4\">\r\n     <g id=\"line2d_13\">\r\n      <path clip-path=\"url(#p2daa6fbfe7)\" d=\"M 38.482813 44.257804 \r\nL 233.782813 44.257804 \r\n\" style=\"fill:none;stroke:#b0b0b0;stroke-linecap:square;stroke-width:0.8;\"/>\r\n     </g>\r\n     <g id=\"line2d_14\">\r\n      <g>\r\n       <use style=\"stroke:#000000;stroke-width:0.8;\" x=\"38.482813\" xlink:href=\"#md72874cf7f\" y=\"44.257804\"/>\r\n      </g>\r\n     </g>\r\n     <g id=\"text_7\">\r\n      <!-- 0.5 -->\r\n      <g transform=\"translate(15.579688 48.057023)scale(0.1 -0.1)\">\r\n       <use xlink:href=\"#DejaVuSans-30\"/>\r\n       <use x=\"63.623047\" xlink:href=\"#DejaVuSans-2e\"/>\r\n       <use x=\"95.410156\" xlink:href=\"#DejaVuSans-35\"/>\r\n      </g>\r\n     </g>\r\n    </g>\r\n    <g id=\"ytick_5\">\r\n     <g id=\"line2d_15\">\r\n      <path clip-path=\"url(#p2daa6fbfe7)\" d=\"M 38.482813 13.369497 \r\nL 233.782813 13.369497 \r\n\" style=\"fill:none;stroke:#b0b0b0;stroke-linecap:square;stroke-width:0.8;\"/>\r\n     </g>\r\n     <g id=\"line2d_16\">\r\n      <g>\r\n       <use style=\"stroke:#000000;stroke-width:0.8;\" x=\"38.482813\" xlink:href=\"#md72874cf7f\" y=\"13.369497\"/>\r\n      </g>\r\n     </g>\r\n     <g id=\"text_8\">\r\n      <!-- 1.0 -->\r\n      <g transform=\"translate(15.579688 17.168716)scale(0.1 -0.1)\">\r\n       <use xlink:href=\"#DejaVuSans-31\"/>\r\n       <use x=\"63.623047\" xlink:href=\"#DejaVuSans-2e\"/>\r\n       <use x=\"95.410156\" xlink:href=\"#DejaVuSans-30\"/>\r\n      </g>\r\n     </g>\r\n    </g>\r\n   </g>\r\n   <g id=\"line2d_17\">\r\n    <path clip-path=\"url(#p2daa6fbfe7)\" d=\"M 47.360085 75.146112 \r\nL 49.153474 79.064227 \r\nL 50.946862 82.966565 \r\nL 52.740251 86.837413 \r\nL 54.533639 90.661185 \r\nL 56.327027 94.422482 \r\nL 58.120416 98.106161 \r\nL 59.913804 101.697387 \r\nL 61.707193 105.181701 \r\nL 63.500581 108.545072 \r\nL 65.29397 111.773957 \r\nL 67.087358 114.855355 \r\nL 68.880746 117.776858 \r\nL 70.674135 120.526701 \r\nL 72.467523 123.093814 \r\nL 74.260912 125.467857 \r\nL 76.0543 127.639273 \r\nL 77.847689 129.599317 \r\nL 79.641077 131.340098 \r\nL 81.434465 132.854605 \r\nL 83.227854 134.13674 \r\nL 85.021242 135.181341 \r\nL 86.814631 135.984202 \r\nL 88.608019 136.542088 \r\nL 90.401408 136.852755 \r\nL 92.194796 136.914951 \r\nL 93.988184 136.728426 \r\nL 95.781573 136.29393 \r\nL 97.574961 135.613214 \r\nL 99.36835 134.689018 \r\nL 101.161738 133.525064 \r\nL 102.955127 132.126038 \r\nL 104.748515 130.497575 \r\nL 106.541903 128.64623 \r\nL 108.335292 126.57946 \r\nL 110.12868 124.305585 \r\nL 111.922069 121.833763 \r\nL 113.715457 119.173946 \r\nL 115.508846 116.336844 \r\nL 117.302234 113.333882 \r\nL 119.095622 110.177151 \r\nL 120.889011 106.879363 \r\nL 122.682399 103.453796 \r\nL 124.475788 99.914243 \r\nL 126.269176 96.274959 \r\nL 128.062565 92.550596 \r\nL 129.855953 88.756151 \r\nL 131.649341 84.906903 \r\nL 133.44273 81.018353 \r\nL 135.236118 77.106156 \r\nL 137.029507 73.186068 \r\nL 138.822895 69.273871 \r\nL 140.616284 65.385321 \r\nL 142.409672 61.536073 \r\nL 144.20306 57.741628 \r\nL 145.996449 54.017265 \r\nL 147.789837 50.377981 \r\nL 149.583226 46.838428 \r\nL 151.376614 43.412861 \r\nL 153.170003 40.115073 \r\nL 154.963391 36.958342 \r\nL 156.756779 33.95538 \r\nL 158.550168 31.118278 \r\nL 160.343556 28.458461 \r\nL 162.136945 25.986639 \r\nL 163.930333 23.712764 \r\nL 165.723722 21.645994 \r\nL 167.51711 19.794649 \r\nL 169.310498 18.166186 \r\nL 171.103887 16.76716 \r\nL 172.897275 15.603206 \r\nL 174.690664 14.67901 \r\nL 176.484052 13.998294 \r\nL 178.277441 13.563798 \r\nL 180.070829 13.377273 \r\nL 181.864217 13.439469 \r\nL 183.657606 13.750136 \r\nL 185.450994 14.308022 \r\nL 187.244383 15.110883 \r\nL 189.037771 16.155484 \r\nL 190.83116 17.437619 \r\nL 192.624548 18.952126 \r\nL 194.417936 20.692907 \r\nL 196.211325 22.652951 \r\nL 198.004713 24.824367 \r\nL 199.798102 27.198411 \r\nL 201.59149 29.765523 \r\nL 203.384879 32.515366 \r\nL 205.178267 35.436869 \r\nL 206.971655 38.518267 \r\nL 208.765044 41.747152 \r\nL 210.558432 45.110523 \r\nL 212.351821 48.594837 \r\nL 214.145209 52.186063 \r\nL 215.938598 55.869742 \r\nL 217.731986 59.631039 \r\nL 219.525374 63.454811 \r\nL 221.318763 67.325659 \r\nL 223.112151 71.227997 \r\nL 224.90554 75.146112 \r\n\" style=\"fill:none;stroke:#1f77b4;stroke-linecap:square;stroke-width:1.5;\"/>\r\n   </g>\r\n   <g id=\"line2d_18\">\r\n    <path clip-path=\"url(#p2daa6fbfe7)\" d=\"M 47.360085 136.922727 \r\nL 49.153474 136.798351 \r\nL 50.946862 136.425723 \r\nL 52.740251 135.806343 \r\nL 54.533639 134.942707 \r\nL 56.327027 133.83829 \r\nL 58.120416 132.497541 \r\nL 59.913804 130.925857 \r\nL 61.707193 129.129569 \r\nL 63.500581 127.115908 \r\nL 65.29397 124.892983 \r\nL 67.087358 122.469745 \r\nL 68.880746 119.855951 \r\nL 70.674135 117.062127 \r\nL 72.467523 114.099522 \r\nL 74.260912 110.980065 \r\nL 76.0543 107.716317 \r\nL 77.847689 104.32142 \r\nL 79.641077 100.809045 \r\nL 81.434465 97.193335 \r\nL 83.227854 93.488848 \r\nL 85.021242 89.710501 \r\nL 86.814631 85.873509 \r\nL 88.608019 81.993321 \r\nL 90.401408 78.085562 \r\nL 92.194796 74.165966 \r\nL 93.988184 70.250318 \r\nL 95.781573 66.354383 \r\nL 97.574961 62.493849 \r\nL 99.36835 58.684262 \r\nL 101.161738 54.94096 \r\nL 102.955127 51.279018 \r\nL 104.748515 47.71318 \r\nL 106.541903 44.257804 \r\nL 108.335292 40.926805 \r\nL 110.12868 37.733595 \r\nL 111.922069 34.691032 \r\nL 113.715457 31.811368 \r\nL 115.508846 29.106197 \r\nL 117.302234 26.586412 \r\nL 119.095622 24.262161 \r\nL 120.889011 22.142801 \r\nL 122.682399 20.236866 \r\nL 124.475788 18.552032 \r\nL 126.269176 17.095083 \r\nL 128.062565 15.871884 \r\nL 129.855953 14.887361 \r\nL 131.649341 14.14548 \r\nL 133.44273 13.649226 \r\nL 135.236118 13.400599 \r\nL 137.029507 13.400599 \r\nL 138.822895 13.649226 \r\nL 140.616284 14.14548 \r\nL 142.409672 14.887361 \r\nL 144.20306 15.871884 \r\nL 145.996449 17.095083 \r\nL 147.789837 18.552032 \r\nL 149.583226 20.236866 \r\nL 151.376614 22.142801 \r\nL 153.170003 24.262161 \r\nL 154.963391 26.586412 \r\nL 156.756779 29.106197 \r\nL 158.550168 31.811368 \r\nL 160.343556 34.691032 \r\nL 162.136945 37.733595 \r\nL 163.930333 40.926805 \r\nL 165.723722 44.257804 \r\nL 167.51711 47.71318 \r\nL 169.310498 51.279018 \r\nL 171.103887 54.94096 \r\nL 172.897275 58.684262 \r\nL 174.690664 62.493849 \r\nL 176.484052 66.354383 \r\nL 178.277441 70.250318 \r\nL 180.070829 74.165966 \r\nL 181.864217 78.085562 \r\nL 183.657606 81.993321 \r\nL 185.450994 85.873509 \r\nL 187.244383 89.710501 \r\nL 189.037771 93.488848 \r\nL 190.83116 97.193335 \r\nL 192.624548 100.809045 \r\nL 194.417936 104.32142 \r\nL 196.211325 107.716317 \r\nL 198.004713 110.980065 \r\nL 199.798102 114.099522 \r\nL 201.59149 117.062127 \r\nL 203.384879 119.855951 \r\nL 205.178267 122.469745 \r\nL 206.971655 124.892983 \r\nL 208.765044 127.115908 \r\nL 210.558432 129.129569 \r\nL 212.351821 130.925857 \r\nL 214.145209 132.497541 \r\nL 215.938598 133.83829 \r\nL 217.731986 134.942707 \r\nL 219.525374 135.806343 \r\nL 221.318763 136.425723 \r\nL 223.112151 136.798351 \r\nL 224.90554 136.922727 \r\n\" style=\"fill:none;stroke:#bf00bf;stroke-dasharray:5.55,2.4;stroke-dashoffset:0;stroke-width:1.5;\"/>\r\n   </g>\r\n   <g id=\"patch_3\">\r\n    <path d=\"M 38.482813 143.1 \r\nL 38.482813 7.2 \r\n\" style=\"fill:none;stroke:#000000;stroke-linecap:square;stroke-linejoin:miter;stroke-width:0.8;\"/>\r\n   </g>\r\n   <g id=\"patch_4\">\r\n    <path d=\"M 233.782813 143.1 \r\nL 233.782813 7.2 \r\n\" style=\"fill:none;stroke:#000000;stroke-linecap:square;stroke-linejoin:miter;stroke-width:0.8;\"/>\r\n   </g>\r\n   <g id=\"patch_5\">\r\n    <path d=\"M 38.482812 143.1 \r\nL 233.782813 143.1 \r\n\" style=\"fill:none;stroke:#000000;stroke-linecap:square;stroke-linejoin:miter;stroke-width:0.8;\"/>\r\n   </g>\r\n   <g id=\"patch_6\">\r\n    <path d=\"M 38.482812 7.2 \r\nL 233.782813 7.2 \r\n\" style=\"fill:none;stroke:#000000;stroke-linecap:square;stroke-linejoin:miter;stroke-width:0.8;\"/>\r\n   </g>\r\n   <g id=\"legend_1\">\r\n    <g id=\"patch_7\">\r\n     <path d=\"M 136.820312 138.1 \r\nL 226.782813 138.1 \r\nQ 228.782813 138.1 228.782813 136.1 \r\nL 228.782813 107.74375 \r\nQ 228.782813 105.74375 226.782813 105.74375 \r\nL 136.820312 105.74375 \r\nQ 134.820312 105.74375 134.820312 107.74375 \r\nL 134.820312 136.1 \r\nQ 134.820312 138.1 136.820312 138.1 \r\nz\r\n\" style=\"fill:#ffffff;opacity:0.8;stroke:#cccccc;stroke-linejoin:miter;\"/>\r\n    </g>\r\n    <g id=\"line2d_19\">\r\n     <path d=\"M 138.820312 113.842187 \r\nL 158.820312 113.842187 \r\n\" style=\"fill:none;stroke:#1f77b4;stroke-linecap:square;stroke-width:1.5;\"/>\r\n    </g>\r\n    <g id=\"line2d_20\"/>\r\n    <g id=\"text_9\">\r\n     <!-- sin(x) -->\r\n     <g transform=\"translate(166.820312 117.342187)scale(0.1 -0.1)\">\r\n      <defs>\r\n       <path d=\"M 2834 3397 \r\nL 2834 2853 \r\nQ 2591 2978 2328 3040 \r\nQ 2066 3103 1784 3103 \r\nQ 1356 3103 1142 2972 \r\nQ 928 2841 928 2578 \r\nQ 928 2378 1081 2264 \r\nQ 1234 2150 1697 2047 \r\nL 1894 2003 \r\nQ 2506 1872 2764 1633 \r\nQ 3022 1394 3022 966 \r\nQ 3022 478 2636 193 \r\nQ 2250 -91 1575 -91 \r\nQ 1294 -91 989 -36 \r\nQ 684 19 347 128 \r\nL 347 722 \r\nQ 666 556 975 473 \r\nQ 1284 391 1588 391 \r\nQ 1994 391 2212 530 \r\nQ 2431 669 2431 922 \r\nQ 2431 1156 2273 1281 \r\nQ 2116 1406 1581 1522 \r\nL 1381 1569 \r\nQ 847 1681 609 1914 \r\nQ 372 2147 372 2553 \r\nQ 372 3047 722 3315 \r\nQ 1072 3584 1716 3584 \r\nQ 2034 3584 2315 3537 \r\nQ 2597 3491 2834 3397 \r\nz\r\n\" id=\"DejaVuSans-73\" transform=\"scale(0.015625)\"/>\r\n       <path d=\"M 603 3500 \r\nL 1178 3500 \r\nL 1178 0 \r\nL 603 0 \r\nL 603 3500 \r\nz\r\nM 603 4863 \r\nL 1178 4863 \r\nL 1178 4134 \r\nL 603 4134 \r\nL 603 4863 \r\nz\r\n\" id=\"DejaVuSans-69\" transform=\"scale(0.015625)\"/>\r\n       <path d=\"M 3513 2113 \r\nL 3513 0 \r\nL 2938 0 \r\nL 2938 2094 \r\nQ 2938 2591 2744 2837 \r\nQ 2550 3084 2163 3084 \r\nQ 1697 3084 1428 2787 \r\nQ 1159 2491 1159 1978 \r\nL 1159 0 \r\nL 581 0 \r\nL 581 3500 \r\nL 1159 3500 \r\nL 1159 2956 \r\nQ 1366 3272 1645 3428 \r\nQ 1925 3584 2291 3584 \r\nQ 2894 3584 3203 3211 \r\nQ 3513 2838 3513 2113 \r\nz\r\n\" id=\"DejaVuSans-6e\" transform=\"scale(0.015625)\"/>\r\n       <path d=\"M 1984 4856 \r\nQ 1566 4138 1362 3434 \r\nQ 1159 2731 1159 2009 \r\nQ 1159 1288 1364 580 \r\nQ 1569 -128 1984 -844 \r\nL 1484 -844 \r\nQ 1016 -109 783 600 \r\nQ 550 1309 550 2009 \r\nQ 550 2706 781 3412 \r\nQ 1013 4119 1484 4856 \r\nL 1984 4856 \r\nz\r\n\" id=\"DejaVuSans-28\" transform=\"scale(0.015625)\"/>\r\n       <path d=\"M 3513 3500 \r\nL 2247 1797 \r\nL 3578 0 \r\nL 2900 0 \r\nL 1881 1375 \r\nL 863 0 \r\nL 184 0 \r\nL 1544 1831 \r\nL 300 3500 \r\nL 978 3500 \r\nL 1906 2253 \r\nL 2834 3500 \r\nL 3513 3500 \r\nz\r\n\" id=\"DejaVuSans-78\" transform=\"scale(0.015625)\"/>\r\n       <path d=\"M 513 4856 \r\nL 1013 4856 \r\nQ 1481 4119 1714 3412 \r\nQ 1947 2706 1947 2009 \r\nQ 1947 1309 1714 600 \r\nQ 1481 -109 1013 -844 \r\nL 513 -844 \r\nQ 928 -128 1133 580 \r\nQ 1338 1288 1338 2009 \r\nQ 1338 2731 1133 3434 \r\nQ 928 4138 513 4856 \r\nz\r\n\" id=\"DejaVuSans-29\" transform=\"scale(0.015625)\"/>\r\n      </defs>\r\n      <use xlink:href=\"#DejaVuSans-73\"/>\r\n      <use x=\"52.099609\" xlink:href=\"#DejaVuSans-69\"/>\r\n      <use x=\"79.882812\" xlink:href=\"#DejaVuSans-6e\"/>\r\n      <use x=\"143.261719\" xlink:href=\"#DejaVuSans-28\"/>\r\n      <use x=\"182.275391\" xlink:href=\"#DejaVuSans-78\"/>\r\n      <use x=\"241.455078\" xlink:href=\"#DejaVuSans-29\"/>\r\n     </g>\r\n    </g>\r\n    <g id=\"line2d_21\">\r\n     <path d=\"M 138.820312 128.520312 \r\nL 158.820312 128.520312 \r\n\" style=\"fill:none;stroke:#bf00bf;stroke-dasharray:5.55,2.4;stroke-dashoffset:0;stroke-width:1.5;\"/>\r\n    </g>\r\n    <g id=\"line2d_22\"/>\r\n    <g id=\"text_10\">\r\n     <!-- grad w.s.t x -->\r\n     <g transform=\"translate(166.820312 132.020312)scale(0.1 -0.1)\">\r\n      <defs>\r\n       <path d=\"M 2906 1791 \r\nQ 2906 2416 2648 2759 \r\nQ 2391 3103 1925 3103 \r\nQ 1463 3103 1205 2759 \r\nQ 947 2416 947 1791 \r\nQ 947 1169 1205 825 \r\nQ 1463 481 1925 481 \r\nQ 2391 481 2648 825 \r\nQ 2906 1169 2906 1791 \r\nz\r\nM 3481 434 \r\nQ 3481 -459 3084 -895 \r\nQ 2688 -1331 1869 -1331 \r\nQ 1566 -1331 1297 -1286 \r\nQ 1028 -1241 775 -1147 \r\nL 775 -588 \r\nQ 1028 -725 1275 -790 \r\nQ 1522 -856 1778 -856 \r\nQ 2344 -856 2625 -561 \r\nQ 2906 -266 2906 331 \r\nL 2906 616 \r\nQ 2728 306 2450 153 \r\nQ 2172 0 1784 0 \r\nQ 1141 0 747 490 \r\nQ 353 981 353 1791 \r\nQ 353 2603 747 3093 \r\nQ 1141 3584 1784 3584 \r\nQ 2172 3584 2450 3431 \r\nQ 2728 3278 2906 2969 \r\nL 2906 3500 \r\nL 3481 3500 \r\nL 3481 434 \r\nz\r\n\" id=\"DejaVuSans-67\" transform=\"scale(0.015625)\"/>\r\n       <path d=\"M 2631 2963 \r\nQ 2534 3019 2420 3045 \r\nQ 2306 3072 2169 3072 \r\nQ 1681 3072 1420 2755 \r\nQ 1159 2438 1159 1844 \r\nL 1159 0 \r\nL 581 0 \r\nL 581 3500 \r\nL 1159 3500 \r\nL 1159 2956 \r\nQ 1341 3275 1631 3429 \r\nQ 1922 3584 2338 3584 \r\nQ 2397 3584 2469 3576 \r\nQ 2541 3569 2628 3553 \r\nL 2631 2963 \r\nz\r\n\" id=\"DejaVuSans-72\" transform=\"scale(0.015625)\"/>\r\n       <path d=\"M 2194 1759 \r\nQ 1497 1759 1228 1600 \r\nQ 959 1441 959 1056 \r\nQ 959 750 1161 570 \r\nQ 1363 391 1709 391 \r\nQ 2188 391 2477 730 \r\nQ 2766 1069 2766 1631 \r\nL 2766 1759 \r\nL 2194 1759 \r\nz\r\nM 3341 1997 \r\nL 3341 0 \r\nL 2766 0 \r\nL 2766 531 \r\nQ 2569 213 2275 61 \r\nQ 1981 -91 1556 -91 \r\nQ 1019 -91 701 211 \r\nQ 384 513 384 1019 \r\nQ 384 1609 779 1909 \r\nQ 1175 2209 1959 2209 \r\nL 2766 2209 \r\nL 2766 2266 \r\nQ 2766 2663 2505 2880 \r\nQ 2244 3097 1772 3097 \r\nQ 1472 3097 1187 3025 \r\nQ 903 2953 641 2809 \r\nL 641 3341 \r\nQ 956 3463 1253 3523 \r\nQ 1550 3584 1831 3584 \r\nQ 2591 3584 2966 3190 \r\nQ 3341 2797 3341 1997 \r\nz\r\n\" id=\"DejaVuSans-61\" transform=\"scale(0.015625)\"/>\r\n       <path d=\"M 2906 2969 \r\nL 2906 4863 \r\nL 3481 4863 \r\nL 3481 0 \r\nL 2906 0 \r\nL 2906 525 \r\nQ 2725 213 2448 61 \r\nQ 2172 -91 1784 -91 \r\nQ 1150 -91 751 415 \r\nQ 353 922 353 1747 \r\nQ 353 2572 751 3078 \r\nQ 1150 3584 1784 3584 \r\nQ 2172 3584 2448 3432 \r\nQ 2725 3281 2906 2969 \r\nz\r\nM 947 1747 \r\nQ 947 1113 1208 752 \r\nQ 1469 391 1925 391 \r\nQ 2381 391 2643 752 \r\nQ 2906 1113 2906 1747 \r\nQ 2906 2381 2643 2742 \r\nQ 2381 3103 1925 3103 \r\nQ 1469 3103 1208 2742 \r\nQ 947 2381 947 1747 \r\nz\r\n\" id=\"DejaVuSans-64\" transform=\"scale(0.015625)\"/>\r\n       <path id=\"DejaVuSans-20\" transform=\"scale(0.015625)\"/>\r\n       <path d=\"M 269 3500 \r\nL 844 3500 \r\nL 1563 769 \r\nL 2278 3500 \r\nL 2956 3500 \r\nL 3675 769 \r\nL 4391 3500 \r\nL 4966 3500 \r\nL 4050 0 \r\nL 3372 0 \r\nL 2619 2869 \r\nL 1863 0 \r\nL 1184 0 \r\nL 269 3500 \r\nz\r\n\" id=\"DejaVuSans-77\" transform=\"scale(0.015625)\"/>\r\n       <path d=\"M 1172 4494 \r\nL 1172 3500 \r\nL 2356 3500 \r\nL 2356 3053 \r\nL 1172 3053 \r\nL 1172 1153 \r\nQ 1172 725 1289 603 \r\nQ 1406 481 1766 481 \r\nL 2356 481 \r\nL 2356 0 \r\nL 1766 0 \r\nQ 1100 0 847 248 \r\nQ 594 497 594 1153 \r\nL 594 3053 \r\nL 172 3053 \r\nL 172 3500 \r\nL 594 3500 \r\nL 594 4494 \r\nL 1172 4494 \r\nz\r\n\" id=\"DejaVuSans-74\" transform=\"scale(0.015625)\"/>\r\n      </defs>\r\n      <use xlink:href=\"#DejaVuSans-67\"/>\r\n      <use x=\"63.476562\" xlink:href=\"#DejaVuSans-72\"/>\r\n      <use x=\"104.589844\" xlink:href=\"#DejaVuSans-61\"/>\r\n      <use x=\"165.869141\" xlink:href=\"#DejaVuSans-64\"/>\r\n      <use x=\"229.345703\" xlink:href=\"#DejaVuSans-20\"/>\r\n      <use x=\"261.132812\" xlink:href=\"#DejaVuSans-77\"/>\r\n      <use x=\"333.794922\" xlink:href=\"#DejaVuSans-2e\"/>\r\n      <use x=\"365.582031\" xlink:href=\"#DejaVuSans-73\"/>\r\n      <use x=\"417.681641\" xlink:href=\"#DejaVuSans-2e\"/>\r\n      <use x=\"449.46875\" xlink:href=\"#DejaVuSans-74\"/>\r\n      <use x=\"488.677734\" xlink:href=\"#DejaVuSans-20\"/>\r\n      <use x=\"520.464844\" xlink:href=\"#DejaVuSans-78\"/>\r\n     </g>\r\n    </g>\r\n   </g>\r\n  </g>\r\n </g>\r\n <defs>\r\n  <clipPath id=\"p2daa6fbfe7\">\r\n   <rect height=\"135.9\" width=\"195.3\" x=\"38.482813\" y=\"7.2\"/>\r\n  </clipPath>\r\n </defs>\r\n</svg>\r\n",
      "text/plain": [
       "<Figure size 252x180 with 1 Axes>"
      ]
     },
     "metadata": {
      "needs_background": "light"
     },
     "output_type": "display_data"
    }
   ],
   "source": [
    "import numpy as np\n",
    "from d2l import torch as d2l\n",
    "\n",
    "x = np.linspace(- np.pi,np.pi,100)\n",
    "x = torch.tensor(x, requires_grad=True)\n",
    "y = torch.sin(x)\n",
    "y.sum().backward()\n",
    "\n",
    "d2l.plot(x.detach(),(y.detach(),x.grad),legend = (('sin(x)',\"grad w.s.t x\")))"
   ]
  },
  {
   "cell_type": "markdown",
   "metadata": {},
   "source": [
    "Probability"
   ]
  },
  {
   "cell_type": "code",
   "execution_count": 96,
   "metadata": {},
   "outputs": [],
   "source": [
    "%matplotlib inline\n",
    "import torch\n",
    "from torch.distributions import multinomial\n",
    "from d2l import torch as d2l"
   ]
  },
  {
   "cell_type": "code",
   "execution_count": 103,
   "metadata": {},
   "outputs": [
    {
     "data": {
      "text/plain": [
       "tensor([[0., 0., 0., 1., 0., 0.],\n",
       "        [0., 0., 0., 1., 0., 0.],\n",
       "        [0., 0., 1., 0., 0., 0.],\n",
       "        ...,\n",
       "        [0., 0., 0., 1., 0., 0.],\n",
       "        [0., 1., 0., 0., 0., 0.],\n",
       "        [0., 1., 0., 0., 0., 0.]])"
      ]
     },
     "execution_count": 103,
     "metadata": {},
     "output_type": "execute_result"
    },
    {
     "data": {
      "image/svg+xml": "<?xml version=\"1.0\" encoding=\"utf-8\" standalone=\"no\"?>\r\n<!DOCTYPE svg PUBLIC \"-//W3C//DTD SVG 1.1//EN\"\r\n  \"http://www.w3.org/Graphics/SVG/1.1/DTD/svg11.dtd\">\r\n<svg height=\"289.37625pt\" version=\"1.1\" viewBox=\"0 0 385.78125 289.37625\" width=\"385.78125pt\" xmlns=\"http://www.w3.org/2000/svg\" xmlns:xlink=\"http://www.w3.org/1999/xlink\">\r\n <metadata>\r\n  <rdf:RDF xmlns:cc=\"http://creativecommons.org/ns#\" xmlns:dc=\"http://purl.org/dc/elements/1.1/\" xmlns:rdf=\"http://www.w3.org/1999/02/22-rdf-syntax-ns#\">\r\n   <cc:Work>\r\n    <dc:type rdf:resource=\"http://purl.org/dc/dcmitype/StillImage\"/>\r\n    <dc:date>2022-03-13T22:47:23.885221</dc:date>\r\n    <dc:format>image/svg+xml</dc:format>\r\n    <dc:creator>\r\n     <cc:Agent>\r\n      <dc:title>Matplotlib v3.4.3, https://matplotlib.org/</dc:title>\r\n     </cc:Agent>\r\n    </dc:creator>\r\n   </cc:Work>\r\n  </rdf:RDF>\r\n </metadata>\r\n <defs>\r\n  <style type=\"text/css\">*{stroke-linecap:butt;stroke-linejoin:round;}</style>\r\n </defs>\r\n <g id=\"figure_1\">\r\n  <g id=\"patch_1\">\r\n   <path d=\"M 0 289.37625 \r\nL 385.78125 289.37625 \r\nL 385.78125 0 \r\nL 0 0 \r\nz\r\n\" style=\"fill:none;\"/>\r\n  </g>\r\n  <g id=\"axes_1\">\r\n   <g id=\"patch_2\">\r\n    <path d=\"M 43.78125 251.82 \r\nL 378.58125 251.82 \r\nL 378.58125 7.2 \r\nL 43.78125 7.2 \r\nz\r\n\" style=\"fill:#ffffff;\"/>\r\n   </g>\r\n   <g id=\"matplotlib.axis_1\">\r\n    <g id=\"xtick_1\">\r\n     <g id=\"line2d_1\">\r\n      <defs>\r\n       <path d=\"M 0 0 \r\nL 0 3.5 \r\n\" id=\"m8640575385\" style=\"stroke:#000000;stroke-width:0.8;\"/>\r\n      </defs>\r\n      <g>\r\n       <use style=\"stroke:#000000;stroke-width:0.8;\" x=\"58.999432\" xlink:href=\"#m8640575385\" y=\"251.82\"/>\r\n      </g>\r\n     </g>\r\n     <g id=\"text_1\">\r\n      <!-- 0 -->\r\n      <g transform=\"translate(55.818182 266.418437)scale(0.1 -0.1)\">\r\n       <defs>\r\n        <path d=\"M 2034 4250 \r\nQ 1547 4250 1301 3770 \r\nQ 1056 3291 1056 2328 \r\nQ 1056 1369 1301 889 \r\nQ 1547 409 2034 409 \r\nQ 2525 409 2770 889 \r\nQ 3016 1369 3016 2328 \r\nQ 3016 3291 2770 3770 \r\nQ 2525 4250 2034 4250 \r\nz\r\nM 2034 4750 \r\nQ 2819 4750 3233 4129 \r\nQ 3647 3509 3647 2328 \r\nQ 3647 1150 3233 529 \r\nQ 2819 -91 2034 -91 \r\nQ 1250 -91 836 529 \r\nQ 422 1150 422 2328 \r\nQ 422 3509 836 4129 \r\nQ 1250 4750 2034 4750 \r\nz\r\n\" id=\"DejaVuSans-30\" transform=\"scale(0.015625)\"/>\r\n       </defs>\r\n       <use xlink:href=\"#DejaVuSans-30\"/>\r\n      </g>\r\n     </g>\r\n    </g>\r\n    <g id=\"xtick_2\">\r\n     <g id=\"line2d_2\">\r\n      <g>\r\n       <use style=\"stroke:#000000;stroke-width:0.8;\" x=\"119.994149\" xlink:href=\"#m8640575385\" y=\"251.82\"/>\r\n      </g>\r\n     </g>\r\n     <g id=\"text_2\">\r\n      <!-- 100 -->\r\n      <g transform=\"translate(110.450399 266.418437)scale(0.1 -0.1)\">\r\n       <defs>\r\n        <path d=\"M 794 531 \r\nL 1825 531 \r\nL 1825 4091 \r\nL 703 3866 \r\nL 703 4441 \r\nL 1819 4666 \r\nL 2450 4666 \r\nL 2450 531 \r\nL 3481 531 \r\nL 3481 0 \r\nL 794 0 \r\nL 794 531 \r\nz\r\n\" id=\"DejaVuSans-31\" transform=\"scale(0.015625)\"/>\r\n       </defs>\r\n       <use xlink:href=\"#DejaVuSans-31\"/>\r\n       <use x=\"63.623047\" xlink:href=\"#DejaVuSans-30\"/>\r\n       <use x=\"127.246094\" xlink:href=\"#DejaVuSans-30\"/>\r\n      </g>\r\n     </g>\r\n    </g>\r\n    <g id=\"xtick_3\">\r\n     <g id=\"line2d_3\">\r\n      <g>\r\n       <use style=\"stroke:#000000;stroke-width:0.8;\" x=\"180.988865\" xlink:href=\"#m8640575385\" y=\"251.82\"/>\r\n      </g>\r\n     </g>\r\n     <g id=\"text_3\">\r\n      <!-- 200 -->\r\n      <g transform=\"translate(171.445115 266.418437)scale(0.1 -0.1)\">\r\n       <defs>\r\n        <path d=\"M 1228 531 \r\nL 3431 531 \r\nL 3431 0 \r\nL 469 0 \r\nL 469 531 \r\nQ 828 903 1448 1529 \r\nQ 2069 2156 2228 2338 \r\nQ 2531 2678 2651 2914 \r\nQ 2772 3150 2772 3378 \r\nQ 2772 3750 2511 3984 \r\nQ 2250 4219 1831 4219 \r\nQ 1534 4219 1204 4116 \r\nQ 875 4013 500 3803 \r\nL 500 4441 \r\nQ 881 4594 1212 4672 \r\nQ 1544 4750 1819 4750 \r\nQ 2544 4750 2975 4387 \r\nQ 3406 4025 3406 3419 \r\nQ 3406 3131 3298 2873 \r\nQ 3191 2616 2906 2266 \r\nQ 2828 2175 2409 1742 \r\nQ 1991 1309 1228 531 \r\nz\r\n\" id=\"DejaVuSans-32\" transform=\"scale(0.015625)\"/>\r\n       </defs>\r\n       <use xlink:href=\"#DejaVuSans-32\"/>\r\n       <use x=\"63.623047\" xlink:href=\"#DejaVuSans-30\"/>\r\n       <use x=\"127.246094\" xlink:href=\"#DejaVuSans-30\"/>\r\n      </g>\r\n     </g>\r\n    </g>\r\n    <g id=\"xtick_4\">\r\n     <g id=\"line2d_4\">\r\n      <g>\r\n       <use style=\"stroke:#000000;stroke-width:0.8;\" x=\"241.983582\" xlink:href=\"#m8640575385\" y=\"251.82\"/>\r\n      </g>\r\n     </g>\r\n     <g id=\"text_4\">\r\n      <!-- 300 -->\r\n      <g transform=\"translate(232.439832 266.418437)scale(0.1 -0.1)\">\r\n       <defs>\r\n        <path d=\"M 2597 2516 \r\nQ 3050 2419 3304 2112 \r\nQ 3559 1806 3559 1356 \r\nQ 3559 666 3084 287 \r\nQ 2609 -91 1734 -91 \r\nQ 1441 -91 1130 -33 \r\nQ 819 25 488 141 \r\nL 488 750 \r\nQ 750 597 1062 519 \r\nQ 1375 441 1716 441 \r\nQ 2309 441 2620 675 \r\nQ 2931 909 2931 1356 \r\nQ 2931 1769 2642 2001 \r\nQ 2353 2234 1838 2234 \r\nL 1294 2234 \r\nL 1294 2753 \r\nL 1863 2753 \r\nQ 2328 2753 2575 2939 \r\nQ 2822 3125 2822 3475 \r\nQ 2822 3834 2567 4026 \r\nQ 2313 4219 1838 4219 \r\nQ 1578 4219 1281 4162 \r\nQ 984 4106 628 3988 \r\nL 628 4550 \r\nQ 988 4650 1302 4700 \r\nQ 1616 4750 1894 4750 \r\nQ 2613 4750 3031 4423 \r\nQ 3450 4097 3450 3541 \r\nQ 3450 3153 3228 2886 \r\nQ 3006 2619 2597 2516 \r\nz\r\n\" id=\"DejaVuSans-33\" transform=\"scale(0.015625)\"/>\r\n       </defs>\r\n       <use xlink:href=\"#DejaVuSans-33\"/>\r\n       <use x=\"63.623047\" xlink:href=\"#DejaVuSans-30\"/>\r\n       <use x=\"127.246094\" xlink:href=\"#DejaVuSans-30\"/>\r\n      </g>\r\n     </g>\r\n    </g>\r\n    <g id=\"xtick_5\">\r\n     <g id=\"line2d_5\">\r\n      <g>\r\n       <use style=\"stroke:#000000;stroke-width:0.8;\" x=\"302.978299\" xlink:href=\"#m8640575385\" y=\"251.82\"/>\r\n      </g>\r\n     </g>\r\n     <g id=\"text_5\">\r\n      <!-- 400 -->\r\n      <g transform=\"translate(293.434549 266.418437)scale(0.1 -0.1)\">\r\n       <defs>\r\n        <path d=\"M 2419 4116 \r\nL 825 1625 \r\nL 2419 1625 \r\nL 2419 4116 \r\nz\r\nM 2253 4666 \r\nL 3047 4666 \r\nL 3047 1625 \r\nL 3713 1625 \r\nL 3713 1100 \r\nL 3047 1100 \r\nL 3047 0 \r\nL 2419 0 \r\nL 2419 1100 \r\nL 313 1100 \r\nL 313 1709 \r\nL 2253 4666 \r\nz\r\n\" id=\"DejaVuSans-34\" transform=\"scale(0.015625)\"/>\r\n       </defs>\r\n       <use xlink:href=\"#DejaVuSans-34\"/>\r\n       <use x=\"63.623047\" xlink:href=\"#DejaVuSans-30\"/>\r\n       <use x=\"127.246094\" xlink:href=\"#DejaVuSans-30\"/>\r\n      </g>\r\n     </g>\r\n    </g>\r\n    <g id=\"xtick_6\">\r\n     <g id=\"line2d_6\">\r\n      <g>\r\n       <use style=\"stroke:#000000;stroke-width:0.8;\" x=\"363.973015\" xlink:href=\"#m8640575385\" y=\"251.82\"/>\r\n      </g>\r\n     </g>\r\n     <g id=\"text_6\">\r\n      <!-- 500 -->\r\n      <g transform=\"translate(354.429265 266.418437)scale(0.1 -0.1)\">\r\n       <defs>\r\n        <path d=\"M 691 4666 \r\nL 3169 4666 \r\nL 3169 4134 \r\nL 1269 4134 \r\nL 1269 2991 \r\nQ 1406 3038 1543 3061 \r\nQ 1681 3084 1819 3084 \r\nQ 2600 3084 3056 2656 \r\nQ 3513 2228 3513 1497 \r\nQ 3513 744 3044 326 \r\nQ 2575 -91 1722 -91 \r\nQ 1428 -91 1123 -41 \r\nQ 819 9 494 109 \r\nL 494 744 \r\nQ 775 591 1075 516 \r\nQ 1375 441 1709 441 \r\nQ 2250 441 2565 725 \r\nQ 2881 1009 2881 1497 \r\nQ 2881 1984 2565 2268 \r\nQ 2250 2553 1709 2553 \r\nQ 1456 2553 1204 2497 \r\nQ 953 2441 691 2322 \r\nL 691 4666 \r\nz\r\n\" id=\"DejaVuSans-35\" transform=\"scale(0.015625)\"/>\r\n       </defs>\r\n       <use xlink:href=\"#DejaVuSans-35\"/>\r\n       <use x=\"63.623047\" xlink:href=\"#DejaVuSans-30\"/>\r\n       <use x=\"127.246094\" xlink:href=\"#DejaVuSans-30\"/>\r\n      </g>\r\n     </g>\r\n    </g>\r\n    <g id=\"text_7\">\r\n     <!-- Groups of experiments -->\r\n     <g transform=\"translate(154.035156 280.096562)scale(0.1 -0.1)\">\r\n      <defs>\r\n       <path d=\"M 3809 666 \r\nL 3809 1919 \r\nL 2778 1919 \r\nL 2778 2438 \r\nL 4434 2438 \r\nL 4434 434 \r\nQ 4069 175 3628 42 \r\nQ 3188 -91 2688 -91 \r\nQ 1594 -91 976 548 \r\nQ 359 1188 359 2328 \r\nQ 359 3472 976 4111 \r\nQ 1594 4750 2688 4750 \r\nQ 3144 4750 3555 4637 \r\nQ 3966 4525 4313 4306 \r\nL 4313 3634 \r\nQ 3963 3931 3569 4081 \r\nQ 3175 4231 2741 4231 \r\nQ 1884 4231 1454 3753 \r\nQ 1025 3275 1025 2328 \r\nQ 1025 1384 1454 906 \r\nQ 1884 428 2741 428 \r\nQ 3075 428 3337 486 \r\nQ 3600 544 3809 666 \r\nz\r\n\" id=\"DejaVuSans-47\" transform=\"scale(0.015625)\"/>\r\n       <path d=\"M 2631 2963 \r\nQ 2534 3019 2420 3045 \r\nQ 2306 3072 2169 3072 \r\nQ 1681 3072 1420 2755 \r\nQ 1159 2438 1159 1844 \r\nL 1159 0 \r\nL 581 0 \r\nL 581 3500 \r\nL 1159 3500 \r\nL 1159 2956 \r\nQ 1341 3275 1631 3429 \r\nQ 1922 3584 2338 3584 \r\nQ 2397 3584 2469 3576 \r\nQ 2541 3569 2628 3553 \r\nL 2631 2963 \r\nz\r\n\" id=\"DejaVuSans-72\" transform=\"scale(0.015625)\"/>\r\n       <path d=\"M 1959 3097 \r\nQ 1497 3097 1228 2736 \r\nQ 959 2375 959 1747 \r\nQ 959 1119 1226 758 \r\nQ 1494 397 1959 397 \r\nQ 2419 397 2687 759 \r\nQ 2956 1122 2956 1747 \r\nQ 2956 2369 2687 2733 \r\nQ 2419 3097 1959 3097 \r\nz\r\nM 1959 3584 \r\nQ 2709 3584 3137 3096 \r\nQ 3566 2609 3566 1747 \r\nQ 3566 888 3137 398 \r\nQ 2709 -91 1959 -91 \r\nQ 1206 -91 779 398 \r\nQ 353 888 353 1747 \r\nQ 353 2609 779 3096 \r\nQ 1206 3584 1959 3584 \r\nz\r\n\" id=\"DejaVuSans-6f\" transform=\"scale(0.015625)\"/>\r\n       <path d=\"M 544 1381 \r\nL 544 3500 \r\nL 1119 3500 \r\nL 1119 1403 \r\nQ 1119 906 1312 657 \r\nQ 1506 409 1894 409 \r\nQ 2359 409 2629 706 \r\nQ 2900 1003 2900 1516 \r\nL 2900 3500 \r\nL 3475 3500 \r\nL 3475 0 \r\nL 2900 0 \r\nL 2900 538 \r\nQ 2691 219 2414 64 \r\nQ 2138 -91 1772 -91 \r\nQ 1169 -91 856 284 \r\nQ 544 659 544 1381 \r\nz\r\nM 1991 3584 \r\nL 1991 3584 \r\nz\r\n\" id=\"DejaVuSans-75\" transform=\"scale(0.015625)\"/>\r\n       <path d=\"M 1159 525 \r\nL 1159 -1331 \r\nL 581 -1331 \r\nL 581 3500 \r\nL 1159 3500 \r\nL 1159 2969 \r\nQ 1341 3281 1617 3432 \r\nQ 1894 3584 2278 3584 \r\nQ 2916 3584 3314 3078 \r\nQ 3713 2572 3713 1747 \r\nQ 3713 922 3314 415 \r\nQ 2916 -91 2278 -91 \r\nQ 1894 -91 1617 61 \r\nQ 1341 213 1159 525 \r\nz\r\nM 3116 1747 \r\nQ 3116 2381 2855 2742 \r\nQ 2594 3103 2138 3103 \r\nQ 1681 3103 1420 2742 \r\nQ 1159 2381 1159 1747 \r\nQ 1159 1113 1420 752 \r\nQ 1681 391 2138 391 \r\nQ 2594 391 2855 752 \r\nQ 3116 1113 3116 1747 \r\nz\r\n\" id=\"DejaVuSans-70\" transform=\"scale(0.015625)\"/>\r\n       <path d=\"M 2834 3397 \r\nL 2834 2853 \r\nQ 2591 2978 2328 3040 \r\nQ 2066 3103 1784 3103 \r\nQ 1356 3103 1142 2972 \r\nQ 928 2841 928 2578 \r\nQ 928 2378 1081 2264 \r\nQ 1234 2150 1697 2047 \r\nL 1894 2003 \r\nQ 2506 1872 2764 1633 \r\nQ 3022 1394 3022 966 \r\nQ 3022 478 2636 193 \r\nQ 2250 -91 1575 -91 \r\nQ 1294 -91 989 -36 \r\nQ 684 19 347 128 \r\nL 347 722 \r\nQ 666 556 975 473 \r\nQ 1284 391 1588 391 \r\nQ 1994 391 2212 530 \r\nQ 2431 669 2431 922 \r\nQ 2431 1156 2273 1281 \r\nQ 2116 1406 1581 1522 \r\nL 1381 1569 \r\nQ 847 1681 609 1914 \r\nQ 372 2147 372 2553 \r\nQ 372 3047 722 3315 \r\nQ 1072 3584 1716 3584 \r\nQ 2034 3584 2315 3537 \r\nQ 2597 3491 2834 3397 \r\nz\r\n\" id=\"DejaVuSans-73\" transform=\"scale(0.015625)\"/>\r\n       <path id=\"DejaVuSans-20\" transform=\"scale(0.015625)\"/>\r\n       <path d=\"M 2375 4863 \r\nL 2375 4384 \r\nL 1825 4384 \r\nQ 1516 4384 1395 4259 \r\nQ 1275 4134 1275 3809 \r\nL 1275 3500 \r\nL 2222 3500 \r\nL 2222 3053 \r\nL 1275 3053 \r\nL 1275 0 \r\nL 697 0 \r\nL 697 3053 \r\nL 147 3053 \r\nL 147 3500 \r\nL 697 3500 \r\nL 697 3744 \r\nQ 697 4328 969 4595 \r\nQ 1241 4863 1831 4863 \r\nL 2375 4863 \r\nz\r\n\" id=\"DejaVuSans-66\" transform=\"scale(0.015625)\"/>\r\n       <path d=\"M 3597 1894 \r\nL 3597 1613 \r\nL 953 1613 \r\nQ 991 1019 1311 708 \r\nQ 1631 397 2203 397 \r\nQ 2534 397 2845 478 \r\nQ 3156 559 3463 722 \r\nL 3463 178 \r\nQ 3153 47 2828 -22 \r\nQ 2503 -91 2169 -91 \r\nQ 1331 -91 842 396 \r\nQ 353 884 353 1716 \r\nQ 353 2575 817 3079 \r\nQ 1281 3584 2069 3584 \r\nQ 2775 3584 3186 3129 \r\nQ 3597 2675 3597 1894 \r\nz\r\nM 3022 2063 \r\nQ 3016 2534 2758 2815 \r\nQ 2500 3097 2075 3097 \r\nQ 1594 3097 1305 2825 \r\nQ 1016 2553 972 2059 \r\nL 3022 2063 \r\nz\r\n\" id=\"DejaVuSans-65\" transform=\"scale(0.015625)\"/>\r\n       <path d=\"M 3513 3500 \r\nL 2247 1797 \r\nL 3578 0 \r\nL 2900 0 \r\nL 1881 1375 \r\nL 863 0 \r\nL 184 0 \r\nL 1544 1831 \r\nL 300 3500 \r\nL 978 3500 \r\nL 1906 2253 \r\nL 2834 3500 \r\nL 3513 3500 \r\nz\r\n\" id=\"DejaVuSans-78\" transform=\"scale(0.015625)\"/>\r\n       <path d=\"M 603 3500 \r\nL 1178 3500 \r\nL 1178 0 \r\nL 603 0 \r\nL 603 3500 \r\nz\r\nM 603 4863 \r\nL 1178 4863 \r\nL 1178 4134 \r\nL 603 4134 \r\nL 603 4863 \r\nz\r\n\" id=\"DejaVuSans-69\" transform=\"scale(0.015625)\"/>\r\n       <path d=\"M 3328 2828 \r\nQ 3544 3216 3844 3400 \r\nQ 4144 3584 4550 3584 \r\nQ 5097 3584 5394 3201 \r\nQ 5691 2819 5691 2113 \r\nL 5691 0 \r\nL 5113 0 \r\nL 5113 2094 \r\nQ 5113 2597 4934 2840 \r\nQ 4756 3084 4391 3084 \r\nQ 3944 3084 3684 2787 \r\nQ 3425 2491 3425 1978 \r\nL 3425 0 \r\nL 2847 0 \r\nL 2847 2094 \r\nQ 2847 2600 2669 2842 \r\nQ 2491 3084 2119 3084 \r\nQ 1678 3084 1418 2786 \r\nQ 1159 2488 1159 1978 \r\nL 1159 0 \r\nL 581 0 \r\nL 581 3500 \r\nL 1159 3500 \r\nL 1159 2956 \r\nQ 1356 3278 1631 3431 \r\nQ 1906 3584 2284 3584 \r\nQ 2666 3584 2933 3390 \r\nQ 3200 3197 3328 2828 \r\nz\r\n\" id=\"DejaVuSans-6d\" transform=\"scale(0.015625)\"/>\r\n       <path d=\"M 3513 2113 \r\nL 3513 0 \r\nL 2938 0 \r\nL 2938 2094 \r\nQ 2938 2591 2744 2837 \r\nQ 2550 3084 2163 3084 \r\nQ 1697 3084 1428 2787 \r\nQ 1159 2491 1159 1978 \r\nL 1159 0 \r\nL 581 0 \r\nL 581 3500 \r\nL 1159 3500 \r\nL 1159 2956 \r\nQ 1366 3272 1645 3428 \r\nQ 1925 3584 2291 3584 \r\nQ 2894 3584 3203 3211 \r\nQ 3513 2838 3513 2113 \r\nz\r\n\" id=\"DejaVuSans-6e\" transform=\"scale(0.015625)\"/>\r\n       <path d=\"M 1172 4494 \r\nL 1172 3500 \r\nL 2356 3500 \r\nL 2356 3053 \r\nL 1172 3053 \r\nL 1172 1153 \r\nQ 1172 725 1289 603 \r\nQ 1406 481 1766 481 \r\nL 2356 481 \r\nL 2356 0 \r\nL 1766 0 \r\nQ 1100 0 847 248 \r\nQ 594 497 594 1153 \r\nL 594 3053 \r\nL 172 3053 \r\nL 172 3500 \r\nL 594 3500 \r\nL 594 4494 \r\nL 1172 4494 \r\nz\r\n\" id=\"DejaVuSans-74\" transform=\"scale(0.015625)\"/>\r\n      </defs>\r\n      <use xlink:href=\"#DejaVuSans-47\"/>\r\n      <use x=\"77.490234\" xlink:href=\"#DejaVuSans-72\"/>\r\n      <use x=\"116.353516\" xlink:href=\"#DejaVuSans-6f\"/>\r\n      <use x=\"177.535156\" xlink:href=\"#DejaVuSans-75\"/>\r\n      <use x=\"240.914062\" xlink:href=\"#DejaVuSans-70\"/>\r\n      <use x=\"304.390625\" xlink:href=\"#DejaVuSans-73\"/>\r\n      <use x=\"356.490234\" xlink:href=\"#DejaVuSans-20\"/>\r\n      <use x=\"388.277344\" xlink:href=\"#DejaVuSans-6f\"/>\r\n      <use x=\"449.458984\" xlink:href=\"#DejaVuSans-66\"/>\r\n      <use x=\"484.664062\" xlink:href=\"#DejaVuSans-20\"/>\r\n      <use x=\"516.451172\" xlink:href=\"#DejaVuSans-65\"/>\r\n      <use x=\"576.224609\" xlink:href=\"#DejaVuSans-78\"/>\r\n      <use x=\"635.404297\" xlink:href=\"#DejaVuSans-70\"/>\r\n      <use x=\"698.880859\" xlink:href=\"#DejaVuSans-65\"/>\r\n      <use x=\"760.404297\" xlink:href=\"#DejaVuSans-72\"/>\r\n      <use x=\"801.517578\" xlink:href=\"#DejaVuSans-69\"/>\r\n      <use x=\"829.300781\" xlink:href=\"#DejaVuSans-6d\"/>\r\n      <use x=\"926.712891\" xlink:href=\"#DejaVuSans-65\"/>\r\n      <use x=\"988.236328\" xlink:href=\"#DejaVuSans-6e\"/>\r\n      <use x=\"1051.615234\" xlink:href=\"#DejaVuSans-74\"/>\r\n      <use x=\"1090.824219\" xlink:href=\"#DejaVuSans-73\"/>\r\n     </g>\r\n    </g>\r\n   </g>\r\n   <g id=\"matplotlib.axis_2\">\r\n    <g id=\"ytick_1\">\r\n     <g id=\"line2d_7\">\r\n      <defs>\r\n       <path d=\"M 0 0 \r\nL -3.5 0 \r\n\" id=\"m617710822c\" style=\"stroke:#000000;stroke-width:0.8;\"/>\r\n      </defs>\r\n      <g>\r\n       <use style=\"stroke:#000000;stroke-width:0.8;\" x=\"43.78125\" xlink:href=\"#m617710822c\" y=\"240.700909\"/>\r\n      </g>\r\n     </g>\r\n     <g id=\"text_8\">\r\n      <!-- 0.0 -->\r\n      <g transform=\"translate(20.878125 244.500128)scale(0.1 -0.1)\">\r\n       <defs>\r\n        <path d=\"M 684 794 \r\nL 1344 794 \r\nL 1344 0 \r\nL 684 0 \r\nL 684 794 \r\nz\r\n\" id=\"DejaVuSans-2e\" transform=\"scale(0.015625)\"/>\r\n       </defs>\r\n       <use xlink:href=\"#DejaVuSans-30\"/>\r\n       <use x=\"63.623047\" xlink:href=\"#DejaVuSans-2e\"/>\r\n       <use x=\"95.410156\" xlink:href=\"#DejaVuSans-30\"/>\r\n      </g>\r\n     </g>\r\n    </g>\r\n    <g id=\"ytick_2\">\r\n     <g id=\"line2d_8\">\r\n      <g>\r\n       <use style=\"stroke:#000000;stroke-width:0.8;\" x=\"43.78125\" xlink:href=\"#m617710822c\" y=\"196.224545\"/>\r\n      </g>\r\n     </g>\r\n     <g id=\"text_9\">\r\n      <!-- 0.2 -->\r\n      <g transform=\"translate(20.878125 200.023764)scale(0.1 -0.1)\">\r\n       <use xlink:href=\"#DejaVuSans-30\"/>\r\n       <use x=\"63.623047\" xlink:href=\"#DejaVuSans-2e\"/>\r\n       <use x=\"95.410156\" xlink:href=\"#DejaVuSans-32\"/>\r\n      </g>\r\n     </g>\r\n    </g>\r\n    <g id=\"ytick_3\">\r\n     <g id=\"line2d_9\">\r\n      <g>\r\n       <use style=\"stroke:#000000;stroke-width:0.8;\" x=\"43.78125\" xlink:href=\"#m617710822c\" y=\"151.748182\"/>\r\n      </g>\r\n     </g>\r\n     <g id=\"text_10\">\r\n      <!-- 0.4 -->\r\n      <g transform=\"translate(20.878125 155.547401)scale(0.1 -0.1)\">\r\n       <use xlink:href=\"#DejaVuSans-30\"/>\r\n       <use x=\"63.623047\" xlink:href=\"#DejaVuSans-2e\"/>\r\n       <use x=\"95.410156\" xlink:href=\"#DejaVuSans-34\"/>\r\n      </g>\r\n     </g>\r\n    </g>\r\n    <g id=\"ytick_4\">\r\n     <g id=\"line2d_10\">\r\n      <g>\r\n       <use style=\"stroke:#000000;stroke-width:0.8;\" x=\"43.78125\" xlink:href=\"#m617710822c\" y=\"107.271818\"/>\r\n      </g>\r\n     </g>\r\n     <g id=\"text_11\">\r\n      <!-- 0.6 -->\r\n      <g transform=\"translate(20.878125 111.071037)scale(0.1 -0.1)\">\r\n       <defs>\r\n        <path d=\"M 2113 2584 \r\nQ 1688 2584 1439 2293 \r\nQ 1191 2003 1191 1497 \r\nQ 1191 994 1439 701 \r\nQ 1688 409 2113 409 \r\nQ 2538 409 2786 701 \r\nQ 3034 994 3034 1497 \r\nQ 3034 2003 2786 2293 \r\nQ 2538 2584 2113 2584 \r\nz\r\nM 3366 4563 \r\nL 3366 3988 \r\nQ 3128 4100 2886 4159 \r\nQ 2644 4219 2406 4219 \r\nQ 1781 4219 1451 3797 \r\nQ 1122 3375 1075 2522 \r\nQ 1259 2794 1537 2939 \r\nQ 1816 3084 2150 3084 \r\nQ 2853 3084 3261 2657 \r\nQ 3669 2231 3669 1497 \r\nQ 3669 778 3244 343 \r\nQ 2819 -91 2113 -91 \r\nQ 1303 -91 875 529 \r\nQ 447 1150 447 2328 \r\nQ 447 3434 972 4092 \r\nQ 1497 4750 2381 4750 \r\nQ 2619 4750 2861 4703 \r\nQ 3103 4656 3366 4563 \r\nz\r\n\" id=\"DejaVuSans-36\" transform=\"scale(0.015625)\"/>\r\n       </defs>\r\n       <use xlink:href=\"#DejaVuSans-30\"/>\r\n       <use x=\"63.623047\" xlink:href=\"#DejaVuSans-2e\"/>\r\n       <use x=\"95.410156\" xlink:href=\"#DejaVuSans-36\"/>\r\n      </g>\r\n     </g>\r\n    </g>\r\n    <g id=\"ytick_5\">\r\n     <g id=\"line2d_11\">\r\n      <g>\r\n       <use style=\"stroke:#000000;stroke-width:0.8;\" x=\"43.78125\" xlink:href=\"#m617710822c\" y=\"62.795455\"/>\r\n      </g>\r\n     </g>\r\n     <g id=\"text_12\">\r\n      <!-- 0.8 -->\r\n      <g transform=\"translate(20.878125 66.594673)scale(0.1 -0.1)\">\r\n       <defs>\r\n        <path d=\"M 2034 2216 \r\nQ 1584 2216 1326 1975 \r\nQ 1069 1734 1069 1313 \r\nQ 1069 891 1326 650 \r\nQ 1584 409 2034 409 \r\nQ 2484 409 2743 651 \r\nQ 3003 894 3003 1313 \r\nQ 3003 1734 2745 1975 \r\nQ 2488 2216 2034 2216 \r\nz\r\nM 1403 2484 \r\nQ 997 2584 770 2862 \r\nQ 544 3141 544 3541 \r\nQ 544 4100 942 4425 \r\nQ 1341 4750 2034 4750 \r\nQ 2731 4750 3128 4425 \r\nQ 3525 4100 3525 3541 \r\nQ 3525 3141 3298 2862 \r\nQ 3072 2584 2669 2484 \r\nQ 3125 2378 3379 2068 \r\nQ 3634 1759 3634 1313 \r\nQ 3634 634 3220 271 \r\nQ 2806 -91 2034 -91 \r\nQ 1263 -91 848 271 \r\nQ 434 634 434 1313 \r\nQ 434 1759 690 2068 \r\nQ 947 2378 1403 2484 \r\nz\r\nM 1172 3481 \r\nQ 1172 3119 1398 2916 \r\nQ 1625 2713 2034 2713 \r\nQ 2441 2713 2670 2916 \r\nQ 2900 3119 2900 3481 \r\nQ 2900 3844 2670 4047 \r\nQ 2441 4250 2034 4250 \r\nQ 1625 4250 1398 4047 \r\nQ 1172 3844 1172 3481 \r\nz\r\n\" id=\"DejaVuSans-38\" transform=\"scale(0.015625)\"/>\r\n       </defs>\r\n       <use xlink:href=\"#DejaVuSans-30\"/>\r\n       <use x=\"63.623047\" xlink:href=\"#DejaVuSans-2e\"/>\r\n       <use x=\"95.410156\" xlink:href=\"#DejaVuSans-38\"/>\r\n      </g>\r\n     </g>\r\n    </g>\r\n    <g id=\"ytick_6\">\r\n     <g id=\"line2d_12\">\r\n      <g>\r\n       <use style=\"stroke:#000000;stroke-width:0.8;\" x=\"43.78125\" xlink:href=\"#m617710822c\" y=\"18.319091\"/>\r\n      </g>\r\n     </g>\r\n     <g id=\"text_13\">\r\n      <!-- 1.0 -->\r\n      <g transform=\"translate(20.878125 22.11831)scale(0.1 -0.1)\">\r\n       <use xlink:href=\"#DejaVuSans-31\"/>\r\n       <use x=\"63.623047\" xlink:href=\"#DejaVuSans-2e\"/>\r\n       <use x=\"95.410156\" xlink:href=\"#DejaVuSans-30\"/>\r\n      </g>\r\n     </g>\r\n    </g>\r\n    <g id=\"text_14\">\r\n     <!-- Estimated probability -->\r\n     <g transform=\"translate(14.798438 183.033437)rotate(-90)scale(0.1 -0.1)\">\r\n      <defs>\r\n       <path d=\"M 628 4666 \r\nL 3578 4666 \r\nL 3578 4134 \r\nL 1259 4134 \r\nL 1259 2753 \r\nL 3481 2753 \r\nL 3481 2222 \r\nL 1259 2222 \r\nL 1259 531 \r\nL 3634 531 \r\nL 3634 0 \r\nL 628 0 \r\nL 628 4666 \r\nz\r\n\" id=\"DejaVuSans-45\" transform=\"scale(0.015625)\"/>\r\n       <path d=\"M 2194 1759 \r\nQ 1497 1759 1228 1600 \r\nQ 959 1441 959 1056 \r\nQ 959 750 1161 570 \r\nQ 1363 391 1709 391 \r\nQ 2188 391 2477 730 \r\nQ 2766 1069 2766 1631 \r\nL 2766 1759 \r\nL 2194 1759 \r\nz\r\nM 3341 1997 \r\nL 3341 0 \r\nL 2766 0 \r\nL 2766 531 \r\nQ 2569 213 2275 61 \r\nQ 1981 -91 1556 -91 \r\nQ 1019 -91 701 211 \r\nQ 384 513 384 1019 \r\nQ 384 1609 779 1909 \r\nQ 1175 2209 1959 2209 \r\nL 2766 2209 \r\nL 2766 2266 \r\nQ 2766 2663 2505 2880 \r\nQ 2244 3097 1772 3097 \r\nQ 1472 3097 1187 3025 \r\nQ 903 2953 641 2809 \r\nL 641 3341 \r\nQ 956 3463 1253 3523 \r\nQ 1550 3584 1831 3584 \r\nQ 2591 3584 2966 3190 \r\nQ 3341 2797 3341 1997 \r\nz\r\n\" id=\"DejaVuSans-61\" transform=\"scale(0.015625)\"/>\r\n       <path d=\"M 2906 2969 \r\nL 2906 4863 \r\nL 3481 4863 \r\nL 3481 0 \r\nL 2906 0 \r\nL 2906 525 \r\nQ 2725 213 2448 61 \r\nQ 2172 -91 1784 -91 \r\nQ 1150 -91 751 415 \r\nQ 353 922 353 1747 \r\nQ 353 2572 751 3078 \r\nQ 1150 3584 1784 3584 \r\nQ 2172 3584 2448 3432 \r\nQ 2725 3281 2906 2969 \r\nz\r\nM 947 1747 \r\nQ 947 1113 1208 752 \r\nQ 1469 391 1925 391 \r\nQ 2381 391 2643 752 \r\nQ 2906 1113 2906 1747 \r\nQ 2906 2381 2643 2742 \r\nQ 2381 3103 1925 3103 \r\nQ 1469 3103 1208 2742 \r\nQ 947 2381 947 1747 \r\nz\r\n\" id=\"DejaVuSans-64\" transform=\"scale(0.015625)\"/>\r\n       <path d=\"M 3116 1747 \r\nQ 3116 2381 2855 2742 \r\nQ 2594 3103 2138 3103 \r\nQ 1681 3103 1420 2742 \r\nQ 1159 2381 1159 1747 \r\nQ 1159 1113 1420 752 \r\nQ 1681 391 2138 391 \r\nQ 2594 391 2855 752 \r\nQ 3116 1113 3116 1747 \r\nz\r\nM 1159 2969 \r\nQ 1341 3281 1617 3432 \r\nQ 1894 3584 2278 3584 \r\nQ 2916 3584 3314 3078 \r\nQ 3713 2572 3713 1747 \r\nQ 3713 922 3314 415 \r\nQ 2916 -91 2278 -91 \r\nQ 1894 -91 1617 61 \r\nQ 1341 213 1159 525 \r\nL 1159 0 \r\nL 581 0 \r\nL 581 4863 \r\nL 1159 4863 \r\nL 1159 2969 \r\nz\r\n\" id=\"DejaVuSans-62\" transform=\"scale(0.015625)\"/>\r\n       <path d=\"M 603 4863 \r\nL 1178 4863 \r\nL 1178 0 \r\nL 603 0 \r\nL 603 4863 \r\nz\r\n\" id=\"DejaVuSans-6c\" transform=\"scale(0.015625)\"/>\r\n       <path d=\"M 2059 -325 \r\nQ 1816 -950 1584 -1140 \r\nQ 1353 -1331 966 -1331 \r\nL 506 -1331 \r\nL 506 -850 \r\nL 844 -850 \r\nQ 1081 -850 1212 -737 \r\nQ 1344 -625 1503 -206 \r\nL 1606 56 \r\nL 191 3500 \r\nL 800 3500 \r\nL 1894 763 \r\nL 2988 3500 \r\nL 3597 3500 \r\nL 2059 -325 \r\nz\r\n\" id=\"DejaVuSans-79\" transform=\"scale(0.015625)\"/>\r\n      </defs>\r\n      <use xlink:href=\"#DejaVuSans-45\"/>\r\n      <use x=\"63.183594\" xlink:href=\"#DejaVuSans-73\"/>\r\n      <use x=\"115.283203\" xlink:href=\"#DejaVuSans-74\"/>\r\n      <use x=\"154.492188\" xlink:href=\"#DejaVuSans-69\"/>\r\n      <use x=\"182.275391\" xlink:href=\"#DejaVuSans-6d\"/>\r\n      <use x=\"279.6875\" xlink:href=\"#DejaVuSans-61\"/>\r\n      <use x=\"340.966797\" xlink:href=\"#DejaVuSans-74\"/>\r\n      <use x=\"380.175781\" xlink:href=\"#DejaVuSans-65\"/>\r\n      <use x=\"441.699219\" xlink:href=\"#DejaVuSans-64\"/>\r\n      <use x=\"505.175781\" xlink:href=\"#DejaVuSans-20\"/>\r\n      <use x=\"536.962891\" xlink:href=\"#DejaVuSans-70\"/>\r\n      <use x=\"600.439453\" xlink:href=\"#DejaVuSans-72\"/>\r\n      <use x=\"639.302734\" xlink:href=\"#DejaVuSans-6f\"/>\r\n      <use x=\"700.484375\" xlink:href=\"#DejaVuSans-62\"/>\r\n      <use x=\"763.960938\" xlink:href=\"#DejaVuSans-61\"/>\r\n      <use x=\"825.240234\" xlink:href=\"#DejaVuSans-62\"/>\r\n      <use x=\"888.716797\" xlink:href=\"#DejaVuSans-69\"/>\r\n      <use x=\"916.5\" xlink:href=\"#DejaVuSans-6c\"/>\r\n      <use x=\"944.283203\" xlink:href=\"#DejaVuSans-69\"/>\r\n      <use x=\"972.066406\" xlink:href=\"#DejaVuSans-74\"/>\r\n      <use x=\"1011.275391\" xlink:href=\"#DejaVuSans-79\"/>\r\n     </g>\r\n    </g>\r\n   </g>\r\n   <g id=\"line2d_13\">\r\n    <path clip-path=\"url(#p260fc92e6e)\" d=\"M 58.999432 240.700909 \r\nL 69.978481 240.700909 \r\nL 70.588428 229.581818 \r\nL 72.418269 231.032134 \r\nL 73.028217 222.16909 \r\nL 74.858058 224.228182 \r\nL 76.6879 225.875454 \r\nL 78.517741 227.223223 \r\nL 80.95753 228.68027 \r\nL 83.397319 229.853016 \r\nL 84.007266 224.816493 \r\nL 86.447054 226.197747 \r\nL 87.057002 226.506325 \r\nL 87.666949 222.16909 \r\nL 90.106737 223.594615 \r\nL 90.716685 219.721492 \r\nL 93.156473 221.193732 \r\nL 93.76642 217.695893 \r\nL 95.596262 218.827287 \r\nL 96.816156 212.461946 \r\nL 98.036051 213.330839 \r\nL 98.645998 210.376115 \r\nL 101.695734 212.511666 \r\nL 102.305681 212.903182 \r\nL 102.915628 210.237647 \r\nL 105.965364 212.190418 \r\nL 109.625047 214.226883 \r\nL 112.674783 215.714187 \r\nL 113.28473 213.520909 \r\nL 113.894677 213.81959 \r\nL 114.504624 211.694585 \r\nL 118.164307 213.470482 \r\nL 122.433937 215.285844 \r\nL 123.043884 213.427667 \r\nL 126.703567 214.888734 \r\nL 127.313515 213.14918 \r\nL 127.923462 213.390861 \r\nL 128.533409 211.694585 \r\nL 132.803039 213.358882 \r\nL 133.412986 211.773194 \r\nL 134.632881 212.236035 \r\nL 135.242828 210.697011 \r\nL 137.682616 211.620208 \r\nL 138.292564 210.14463 \r\nL 139.512458 210.60412 \r\nL 140.122405 209.169159 \r\nL 141.342299 209.632861 \r\nL 141.952247 208.236412 \r\nL 143.172141 208.703524 \r\nL 143.782088 207.343635 \r\nL 146.831824 208.493886 \r\nL 147.441771 207.191319 \r\nL 148.051718 207.419278 \r\nL 148.661665 206.141573 \r\nL 152.321348 207.488042 \r\nL 152.931296 206.267595 \r\nL 153.541243 206.48832 \r\nL 154.15119 205.289791 \r\nL 157.810873 206.593267 \r\nL 159.030767 204.311159 \r\nL 165.130239 206.390571 \r\nL 170.009816 207.890476 \r\nL 170.619763 206.860199 \r\nL 171.229711 207.043121 \r\nL 171.839658 206.028475 \r\nL 177.329182 207.62874 \r\nL 177.939129 206.662875 \r\nL 183.428654 208.15723 \r\nL 184.038601 207.235683 \r\nL 185.868443 207.716047 \r\nL 186.47839 206.814155 \r\nL 189.528126 207.60222 \r\nL 190.138073 206.725909 \r\nL 198.067386 208.65462 \r\nL 206.606646 210.500911 \r\nL 207.216593 209.713279 \r\nL 210.876276 210.45698 \r\nL 211.486224 209.691491 \r\nL 216.975748 210.764894 \r\nL 217.585695 210.027555 \r\nL 218.195642 210.14463 \r\nL 218.80559 209.415254 \r\nL 224.295114 210.450442 \r\nL 224.905061 209.746662 \r\nL 229.174691 210.520518 \r\nL 229.784639 209.836527 \r\nL 231.004533 210.054651 \r\nL 231.61448 209.379525 \r\nL 233.444322 209.706927 \r\nL 234.054269 209.042388 \r\nL 235.88411 209.368762 \r\nL 237.104005 208.06467 \r\nL 238.933846 208.395442 \r\nL 239.543793 207.755454 \r\nL 240.15374 207.866011 \r\nL 240.763688 207.232074 \r\nL 241.983582 207.454457 \r\nL 242.593529 206.828182 \r\nL 249.302948 208.018596 \r\nL 249.912895 207.41446 \r\nL 255.40242 208.341944 \r\nL 256.012367 207.755454 \r\nL 256.622314 207.856825 \r\nL 257.232261 207.275422 \r\nL 262.721786 208.173421 \r\nL 263.331733 207.608377 \r\nL 263.94168 207.706573 \r\nL 264.551627 207.146255 \r\nL 267.601363 207.635391 \r\nL 269.431204 205.993919 \r\nL 279.800306 207.619316 \r\nL 280.410253 207.099259 \r\nL 282.240095 207.373933 \r\nL 282.850042 206.860199 \r\nL 285.289831 207.224075 \r\nL 286.509725 206.213889 \r\nL 288.949514 206.578832 \r\nL 290.169408 205.587992 \r\nL 296.26888 206.48832 \r\nL 296.878827 206.007072 \r\nL 305.418087 207.206363 \r\nL 306.028034 206.741123 \r\nL 307.247929 206.907592 \r\nL 308.467823 205.98765 \r\nL 310.907612 206.323044 \r\nL 311.517559 205.870022 \r\nL 312.127506 205.95375 \r\nL 312.737453 205.503786 \r\nL 314.567295 205.755194 \r\nL 315.177242 205.309978 \r\nL 318.226978 205.725367 \r\nL 318.836925 205.286474 \r\nL 326.156291 206.254522 \r\nL 326.766238 205.827397 \r\nL 328.59608 206.063561 \r\nL 329.206027 205.640714 \r\nL 331.645815 205.95375 \r\nL 332.255763 205.535857 \r\nL 339.575129 206.451216 \r\nL 340.185076 206.044003 \r\nL 341.40497 206.193387 \r\nL 342.014917 205.789355 \r\nL 349.944231 206.738833 \r\nL 351.164125 205.95375 \r\nL 351.774072 206.02599 \r\nL 352.384019 205.636555 \r\nL 359.703385 206.48832 \r\nL 360.313332 206.108181 \r\nL 363.363068 206.454109 \r\nL 363.363068 206.454109 \r\n\" style=\"fill:none;stroke:#1f77b4;stroke-linecap:square;stroke-width:1.5;\"/>\r\n   </g>\r\n   <g id=\"line2d_14\">\r\n    <path clip-path=\"url(#p260fc92e6e)\" d=\"M 58.999432 240.700909 \r\nL 60.219326 240.700909 \r\nL 60.829273 185.105455 \r\nL 61.43922 196.224545 \r\nL 62.049168 203.637272 \r\nL 62.659115 208.932077 \r\nL 63.269062 212.903182 \r\nL 63.879009 191.282727 \r\nL 65.098903 200.26785 \r\nL 66.318798 206.48832 \r\nL 67.538692 211.049998 \r\nL 68.758586 214.538342 \r\nL 69.978481 217.292296 \r\nL 71.198375 219.521688 \r\nL 71.808322 220.48438 \r\nL 72.418269 211.694585 \r\nL 73.638164 214.015092 \r\nL 74.858058 215.991818 \r\nL 76.6879 218.462727 \r\nL 78.517741 220.48438 \r\nL 79.737635 221.63961 \r\nL 81.567477 205.587992 \r\nL 83.397319 208.15723 \r\nL 85.22716 210.376115 \r\nL 87.057002 212.311741 \r\nL 89.49679 214.538342 \r\nL 90.716685 215.525609 \r\nL 91.326632 211.873637 \r\nL 93.76642 213.861725 \r\nL 94.376368 210.547442 \r\nL 96.816156 212.461946 \r\nL 99.255945 214.147857 \r\nL 100.475839 208.471661 \r\nL 102.915628 210.237647 \r\nL 103.525575 207.644152 \r\nL 105.965364 209.339369 \r\nL 106.575311 206.921394 \r\nL 107.185258 207.343635 \r\nL 107.795205 205.010001 \r\nL 109.0151 205.870022 \r\nL 109.625047 203.637272 \r\nL 111.454888 204.915328 \r\nL 112.064835 202.794917 \r\nL 114.504624 204.443003 \r\nL 115.114571 202.441672 \r\nL 116.944413 203.637272 \r\nL 118.164307 199.855269 \r\nL 118.774254 200.26785 \r\nL 119.384201 198.448364 \r\nL 121.214043 199.67902 \r\nL 121.82399 197.935174 \r\nL 125.483673 200.26785 \r\nL 129.143356 202.359216 \r\nL 130.36325 203.009075 \r\nL 130.973198 201.457058 \r\nL 135.242828 203.637272 \r\nL 135.852775 203.929113 \r\nL 137.072669 201.051439 \r\nL 138.292564 201.656774 \r\nL 138.902511 200.26785 \r\nL 140.732352 201.166363 \r\nL 141.342299 199.821899 \r\nL 146.221877 202.092956 \r\nL 151.101454 204.124953 \r\nL 151.711401 202.910534 \r\nL 157.200926 205.010001 \r\nL 159.640714 205.870022 \r\nL 160.250662 204.746963 \r\nL 165.130239 206.390571 \r\nL 165.740186 205.321984 \r\nL 169.399869 206.48832 \r\nL 170.009816 205.460075 \r\nL 173.669499 206.578832 \r\nL 174.279446 205.587992 \r\nL 175.499341 205.95375 \r\nL 176.109288 204.98155 \r\nL 176.719235 205.165671 \r\nL 177.329182 204.207481 \r\nL 177.939129 204.393674 \r\nL 178.549077 203.449134 \r\nL 182.818707 204.727379 \r\nL 183.428654 203.81807 \r\nL 190.74802 205.857675 \r\nL 191.357967 206.017506 \r\nL 192.577861 204.311159 \r\nL 193.187809 204.475815 \r\nL 193.797756 203.637272 \r\nL 195.01765 203.968199 \r\nL 195.627597 203.143092 \r\nL 197.457439 203.637272 \r\nL 198.067386 202.828021 \r\nL 201.727069 203.794989 \r\nL 202.337016 203.009075 \r\nL 204.166858 203.482195 \r\nL 204.776805 202.710682 \r\nL 205.386752 202.868317 \r\nL 205.996699 202.105717 \r\nL 207.216593 202.422071 \r\nL 207.826541 201.670632 \r\nL 210.266329 202.297623 \r\nL 210.876276 201.561709 \r\nL 219.415537 203.637272 \r\nL 223.07522 204.46091 \r\nL 223.685167 203.77404 \r\nL 227.954797 204.703851 \r\nL 228.564744 204.035806 \r\nL 234.664216 205.304494 \r\nL 235.88411 204.019373 \r\nL 238.323899 204.51675 \r\nL 238.933846 203.887701 \r\nL 242.593529 204.619092 \r\nL 243.203476 204.004239 \r\nL 245.033318 204.36401 \r\nL 245.643265 203.758001 \r\nL 246.863159 203.997115 \r\nL 247.473106 203.398152 \r\nL 249.912895 203.873346 \r\nL 250.522842 203.284285 \r\nL 252.352684 203.637272 \r\nL 252.962631 203.056339 \r\nL 260.281997 204.421095 \r\nL 260.891944 203.860549 \r\nL 263.331733 204.299123 \r\nL 263.94168 203.747255 \r\nL 264.551627 203.856585 \r\nL 265.161574 203.309277 \r\nL 271.261046 204.380671 \r\nL 272.48094 203.320491 \r\nL 274.920729 203.741678 \r\nL 276.140623 202.702894 \r\nL 282.850042 203.838704 \r\nL 283.459989 203.335943 \r\nL 284.679884 203.537372 \r\nL 285.289831 203.039472 \r\nL 291.389302 204.025374 \r\nL 291.99925 203.5405 \r\nL 293.829091 203.829313 \r\nL 294.439038 203.349956 \r\nL 298.098721 203.920203 \r\nL 298.708668 203.449134 \r\nL 301.148457 203.823521 \r\nL 302.978299 202.435707 \r\nL 304.80814 202.719857 \r\nL 305.418087 202.264545 \r\nL 308.467823 202.733281 \r\nL 309.07777 202.284587 \r\nL 311.517559 202.654862 \r\nL 312.127506 202.211747 \r\nL 312.737453 202.304048 \r\nL 313.3474 201.863893 \r\nL 322.496608 203.209285 \r\nL 323.106555 202.783273 \r\nL 325.546344 203.129553 \r\nL 326.156291 202.708571 \r\nL 326.766238 202.794917 \r\nL 327.986132 201.960184 \r\nL 331.035868 202.393526 \r\nL 331.645815 201.982645 \r\nL 343.844759 203.637272 \r\nL 345.064653 202.848686 \r\nL 347.504442 203.168111 \r\nL 348.724336 202.391435 \r\nL 360.313332 203.861901 \r\nL 360.92328 203.487822 \r\nL 362.143174 203.637272 \r\nL 363.363068 202.896 \r\nL 363.363068 202.896 \r\n\" style=\"fill:none;stroke:#ff7f0e;stroke-linecap:square;stroke-width:1.5;\"/>\r\n   </g>\r\n   <g id=\"line2d_15\">\r\n    <path clip-path=\"url(#p260fc92e6e)\" d=\"M 58.999432 240.700909 \r\nL 59.609379 240.700909 \r\nL 60.219326 166.573634 \r\nL 60.829273 185.105455 \r\nL 61.43922 196.224545 \r\nL 62.049168 203.637272 \r\nL 62.659115 208.932077 \r\nL 63.269062 212.903182 \r\nL 63.879009 215.991818 \r\nL 64.488956 218.462727 \r\nL 65.098903 200.26785 \r\nL 65.708851 203.637272 \r\nL 66.928745 177.163244 \r\nL 68.148639 185.105455 \r\nL 68.758586 175.294489 \r\nL 69.978481 182.179376 \r\nL 71.198375 187.752857 \r\nL 72.418269 192.357037 \r\nL 73.638164 196.224545 \r\nL 74.858058 199.519092 \r\nL 75.468005 193.047662 \r\nL 77.297847 197.659268 \r\nL 77.907794 199.004318 \r\nL 78.517741 193.529007 \r\nL 79.127688 194.916417 \r\nL 79.737635 189.870779 \r\nL 81.567477 193.883684 \r\nL 83.397319 197.309336 \r\nL 84.617213 199.327548 \r\nL 85.22716 195.213719 \r\nL 86.447054 197.191423 \r\nL 87.057002 193.385628 \r\nL 88.886843 196.224545 \r\nL 89.49679 192.736203 \r\nL 91.326632 195.40091 \r\nL 91.936579 192.18124 \r\nL 94.376368 195.47071 \r\nL 94.986315 192.518181 \r\nL 96.816156 194.812597 \r\nL 97.426103 192.054886 \r\nL 99.865892 194.916417 \r\nL 102.305681 197.459999 \r\nL 104.135522 199.189636 \r\nL 104.745469 196.809759 \r\nL 106.575311 198.476514 \r\nL 107.185258 196.224545 \r\nL 110.234994 198.840801 \r\nL 110.844941 196.741711 \r\nL 112.064835 197.740786 \r\nL 112.674783 195.724812 \r\nL 115.724518 198.117155 \r\nL 118.164307 199.855269 \r\nL 118.774254 198.02157 \r\nL 121.82399 200.073462 \r\nL 122.433937 198.342467 \r\nL 123.043884 198.742075 \r\nL 124.263779 195.40091 \r\nL 125.483673 196.224545 \r\nL 126.09362 194.621795 \r\nL 129.753303 196.984824 \r\nL 134.022933 199.452668 \r\nL 138.292564 201.656774 \r\nL 143.172141 203.903919 \r\nL 143.782088 204.166752 \r\nL 145.001982 201.54918 \r\nL 149.88156 203.637272 \r\nL 154.761137 205.513913 \r\nL 155.371084 204.336585 \r\nL 155.981031 204.563865 \r\nL 157.200926 202.264545 \r\nL 160.860609 203.637272 \r\nL 161.470556 202.540716 \r\nL 162.080503 202.765186 \r\nL 162.69045 201.686555 \r\nL 166.96008 203.220826 \r\nL 167.570028 202.187858 \r\nL 173.059552 204.031568 \r\nL 173.669499 203.048962 \r\nL 174.279446 203.247128 \r\nL 175.499341 201.320797 \r\nL 182.20876 203.454694 \r\nL 186.47839 204.696233 \r\nL 187.698284 202.937958 \r\nL 195.01765 204.960974 \r\nL 198.067386 205.741322 \r\nL 198.677333 204.926442 \r\nL 199.897227 205.234842 \r\nL 200.507175 204.432631 \r\nL 203.55691 205.194567 \r\nL 204.166858 204.412662 \r\nL 204.776805 204.563865 \r\nL 205.386752 203.791063 \r\nL 207.826541 204.393674 \r\nL 209.046435 202.886996 \r\nL 212.096171 203.637272 \r\nL 212.706118 202.904791 \r\nL 218.80559 204.341904 \r\nL 219.415537 203.637272 \r\nL 221.245378 204.053717 \r\nL 221.855325 203.36068 \r\nL 227.34485 204.573899 \r\nL 227.954797 203.903919 \r\nL 231.61448 204.681317 \r\nL 232.224427 204.027416 \r\nL 239.543793 205.509174 \r\nL 240.15374 204.88102 \r\nL 250.522842 206.814155 \r\nL 252.962631 207.23907 \r\nL 253.572578 206.648693 \r\nL 256.012367 207.069091 \r\nL 256.622314 206.48832 \r\nL 258.452155 206.801241 \r\nL 259.062103 206.228347 \r\nL 261.501891 206.642433 \r\nL 262.111838 206.078589 \r\nL 266.381469 206.789311 \r\nL 266.991416 206.238229 \r\nL 272.48094 207.121889 \r\nL 273.090887 206.585516 \r\nL 277.360518 207.250718 \r\nL 277.970465 206.725909 \r\nL 283.459989 207.554568 \r\nL 284.069936 207.043121 \r\nL 293.219144 208.354464 \r\nL 293.829091 207.862144 \r\nL 295.048985 208.031417 \r\nL 295.658933 207.543722 \r\nL 298.708668 207.964499 \r\nL 300.53851 206.531409 \r\nL 306.028034 207.288862 \r\nL 307.247929 206.36254 \r\nL 309.07777 206.613186 \r\nL 310.297665 205.701348 \r\nL 317.617031 206.689571 \r\nL 318.226978 206.247388 \r\nL 323.106555 206.882477 \r\nL 324.326449 206.017506 \r\nL 332.86571 207.096545 \r\nL 333.475657 206.677969 \r\nL 336.525393 207.051028 \r\nL 337.13534 206.638049 \r\nL 338.355234 206.786472 \r\nL 338.965181 206.37676 \r\nL 353.603914 208.078783 \r\nL 354.213861 207.687526 \r\nL 354.823808 207.755454 \r\nL 355.433755 207.366467 \r\nL 356.653649 207.502804 \r\nL 357.873544 206.732199 \r\nL 363.363068 207.343635 \r\nL 363.363068 207.343635 \r\n\" style=\"fill:none;stroke:#2ca02c;stroke-linecap:square;stroke-width:1.5;\"/>\r\n   </g>\r\n   <g id=\"line2d_16\">\r\n    <path clip-path=\"url(#p260fc92e6e)\" d=\"M 58.999432 18.319091 \r\nL 59.609379 18.319091 \r\nL 60.219326 92.446359 \r\nL 60.829273 129.51 \r\nL 61.43922 151.74818 \r\nL 62.049168 166.573634 \r\nL 62.659115 177.163244 \r\nL 63.269062 185.105455 \r\nL 63.879009 191.282727 \r\nL 65.098903 200.26785 \r\nL 66.318798 206.48832 \r\nL 67.538692 211.049998 \r\nL 68.148639 199.004318 \r\nL 68.758586 201.457058 \r\nL 69.978481 182.179376 \r\nL 70.588428 185.105455 \r\nL 71.808322 169.943059 \r\nL 73.028217 175.839548 \r\nL 73.638164 178.434 \r\nL 74.248111 172.275732 \r\nL 75.468005 177.163244 \r\nL 76.6879 181.399088 \r\nL 78.517741 186.790164 \r\nL 80.347583 191.282727 \r\nL 82.177424 195.084125 \r\nL 82.787371 196.224545 \r\nL 83.397319 191.885388 \r\nL 84.007266 193.047662 \r\nL 84.617213 188.984206 \r\nL 85.837107 191.282727 \r\nL 86.447054 187.522648 \r\nL 88.276896 190.778461 \r\nL 88.886843 187.329274 \r\nL 90.716685 190.350308 \r\nL 92.546526 193.047662 \r\nL 93.156473 189.98225 \r\nL 95.596262 193.308063 \r\nL 98.036051 196.224545 \r\nL 100.475839 198.802885 \r\nL 101.085786 196.224545 \r\nL 101.695734 196.850972 \r\nL 102.305681 194.371365 \r\nL 104.745469 196.809759 \r\nL 107.795205 199.519092 \r\nL 109.625047 200.989869 \r\nL 110.234994 198.840801 \r\nL 113.28473 201.166363 \r\nL 116.944413 203.637272 \r\nL 119.994149 205.472107 \r\nL 120.604096 203.637272 \r\nL 124.263779 205.696365 \r\nL 124.873726 206.017506 \r\nL 125.483673 204.311159 \r\nL 128.533409 205.893321 \r\nL 129.143356 204.276301 \r\nL 129.753303 204.587621 \r\nL 130.36325 203.009075 \r\nL 130.973198 203.325813 \r\nL 132.193092 200.26785 \r\nL 133.412986 200.925301 \r\nL 134.022933 199.452668 \r\nL 138.292564 201.656774 \r\nL 138.902511 201.952562 \r\nL 139.512458 200.57186 \r\nL 141.952247 201.743511 \r\nL 143.172141 199.104311 \r\nL 145.61193 200.26785 \r\nL 146.221877 199.004318 \r\nL 147.441771 199.575505 \r\nL 148.051718 198.342467 \r\nL 152.931296 200.528708 \r\nL 158.42082 202.733281 \r\nL 160.250662 203.415333 \r\nL 160.860609 202.313572 \r\nL 162.69045 202.987035 \r\nL 163.300397 201.913384 \r\nL 164.520292 202.359216 \r\nL 165.130239 201.307558 \r\nL 170.619763 203.234406 \r\nL 171.229711 202.234864 \r\nL 172.449605 202.646266 \r\nL 173.059552 201.665804 \r\nL 176.109288 202.677074 \r\nL 176.719235 201.726777 \r\nL 179.768971 202.706026 \r\nL 180.378918 201.784092 \r\nL 182.20876 202.359216 \r\nL 182.818707 201.457058 \r\nL 184.648548 202.02581 \r\nL 185.258495 201.142606 \r\nL 187.698284 201.888988 \r\nL 188.918178 200.173382 \r\nL 190.138073 200.548637 \r\nL 190.74802 199.708867 \r\nL 196.237544 201.341295 \r\nL 196.847492 200.535031 \r\nL 198.677333 201.058934 \r\nL 199.897227 199.483589 \r\nL 200.507175 199.660487 \r\nL 201.117122 198.885524 \r\nL 209.046435 201.086336 \r\nL 213.316065 202.178073 \r\nL 213.926012 201.457058 \r\nL 215.145907 201.762459 \r\nL 215.755854 201.051439 \r\nL 223.685167 202.953443 \r\nL 224.295114 202.274639 \r\nL 225.515008 202.555124 \r\nL 226.124956 201.885174 \r\nL 229.784639 202.713979 \r\nL 230.394586 202.060097 \r\nL 232.224427 202.466843 \r\nL 233.444322 201.183581 \r\nL 241.373635 202.896 \r\nL 241.983582 202.282787 \r\nL 250.522842 203.990259 \r\nL 251.742737 202.818832 \r\nL 257.232261 203.864658 \r\nL 258.452155 202.733281 \r\nL 259.062103 202.848686 \r\nL 259.67205 202.289504 \r\nL 260.891944 202.520897 \r\nL 261.501891 201.967739 \r\nL 262.111838 202.083707 \r\nL 262.721786 201.535156 \r\nL 269.431204 202.78031 \r\nL 270.651099 201.720189 \r\nL 273.700835 202.272323 \r\nL 274.920729 201.235968 \r\nL 279.190359 201.999101 \r\nL 279.800306 201.493095 \r\nL 286.509725 202.646266 \r\nL 287.119672 202.154728 \r\nL 290.169408 202.661913 \r\nL 290.779355 202.178073 \r\nL 291.99925 202.379237 \r\nL 293.219144 201.423082 \r\nL 297.488774 202.12447 \r\nL 298.098721 201.656774 \r\nL 302.978299 202.435707 \r\nL 303.588246 201.977707 \r\nL 313.957348 203.548814 \r\nL 314.567295 203.107791 \r\nL 315.177242 203.197087 \r\nL 316.397136 202.32296 \r\nL 317.007083 202.413475 \r\nL 317.617031 201.980312 \r\nL 321.276714 202.519343 \r\nL 321.886661 202.092956 \r\nL 324.936397 202.534692 \r\nL 325.546344 202.114111 \r\nL 329.206027 202.635552 \r\nL 329.815974 202.221357 \r\nL 333.475657 202.733281 \r\nL 334.085604 202.325286 \r\nL 334.695551 202.409999 \r\nL 335.305498 202.004512 \r\nL 335.915446 202.089559 \r\nL 336.525393 201.686555 \r\nL 342.014917 202.441672 \r\nL 343.844759 201.261398 \r\nL 346.284548 201.595632 \r\nL 347.504442 200.822313 \r\nL 355.433755 201.886834 \r\nL 356.653649 201.136045 \r\nL 357.873544 201.297206 \r\nL 358.483491 200.925301 \r\nL 359.093438 201.005981 \r\nL 359.703385 200.63617 \r\nL 361.533227 200.878007 \r\nL 362.143174 200.511424 \r\nL 363.363068 200.67218 \r\nL 363.363068 200.67218 \r\n\" style=\"fill:none;stroke:#d62728;stroke-linecap:square;stroke-width:1.5;\"/>\r\n   </g>\r\n   <g id=\"line2d_17\">\r\n    <path clip-path=\"url(#p260fc92e6e)\" d=\"M 58.999432 240.700909 \r\nL 62.659115 240.700909 \r\nL 63.269062 212.903182 \r\nL 63.879009 215.991818 \r\nL 65.098903 220.48438 \r\nL 66.318798 223.594615 \r\nL 67.538692 225.875454 \r\nL 68.758586 227.619626 \r\nL 69.978481 228.996603 \r\nL 71.198375 230.111299 \r\nL 73.028217 231.435 \r\nL 73.638164 222.910364 \r\nL 75.468005 224.816493 \r\nL 76.6879 211.049998 \r\nL 77.297847 204.832875 \r\nL 78.517741 207.006693 \r\nL 79.127688 201.457058 \r\nL 80.95753 204.638994 \r\nL 81.567477 205.587992 \r\nL 82.787371 196.224545 \r\nL 84.617213 199.327548 \r\nL 86.447054 202.02581 \r\nL 88.276896 204.393674 \r\nL 90.716685 207.133842 \r\nL 93.156473 209.489426 \r\nL 94.986315 211.049998 \r\nL 95.596262 207.890476 \r\nL 98.036051 209.909579 \r\nL 101.085786 212.108959 \r\nL 101.695734 209.379525 \r\nL 104.745469 211.440142 \r\nL 105.355417 211.820153 \r\nL 105.965364 209.339369 \r\nL 109.0151 211.228619 \r\nL 112.674783 213.215516 \r\nL 115.724518 214.677505 \r\nL 116.334466 212.610575 \r\nL 120.604096 214.538342 \r\nL 121.214043 212.6333 \r\nL 125.483673 214.419422 \r\nL 127.313515 215.117159 \r\nL 127.923462 213.390861 \r\nL 129.143356 213.861725 \r\nL 129.753303 212.190418 \r\nL 134.632881 214.015092 \r\nL 137.072669 214.842557 \r\nL 137.682616 213.330839 \r\nL 143.172141 215.103001 \r\nL 146.221877 215.991818 \r\nL 146.831824 214.628557 \r\nL 148.661665 215.157052 \r\nL 149.88156 212.532546 \r\nL 150.491507 212.71909 \r\nL 151.101454 211.440142 \r\nL 154.15119 212.372015 \r\nL 154.761137 211.143831 \r\nL 157.200926 211.873637 \r\nL 157.810873 210.686185 \r\nL 159.030767 211.049998 \r\nL 159.640714 209.888971 \r\nL 161.470556 210.435928 \r\nL 162.080503 209.305827 \r\nL 163.910345 209.850253 \r\nL 164.520292 208.749499 \r\nL 165.740186 209.112583 \r\nL 166.350133 208.034654 \r\nL 173.059552 209.945977 \r\nL 179.159024 211.499256 \r\nL 179.768971 210.528501 \r\nL 184.038601 211.553778 \r\nL 184.648548 210.620278 \r\nL 185.258495 210.764894 \r\nL 185.868443 209.844103 \r\nL 192.577861 211.386944 \r\nL 193.187809 210.51333 \r\nL 193.797756 210.649313 \r\nL 195.01765 208.932077 \r\nL 201.117122 210.289719 \r\nL 201.727069 209.472824 \r\nL 209.046435 210.989977 \r\nL 209.656382 210.213078 \r\nL 211.486224 210.577475 \r\nL 212.096171 209.814544 \r\nL 212.706118 209.936626 \r\nL 213.316065 209.182225 \r\nL 215.755854 209.670886 \r\nL 216.365801 208.932077 \r\nL 220.025484 209.651372 \r\nL 220.635431 208.932077 \r\nL 221.855325 209.169159 \r\nL 222.465273 208.459679 \r\nL 228.564744 209.615278 \r\nL 229.174691 208.932077 \r\nL 230.394586 209.157388 \r\nL 231.004533 208.483047 \r\nL 237.713952 209.688479 \r\nL 238.323899 209.03977 \r\nL 243.203476 209.875706 \r\nL 245.033318 207.997699 \r\nL 245.643265 208.104226 \r\nL 246.863159 206.875843 \r\nL 247.473106 206.984955 \r\nL 248.083054 206.378314 \r\nL 254.792472 207.550824 \r\nL 255.40242 206.964967 \r\nL 265.771521 208.651763 \r\nL 266.381469 208.093606 \r\nL 270.651099 208.749499 \r\nL 271.261046 208.203854 \r\nL 278.580412 209.284086 \r\nL 279.190359 208.756561 \r\nL 281.020201 209.019115 \r\nL 281.630148 208.498078 \r\nL 284.069936 208.846217 \r\nL 284.679884 208.332666 \r\nL 287.729619 208.763095 \r\nL 288.949514 207.755454 \r\nL 294.439038 208.521629 \r\nL 295.048985 208.031417 \r\nL 295.658933 208.115397 \r\nL 296.26888 207.62874 \r\nL 300.53851 208.211877 \r\nL 301.148457 207.73476 \r\nL 315.787189 209.609612 \r\nL 316.397136 209.683114 \r\nL 317.007083 209.231785 \r\nL 318.836925 209.452878 \r\nL 320.666766 208.119387 \r\nL 321.886661 208.270228 \r\nL 322.496608 207.831541 \r\nL 324.326449 208.057708 \r\nL 324.936397 207.623521 \r\nL 327.986132 207.997699 \r\nL 328.59608 207.569533 \r\nL 329.815974 207.718436 \r\nL 330.425921 207.293776 \r\nL 334.085604 207.737232 \r\nL 334.695551 207.31909 \r\nL 335.305498 207.392619 \r\nL 335.915446 206.977072 \r\nL 337.13534 207.124659 \r\nL 338.355234 206.301978 \r\nL 340.185076 206.525348 \r\nL 341.40497 205.714113 \r\nL 345.6746 206.234086 \r\nL 346.284548 205.835963 \r\nL 351.164125 206.417045 \r\nL 351.774072 206.02599 \r\nL 352.993966 206.169571 \r\nL 353.603914 205.781448 \r\nL 358.483491 206.349246 \r\nL 359.093438 205.967847 \r\nL 360.92328 206.177925 \r\nL 361.533227 205.799939 \r\nL 363.363068 206.009345 \r\nL 363.363068 206.009345 \r\n\" style=\"fill:none;stroke:#9467bd;stroke-linecap:square;stroke-width:1.5;\"/>\r\n   </g>\r\n   <g id=\"line2d_18\">\r\n    <path clip-path=\"url(#p260fc92e6e)\" d=\"M 58.999432 240.700909 \r\nL 60.829273 240.700909 \r\nL 61.43922 196.224545 \r\nL 62.049168 166.573634 \r\nL 62.659115 145.394415 \r\nL 63.269062 157.307727 \r\nL 63.879009 166.573634 \r\nL 64.488956 151.74818 \r\nL 65.098903 159.834791 \r\nL 65.708851 148.04182 \r\nL 66.928745 161.278829 \r\nL 67.538692 151.74818 \r\nL 68.758586 162.213207 \r\nL 69.978481 170.475075 \r\nL 71.198375 177.163244 \r\nL 72.418269 182.688261 \r\nL 73.638164 187.329274 \r\nL 74.248111 189.382028 \r\nL 74.858058 183.046365 \r\nL 76.077952 187.02254 \r\nL 77.297847 190.485661 \r\nL 77.907794 185.105455 \r\nL 79.737635 189.870779 \r\nL 81.567477 193.883684 \r\nL 83.397319 197.309336 \r\nL 85.22716 200.26785 \r\nL 85.837107 196.224545 \r\nL 87.666949 199.004318 \r\nL 88.276896 195.316863 \r\nL 89.49679 197.09663 \r\nL 90.106737 193.658601 \r\nL 91.936579 196.224545 \r\nL 92.546526 193.047662 \r\nL 94.986315 196.224545 \r\nL 97.426103 199.004318 \r\nL 98.036051 196.224545 \r\nL 98.645998 196.898428 \r\nL 99.255945 194.233065 \r\nL 101.695734 196.850972 \r\nL 103.525575 198.628672 \r\nL 104.135522 196.224545 \r\nL 104.745469 196.809759 \r\nL 105.355417 194.4917 \r\nL 107.795205 196.773636 \r\nL 109.0151 192.473525 \r\nL 110.844941 194.155878 \r\nL 111.454888 192.134764 \r\nL 113.28473 193.753636 \r\nL 113.894677 191.825784 \r\nL 115.114571 192.876861 \r\nL 115.724518 191.019864 \r\nL 116.334466 191.542823 \r\nL 116.944413 189.738408 \r\nL 119.384201 191.776909 \r\nL 119.994149 190.059503 \r\nL 123.653832 192.899209 \r\nL 124.263779 193.341817 \r\nL 124.873726 191.736104 \r\nL 126.09362 192.618353 \r\nL 126.703567 191.062111 \r\nL 130.36325 193.586116 \r\nL 132.193092 194.754252 \r\nL 132.803039 193.308063 \r\nL 134.022933 194.072465 \r\nL 134.632881 192.666435 \r\nL 135.242828 193.047662 \r\nL 135.852775 191.671847 \r\nL 140.122405 194.233065 \r\nL 140.732352 192.930001 \r\nL 145.001982 195.284905 \r\nL 145.61193 194.04738 \r\nL 149.88156 196.224545 \r\nL 150.491507 195.046365 \r\nL 151.711401 195.643154 \r\nL 152.321348 194.4917 \r\nL 152.931296 194.789825 \r\nL 153.541243 193.658601 \r\nL 155.371084 194.546191 \r\nL 155.981031 193.444771 \r\nL 160.860609 195.695064 \r\nL 163.300397 196.741711 \r\nL 163.910345 195.710367 \r\nL 166.350133 196.727104 \r\nL 166.96008 195.724812 \r\nL 167.570028 195.976073 \r\nL 169.399869 193.047662 \r\nL 171.839658 194.072465 \r\nL 172.449605 193.132606 \r\nL 178.549077 195.547241 \r\nL 179.159024 194.652148 \r\nL 180.378918 195.112637 \r\nL 182.20876 192.499923 \r\nL 188.308231 194.762881 \r\nL 188.918178 194.977545 \r\nL 189.528126 194.155878 \r\nL 190.74802 194.584863 \r\nL 191.357967 193.776305 \r\nL 195.627597 195.236183 \r\nL 196.237544 194.453363 \r\nL 196.847492 194.657096 \r\nL 197.457439 193.883684 \r\nL 202.337016 195.47071 \r\nL 203.55691 193.982039 \r\nL 205.996699 194.754252 \r\nL 206.606646 194.028183 \r\nL 209.656382 194.969165 \r\nL 210.266329 194.259725 \r\nL 213.926012 195.352459 \r\nL 215.145907 193.974769 \r\nL 216.365801 194.33559 \r\nL 216.975748 193.658601 \r\nL 217.585695 193.838839 \r\nL 218.195642 193.168919 \r\nL 219.415537 193.529007 \r\nL 220.025484 192.867838 \r\nL 220.635431 193.047662 \r\nL 221.245378 192.39325 \r\nL 222.465273 192.752414 \r\nL 223.07522 192.106362 \r\nL 224.905061 192.640369 \r\nL 225.515008 192.00416 \r\nL 226.124956 192.18124 \r\nL 227.34485 190.925916 \r\nL 234.054269 192.827046 \r\nL 234.664216 192.223211 \r\nL 237.104005 192.885023 \r\nL 237.713952 192.291263 \r\nL 240.763688 193.100788 \r\nL 241.373635 192.518181 \r\nL 248.083054 194.222395 \r\nL 249.302948 193.098412 \r\nL 251.742737 193.699075 \r\nL 252.352684 193.147565 \r\nL 253.572578 193.444771 \r\nL 254.792472 192.357037 \r\nL 259.67205 193.529007 \r\nL 260.281997 192.999672 \r\nL 265.161574 194.125365 \r\nL 265.771521 193.608288 \r\nL 266.991416 193.883684 \r\nL 267.601363 193.371833 \r\nL 273.090887 194.581953 \r\nL 273.700835 194.082625 \r\nL 276.140623 194.604957 \r\nL 277.360518 193.622865 \r\nL 277.970465 193.753636 \r\nL 278.580412 193.267668 \r\nL 280.410253 193.658601 \r\nL 281.020201 193.17822 \r\nL 281.630148 193.308063 \r\nL 282.240095 192.831254 \r\nL 287.119672 193.852472 \r\nL 287.729619 193.385628 \r\nL 290.779355 194.006564 \r\nL 291.389302 193.546649 \r\nL 296.878827 194.632041 \r\nL 297.488774 194.182262 \r\nL 303.588246 195.339443 \r\nL 304.80814 194.463106 \r\nL 310.297665 195.47071 \r\nL 310.907612 195.042806 \r\nL 313.3474 195.479727 \r\nL 313.957348 195.056909 \r\nL 320.666766 196.224545 \r\nL 321.276714 195.811771 \r\nL 330.425921 197.321495 \r\nL 331.035868 196.921045 \r\nL 332.255763 197.116055 \r\nL 332.86571 196.718727 \r\nL 338.965181 197.674863 \r\nL 339.575129 197.285802 \r\nL 345.064653 198.117155 \r\nL 345.6746 197.735421 \r\nL 348.724336 198.186737 \r\nL 349.944231 197.434152 \r\nL 352.384019 197.793213 \r\nL 352.993966 197.421633 \r\nL 354.213861 197.600105 \r\nL 354.823808 197.231212 \r\nL 363.363068 198.448364 \r\nL 363.363068 198.448364 \r\n\" style=\"fill:none;stroke:#8c564b;stroke-linecap:square;stroke-width:1.5;\"/>\r\n   </g>\r\n   <g id=\"line2d_19\">\r\n    <path clip-path=\"url(#p260fc92e6e)\" d=\"M 43.78125 203.563145 \r\nL 378.58125 203.563145 \r\n\" style=\"fill:none;stroke:#000000;stroke-dasharray:5.55,2.4;stroke-dashoffset:0;stroke-width:1.5;\"/>\r\n   </g>\r\n   <g id=\"patch_3\">\r\n    <path d=\"M 43.78125 251.82 \r\nL 43.78125 7.2 \r\n\" style=\"fill:none;stroke:#000000;stroke-linecap:square;stroke-linejoin:miter;stroke-width:0.8;\"/>\r\n   </g>\r\n   <g id=\"patch_4\">\r\n    <path d=\"M 378.58125 251.82 \r\nL 378.58125 7.2 \r\n\" style=\"fill:none;stroke:#000000;stroke-linecap:square;stroke-linejoin:miter;stroke-width:0.8;\"/>\r\n   </g>\r\n   <g id=\"patch_5\">\r\n    <path d=\"M 43.78125 251.82 \r\nL 378.58125 251.82 \r\n\" style=\"fill:none;stroke:#000000;stroke-linecap:square;stroke-linejoin:miter;stroke-width:0.8;\"/>\r\n   </g>\r\n   <g id=\"patch_6\">\r\n    <path d=\"M 43.78125 7.2 \r\nL 378.58125 7.2 \r\n\" style=\"fill:none;stroke:#000000;stroke-linecap:square;stroke-linejoin:miter;stroke-width:0.8;\"/>\r\n   </g>\r\n   <g id=\"legend_1\">\r\n    <g id=\"patch_7\">\r\n     <path d=\"M 295.726562 103.26875 \r\nL 371.58125 103.26875 \r\nQ 373.58125 103.26875 373.58125 101.26875 \r\nL 373.58125 14.2 \r\nQ 373.58125 12.2 371.58125 12.2 \r\nL 295.726562 12.2 \r\nQ 293.726562 12.2 293.726562 14.2 \r\nL 293.726562 101.26875 \r\nQ 293.726562 103.26875 295.726562 103.26875 \r\nz\r\n\" style=\"fill:#ffffff;opacity:0.8;stroke:#cccccc;stroke-linejoin:miter;\"/>\r\n    </g>\r\n    <g id=\"line2d_20\">\r\n     <path d=\"M 297.726562 20.298437 \r\nL 317.726562 20.298437 \r\n\" style=\"fill:none;stroke:#1f77b4;stroke-linecap:square;stroke-width:1.5;\"/>\r\n    </g>\r\n    <g id=\"line2d_21\"/>\r\n    <g id=\"text_15\">\r\n     <!-- P(die=1) -->\r\n     <g transform=\"translate(325.726562 23.798437)scale(0.1 -0.1)\">\r\n      <defs>\r\n       <path d=\"M 1259 4147 \r\nL 1259 2394 \r\nL 2053 2394 \r\nQ 2494 2394 2734 2622 \r\nQ 2975 2850 2975 3272 \r\nQ 2975 3691 2734 3919 \r\nQ 2494 4147 2053 4147 \r\nL 1259 4147 \r\nz\r\nM 628 4666 \r\nL 2053 4666 \r\nQ 2838 4666 3239 4311 \r\nQ 3641 3956 3641 3272 \r\nQ 3641 2581 3239 2228 \r\nQ 2838 1875 2053 1875 \r\nL 1259 1875 \r\nL 1259 0 \r\nL 628 0 \r\nL 628 4666 \r\nz\r\n\" id=\"DejaVuSans-50\" transform=\"scale(0.015625)\"/>\r\n       <path d=\"M 1984 4856 \r\nQ 1566 4138 1362 3434 \r\nQ 1159 2731 1159 2009 \r\nQ 1159 1288 1364 580 \r\nQ 1569 -128 1984 -844 \r\nL 1484 -844 \r\nQ 1016 -109 783 600 \r\nQ 550 1309 550 2009 \r\nQ 550 2706 781 3412 \r\nQ 1013 4119 1484 4856 \r\nL 1984 4856 \r\nz\r\n\" id=\"DejaVuSans-28\" transform=\"scale(0.015625)\"/>\r\n       <path d=\"M 678 2906 \r\nL 4684 2906 \r\nL 4684 2381 \r\nL 678 2381 \r\nL 678 2906 \r\nz\r\nM 678 1631 \r\nL 4684 1631 \r\nL 4684 1100 \r\nL 678 1100 \r\nL 678 1631 \r\nz\r\n\" id=\"DejaVuSans-3d\" transform=\"scale(0.015625)\"/>\r\n       <path d=\"M 513 4856 \r\nL 1013 4856 \r\nQ 1481 4119 1714 3412 \r\nQ 1947 2706 1947 2009 \r\nQ 1947 1309 1714 600 \r\nQ 1481 -109 1013 -844 \r\nL 513 -844 \r\nQ 928 -128 1133 580 \r\nQ 1338 1288 1338 2009 \r\nQ 1338 2731 1133 3434 \r\nQ 928 4138 513 4856 \r\nz\r\n\" id=\"DejaVuSans-29\" transform=\"scale(0.015625)\"/>\r\n      </defs>\r\n      <use xlink:href=\"#DejaVuSans-50\"/>\r\n      <use x=\"60.302734\" xlink:href=\"#DejaVuSans-28\"/>\r\n      <use x=\"99.316406\" xlink:href=\"#DejaVuSans-64\"/>\r\n      <use x=\"162.792969\" xlink:href=\"#DejaVuSans-69\"/>\r\n      <use x=\"190.576172\" xlink:href=\"#DejaVuSans-65\"/>\r\n      <use x=\"252.099609\" xlink:href=\"#DejaVuSans-3d\"/>\r\n      <use x=\"335.888672\" xlink:href=\"#DejaVuSans-31\"/>\r\n      <use x=\"399.511719\" xlink:href=\"#DejaVuSans-29\"/>\r\n     </g>\r\n    </g>\r\n    <g id=\"line2d_22\">\r\n     <path d=\"M 297.726562 34.976562 \r\nL 317.726562 34.976562 \r\n\" style=\"fill:none;stroke:#ff7f0e;stroke-linecap:square;stroke-width:1.5;\"/>\r\n    </g>\r\n    <g id=\"line2d_23\"/>\r\n    <g id=\"text_16\">\r\n     <!-- P(die=2) -->\r\n     <g transform=\"translate(325.726562 38.476562)scale(0.1 -0.1)\">\r\n      <use xlink:href=\"#DejaVuSans-50\"/>\r\n      <use x=\"60.302734\" xlink:href=\"#DejaVuSans-28\"/>\r\n      <use x=\"99.316406\" xlink:href=\"#DejaVuSans-64\"/>\r\n      <use x=\"162.792969\" xlink:href=\"#DejaVuSans-69\"/>\r\n      <use x=\"190.576172\" xlink:href=\"#DejaVuSans-65\"/>\r\n      <use x=\"252.099609\" xlink:href=\"#DejaVuSans-3d\"/>\r\n      <use x=\"335.888672\" xlink:href=\"#DejaVuSans-32\"/>\r\n      <use x=\"399.511719\" xlink:href=\"#DejaVuSans-29\"/>\r\n     </g>\r\n    </g>\r\n    <g id=\"line2d_24\">\r\n     <path d=\"M 297.726562 49.654687 \r\nL 317.726562 49.654687 \r\n\" style=\"fill:none;stroke:#2ca02c;stroke-linecap:square;stroke-width:1.5;\"/>\r\n    </g>\r\n    <g id=\"line2d_25\"/>\r\n    <g id=\"text_17\">\r\n     <!-- P(die=3) -->\r\n     <g transform=\"translate(325.726562 53.154687)scale(0.1 -0.1)\">\r\n      <use xlink:href=\"#DejaVuSans-50\"/>\r\n      <use x=\"60.302734\" xlink:href=\"#DejaVuSans-28\"/>\r\n      <use x=\"99.316406\" xlink:href=\"#DejaVuSans-64\"/>\r\n      <use x=\"162.792969\" xlink:href=\"#DejaVuSans-69\"/>\r\n      <use x=\"190.576172\" xlink:href=\"#DejaVuSans-65\"/>\r\n      <use x=\"252.099609\" xlink:href=\"#DejaVuSans-3d\"/>\r\n      <use x=\"335.888672\" xlink:href=\"#DejaVuSans-33\"/>\r\n      <use x=\"399.511719\" xlink:href=\"#DejaVuSans-29\"/>\r\n     </g>\r\n    </g>\r\n    <g id=\"line2d_26\">\r\n     <path d=\"M 297.726562 64.332812 \r\nL 317.726562 64.332812 \r\n\" style=\"fill:none;stroke:#d62728;stroke-linecap:square;stroke-width:1.5;\"/>\r\n    </g>\r\n    <g id=\"line2d_27\"/>\r\n    <g id=\"text_18\">\r\n     <!-- P(die=4) -->\r\n     <g transform=\"translate(325.726562 67.832812)scale(0.1 -0.1)\">\r\n      <use xlink:href=\"#DejaVuSans-50\"/>\r\n      <use x=\"60.302734\" xlink:href=\"#DejaVuSans-28\"/>\r\n      <use x=\"99.316406\" xlink:href=\"#DejaVuSans-64\"/>\r\n      <use x=\"162.792969\" xlink:href=\"#DejaVuSans-69\"/>\r\n      <use x=\"190.576172\" xlink:href=\"#DejaVuSans-65\"/>\r\n      <use x=\"252.099609\" xlink:href=\"#DejaVuSans-3d\"/>\r\n      <use x=\"335.888672\" xlink:href=\"#DejaVuSans-34\"/>\r\n      <use x=\"399.511719\" xlink:href=\"#DejaVuSans-29\"/>\r\n     </g>\r\n    </g>\r\n    <g id=\"line2d_28\">\r\n     <path d=\"M 297.726562 79.010937 \r\nL 317.726562 79.010937 \r\n\" style=\"fill:none;stroke:#9467bd;stroke-linecap:square;stroke-width:1.5;\"/>\r\n    </g>\r\n    <g id=\"line2d_29\"/>\r\n    <g id=\"text_19\">\r\n     <!-- P(die=5) -->\r\n     <g transform=\"translate(325.726562 82.510937)scale(0.1 -0.1)\">\r\n      <use xlink:href=\"#DejaVuSans-50\"/>\r\n      <use x=\"60.302734\" xlink:href=\"#DejaVuSans-28\"/>\r\n      <use x=\"99.316406\" xlink:href=\"#DejaVuSans-64\"/>\r\n      <use x=\"162.792969\" xlink:href=\"#DejaVuSans-69\"/>\r\n      <use x=\"190.576172\" xlink:href=\"#DejaVuSans-65\"/>\r\n      <use x=\"252.099609\" xlink:href=\"#DejaVuSans-3d\"/>\r\n      <use x=\"335.888672\" xlink:href=\"#DejaVuSans-35\"/>\r\n      <use x=\"399.511719\" xlink:href=\"#DejaVuSans-29\"/>\r\n     </g>\r\n    </g>\r\n    <g id=\"line2d_30\">\r\n     <path d=\"M 297.726562 93.689062 \r\nL 317.726562 93.689062 \r\n\" style=\"fill:none;stroke:#8c564b;stroke-linecap:square;stroke-width:1.5;\"/>\r\n    </g>\r\n    <g id=\"line2d_31\"/>\r\n    <g id=\"text_20\">\r\n     <!-- P(die=6) -->\r\n     <g transform=\"translate(325.726562 97.189062)scale(0.1 -0.1)\">\r\n      <use xlink:href=\"#DejaVuSans-50\"/>\r\n      <use x=\"60.302734\" xlink:href=\"#DejaVuSans-28\"/>\r\n      <use x=\"99.316406\" xlink:href=\"#DejaVuSans-64\"/>\r\n      <use x=\"162.792969\" xlink:href=\"#DejaVuSans-69\"/>\r\n      <use x=\"190.576172\" xlink:href=\"#DejaVuSans-65\"/>\r\n      <use x=\"252.099609\" xlink:href=\"#DejaVuSans-3d\"/>\r\n      <use x=\"335.888672\" xlink:href=\"#DejaVuSans-36\"/>\r\n      <use x=\"399.511719\" xlink:href=\"#DejaVuSans-29\"/>\r\n     </g>\r\n    </g>\r\n   </g>\r\n  </g>\r\n </g>\r\n <defs>\r\n  <clipPath id=\"p260fc92e6e\">\r\n   <rect height=\"244.62\" width=\"334.8\" x=\"43.78125\" y=\"7.2\"/>\r\n  </clipPath>\r\n </defs>\r\n</svg>\r\n",
      "text/plain": [
       "<Figure size 432x324 with 1 Axes>"
      ]
     },
     "metadata": {
      "needs_background": "light"
     },
     "output_type": "display_data"
    }
   ],
   "source": [
    "fair_probs = torch.ones([6]) / 6\n",
    "counts = multinomial.Multinomial(1, fair_probs).sample((500,))\n",
    "cum_counts = counts.cumsum(dim=0)\n",
    "estimates = cum_counts / cum_counts.sum(dim=1, keepdims=True)\n",
    "\n",
    "d2l.set_figsize((6, 4.5))\n",
    "for i in range(6):\n",
    "    d2l.plt.plot(estimates[:, i].numpy(),\n",
    "                 label=(\"P(die=\" + str(i + 1) + \")\"))\n",
    "d2l.plt.axhline(y=0.167, color='black', linestyle='dashed')\n",
    "d2l.plt.gca().set_xlabel('Groups of experiments')\n",
    "d2l.plt.gca().set_ylabel('Estimated probability')\n",
    "d2l.plt.legend()\n",
    "counts"
   ]
  },
  {
   "cell_type": "code",
   "execution_count": 104,
   "metadata": {},
   "outputs": [
    {
     "name": "stdout",
     "output_type": "stream",
     "text": [
      "Help on built-in function tensor:\n",
      "\n",
      "tensor(...)\n",
      "    tensor(data, *, dtype=None, device=None, requires_grad=False, pin_memory=False) -> Tensor\n",
      "    \n",
      "    Constructs a tensor with :attr:`data`.\n",
      "    \n",
      "    .. warning::\n",
      "    \n",
      "        :func:`torch.tensor` always copies :attr:`data`. If you have a Tensor\n",
      "        ``data`` and want to avoid a copy, use :func:`torch.Tensor.requires_grad_`\n",
      "        or :func:`torch.Tensor.detach`.\n",
      "        If you have a NumPy ``ndarray`` and want to avoid a copy, use\n",
      "        :func:`torch.as_tensor`.\n",
      "    \n",
      "    .. warning::\n",
      "    \n",
      "        When data is a tensor `x`, :func:`torch.tensor` reads out 'the data' from whatever it is passed,\n",
      "        and constructs a leaf variable. Therefore ``torch.tensor(x)`` is equivalent to ``x.clone().detach()``\n",
      "        and ``torch.tensor(x, requires_grad=True)`` is equivalent to ``x.clone().detach().requires_grad_(True)``.\n",
      "        The equivalents using ``clone()`` and ``detach()`` are recommended.\n",
      "    \n",
      "    Args:\n",
      "        data (array_like): Initial data for the tensor. Can be a list, tuple,\n",
      "            NumPy ``ndarray``, scalar, and other types.\n",
      "    \n",
      "    Keyword args:\n",
      "        dtype (:class:`torch.dtype`, optional): the desired data type of returned tensor.\n",
      "            Default: if ``None``, infers data type from :attr:`data`.\n",
      "        device (:class:`torch.device`, optional): the desired device of returned tensor.\n",
      "            Default: if ``None``, uses the current device for the default tensor type\n",
      "            (see :func:`torch.set_default_tensor_type`). :attr:`device` will be the CPU\n",
      "            for CPU tensor types and the current CUDA device for CUDA tensor types.\n",
      "        requires_grad (bool, optional): If autograd should record operations on the\n",
      "            returned tensor. Default: ``False``.\n",
      "        pin_memory (bool, optional): If set, returned tensor would be allocated in\n",
      "            the pinned memory. Works only for CPU tensors. Default: ``False``.\n",
      "    \n",
      "    \n",
      "    Example::\n",
      "    \n",
      "        >>> torch.tensor([[0.1, 1.2], [2.2, 3.1], [4.9, 5.2]])\n",
      "        tensor([[ 0.1000,  1.2000],\n",
      "                [ 2.2000,  3.1000],\n",
      "                [ 4.9000,  5.2000]])\n",
      "    \n",
      "        >>> torch.tensor([0, 1])  # Type inference on data\n",
      "        tensor([ 0,  1])\n",
      "    \n",
      "        >>> torch.tensor([[0.11111, 0.222222, 0.3333333]],\n",
      "        ...              dtype=torch.float64,\n",
      "        ...              device=torch.device('cuda:0'))  # creates a torch.cuda.DoubleTensor\n",
      "        tensor([[ 0.1111,  0.2222,  0.3333]], dtype=torch.float64, device='cuda:0')\n",
      "    \n",
      "        >>> torch.tensor(3.14159)  # Create a scalar (zero-dimensional tensor)\n",
      "        tensor(3.1416)\n",
      "    \n",
      "        >>> torch.tensor([])  # Create an empty tensor (of size (0,))\n",
      "        tensor([])\n",
      "\n"
     ]
    }
   ],
   "source": [
    "help(torch.tensor)"
   ]
  }
 ],
 "metadata": {
  "interpreter": {
   "hash": "c19d7a919b51c2e2b30ff98983f3a46705a8e13bdab55e207a85fdc0147c8841"
  },
  "kernelspec": {
   "display_name": "Python 3.7.11 ('myenv')",
   "language": "python",
   "name": "python3"
  },
  "language_info": {
   "codemirror_mode": {
    "name": "ipython",
    "version": 3
   },
   "file_extension": ".py",
   "mimetype": "text/x-python",
   "name": "python",
   "nbconvert_exporter": "python",
   "pygments_lexer": "ipython3",
   "version": "3.7.11"
  },
  "orig_nbformat": 4
 },
 "nbformat": 4,
 "nbformat_minor": 2
}
